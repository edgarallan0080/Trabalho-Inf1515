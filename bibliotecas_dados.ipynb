{
 "cells": [
  {
   "cell_type": "markdown",
   "id": "23fc76aa",
   "metadata": {},
   "source": [
    "# Biblioteca - Coleta de Dados\n",
    "\n",
    "## Transformando em Planilha\n",
    "\n",
    "### Pandas\n",
    "\n",
    "A biblioteca pandas é uma das mais importantes do Python para manipulação e análise de dados, sendo especialmente útil na automatização de processos que envolvem leitura, transformação e armazenamento de informações estruturadas. Ela permite ler arquivos CSV, Excel, JSON e muitos outros formatos, organizar esses dados em tabelas chamadas DataFrames e realizar operações como filtragem, agrupamento, substituição, ordenação e cálculo estatístico de maneira rápida e eficiente. Em tarefas automatizadas, o pandas é frequentemente utilizado para processar grandes volumes de dados coletados automaticamente da internet, limpá-los e salvar em arquivos organizados para posterior análise, envio ou visualização."
   ]
  },
  {
   "cell_type": "code",
   "execution_count": 4,
   "id": "de286060",
   "metadata": {},
   "outputs": [
    {
     "name": "stdout",
     "output_type": "stream",
     "text": [
      "  Div        Date   Time    HomeTeam        AwayTeam  FTHG  FTAG FTR  HTHG  \\\n",
      "0  E0  13/08/2021  20:00   Brentford         Arsenal     2     0   H     1   \n",
      "1  E0  14/08/2021  12:30  Man United           Leeds     5     1   H     1   \n",
      "2  E0  14/08/2021  15:00     Burnley        Brighton     1     2   A     1   \n",
      "3  E0  14/08/2021  15:00     Chelsea  Crystal Palace     3     0   H     2   \n",
      "4  E0  14/08/2021  15:00     Everton     Southampton     3     1   H     0   \n",
      "\n",
      "   HTAG  ... AvgC<2.5  AHCh  B365CAHH  B365CAHA  PCAHH  PCAHA  MaxCAHH  \\\n",
      "0     0  ...     1.62  0.50      1.75      2.05   1.81   2.13     2.05   \n",
      "1     0  ...     2.25 -1.00      2.05      1.75   2.17   1.77     2.19   \n",
      "2     0  ...     1.62  0.25      1.79      2.15   1.81   2.14     1.82   \n",
      "3     0  ...     1.94 -1.50      2.05      1.75   2.12   1.81     2.16   \n",
      "4     1  ...     1.67 -0.50      2.05      1.88   2.05   1.88     2.08   \n",
      "\n",
      "   MaxCAHA  AvgCAHH  AvgCAHA  \n",
      "0     2.17     1.80     2.09  \n",
      "1     1.93     2.10     1.79  \n",
      "2     2.19     1.79     2.12  \n",
      "3     1.93     2.06     1.82  \n",
      "4     1.90     2.03     1.86  \n",
      "\n",
      "[5 rows x 106 columns]\n"
     ]
    }
   ],
   "source": [
    "\n",
    "import pandas as pd\n",
    "df_premier21 = pd.read_csv('https://www.football-data.co.uk/mmz4281/2122/E0.csv')\n",
    "print(df_premier21.head())\n"
   ]
  },
  {
   "cell_type": "code",
   "execution_count": 5,
   "id": "5f4e26a8",
   "metadata": {},
   "outputs": [
    {
     "name": "stdout",
     "output_type": "stream",
     "text": [
      "  Div        date   Time   home_team       away_team  home_goals  away_goals  \\\n",
      "0  E0  13/08/2021  20:00   Brentford         Arsenal           2           0   \n",
      "1  E0  14/08/2021  12:30  Man United           Leeds           5           1   \n",
      "2  E0  14/08/2021  15:00     Burnley        Brighton           1           2   \n",
      "3  E0  14/08/2021  15:00     Chelsea  Crystal Palace           3           0   \n",
      "4  E0  14/08/2021  15:00     Everton     Southampton           3           1   \n",
      "\n",
      "  FTR  HTHG  HTAG  ... AvgC<2.5  AHCh  B365CAHH  B365CAHA  PCAHH  PCAHA  \\\n",
      "0   H     1     0  ...     1.62  0.50      1.75      2.05   1.81   2.13   \n",
      "1   H     1     0  ...     2.25 -1.00      2.05      1.75   2.17   1.77   \n",
      "2   A     1     0  ...     1.62  0.25      1.79      2.15   1.81   2.14   \n",
      "3   H     2     0  ...     1.94 -1.50      2.05      1.75   2.12   1.81   \n",
      "4   H     0     1  ...     1.67 -0.50      2.05      1.88   2.05   1.88   \n",
      "\n",
      "   MaxCAHH  MaxCAHA  AvgCAHH  AvgCAHA  \n",
      "0     2.05     2.17     1.80     2.09  \n",
      "1     2.19     1.93     2.10     1.79  \n",
      "2     1.82     2.19     1.79     2.12  \n",
      "3     2.16     1.93     2.06     1.82  \n",
      "4     2.08     1.90     2.03     1.86  \n",
      "\n",
      "[5 rows x 106 columns]\n"
     ]
    }
   ],
   "source": [
    "df_premier21 = df_premier21.rename(columns={'Date':'date',\n",
    "                                            'HomeTeam':'home_team',\n",
    "                                            'AwayTeam':'away_team',\n",
    "                                            'FTHG': 'home_goals',\n",
    "                                            'FTAG': 'away_goals'})\n",
    "\n",
    "print(df_premier21.head())"
   ]
  },
  {
   "cell_type": "code",
   "execution_count": 7,
   "id": "10727eee",
   "metadata": {},
   "outputs": [
    {
     "name": "stdout",
     "output_type": "stream",
     "text": [
      "         date   Time   home_team       away_team  home_goals  away_goals\n",
      "0  13/08/2021  20:00   Brentford         Arsenal           2           0\n",
      "1  14/08/2021  12:30  Man United           Leeds           5           1\n",
      "2  14/08/2021  15:00     Burnley        Brighton           1           2\n",
      "3  14/08/2021  15:00     Chelsea  Crystal Palace           3           0\n",
      "4  14/08/2021  15:00     Everton     Southampton           3           1\n"
     ]
    }
   ],
   "source": [
    "df_filtrado = df_premier21.iloc[:, 1:7]  # Isso pega as colunas de índice 1 a 6\n",
    "\n",
    "# Passo 4: Filtrar apenas linhas em que a data contém \"08/\"\n",
    "df_filtrado_agosto = df_filtrado[df_filtrado['date'].str.contains('08/')]\n",
    "\n",
    "# Passo 5: Salvar o novo DataFrame em um CSV separado\n",
    "df_filtrado_agosto.to_csv('dados_coletados.csv', index=False)\n",
    "\n",
    "print(df_filtrado_agosto.head())"
   ]
  },
  {
   "cell_type": "markdown",
   "id": "17b8b4a2",
   "metadata": {},
   "source": [
    "## Colentando dados automatizados\n",
    "\n",
    "### schedule\n",
    "\n",
    "A biblioteca schedule serve para agendar a execução automática de funções em horários ou intervalos específicos, permitindo que um código Python rode sozinho em segundo plano sem a necessidade de intervenção humana. No contexto de automatização de processos, como a coleta de dados de um site que se atualiza constantemente, ela permite definir tarefas como “executar essa função todo dia às 10h” ou “a cada 30 minutos”, garantindo que os dados sejam coletados, processados e salvos de forma recorrente e previsível. Isso torna possível transformar scripts simples em robôs que operam de forma autônoma e programada.\n",
    "\n",
    "### time\n",
    "\n",
    "\n",
    "A biblioteca time é usada para controlar pausas e intervalos de execução dentro de scripts Python, sendo especialmente útil em processos automatizados que exigem espera entre tarefas ou ciclos contínuos. No contexto do nosso projeto, ela é usada em conjunto com a biblioteca schedule para manter o programa em funcionamento constante, verificando a cada segundo se chegou o momento de executar a tarefa agendada. Com funções como time.sleep(), conseguimos fazer o script esperar de forma controlada, sem sobrecarregar o sistema, garantindo que a automação funcione de forma estável e no tempo certo.\n",
    "\n",
    "\n",
    "\n",
    "\n",
    "\n",
    "\n",
    "\n",
    "\n",
    "\n"
   ]
  },
  {
   "cell_type": "code",
   "execution_count": 2,
   "id": "7bc95f5e",
   "metadata": {},
   "outputs": [
    {
     "name": "stdout",
     "output_type": "stream",
     "text": [
      "Iniciando monitoramento automático...\n",
      "\n",
      "\n",
      "PETROBRAS   PN      N2\n",
      "Preço atual: R$ 29.7\n",
      "Variação: 0.34000015 (1.16%)\n",
      "----------------------------------------\n",
      "\n",
      "PETROBRAS   PN      N2\n",
      "Preço atual: R$ 29.7\n",
      "Variação: 0.34000015 (1.16%)\n",
      "----------------------------------------\n",
      "\n",
      "PETROBRAS   PN      N2\n",
      "Preço atual: R$ 29.7\n",
      "Variação: 0.34000015 (1.16%)\n",
      "----------------------------------------\n",
      "\n",
      "✅ Coleta concluída 3 vezes. Encerrando monitoramento.\n"
     ]
    },
    {
     "data": {
      "text/html": [
       "<script>Jupyter.notebook.kernel.shutdown()</script>"
      ],
      "text/plain": [
       "<IPython.core.display.HTML object>"
      ]
     },
     "metadata": {},
     "output_type": "display_data"
    },
    {
     "name": "stdout",
     "output_type": "stream",
     "text": [
      "\n",
      "PETROBRAS   PN      N2\n",
      "Preço atual: R$ 29.71\n",
      "Variação: 0.34999847 (1.19%)\n",
      "----------------------------------------\n",
      "\n",
      "✅ Coleta concluída 3 vezes. Encerrando monitoramento.\n",
      "\n",
      "PETROBRAS   PN      N2\n",
      "Preço atual: R$ 29.71\n",
      "Variação: 0.34999847 (1.19%)\n",
      "----------------------------------------\n",
      "\n",
      "✅ Coleta concluída 3 vezes. Encerrando monitoramento.\n"
     ]
    },
    {
     "data": {
      "text/html": [
       "<script>Jupyter.notebook.kernel.shutdown()</script>"
      ],
      "text/plain": [
       "<IPython.core.display.HTML object>"
      ]
     },
     "metadata": {},
     "output_type": "display_data"
    }
   ],
   "source": [
    "import yfinance as yf\n",
    "import schedule\n",
    "import time\n",
    "\n",
    "contador = 0\n",
    "encerrar = False  # flag para parar o loop\n",
    "\n",
    "def coletar_dados():\n",
    "    global contador, encerrar\n",
    "\n",
    "    contador += 1\n",
    "\n",
    "    acao = yf.Ticker(\"PETR4.SA\")\n",
    "    dados = acao.info\n",
    "\n",
    "    nome = dados.get(\"shortName\", \"N/A\")\n",
    "    preco = dados.get(\"regularMarketPrice\", \"N/A\")\n",
    "    variacao_abs = dados.get(\"regularMarketChange\", \"N/A\")\n",
    "    variacao_pct = dados.get(\"regularMarketChangePercent\", \"N/A\")\n",
    "\n",
    "    print(f\"\\n{nome}\")\n",
    "    print(f\"Preço atual: R$ {preco}\")\n",
    "    print(f\"Variação: {variacao_abs} ({round(variacao_pct, 2)}%)\")\n",
    "    print(\"-\" * 40)\n",
    "\n",
    "    if contador >= 3:\n",
    "        print(\"\\n✅ Coleta concluída 3 vezes. Encerrando monitoramento.\")\n",
    "        encerrar = True  # isso vai parar o loop\n",
    "\n",
    "# Agendar a execução\n",
    "schedule.every(20).seconds.do(coletar_dados)\n",
    "\n",
    "print(\"Iniciando monitoramento automático...\\n\")\n",
    "\n",
    "while True:\n",
    "    schedule.run_pending()\n",
    "    time.sleep(1)\n",
    "    if encerrar:\n",
    "        break  # encerra o loop de forma limpa no Jupyter do VSCode\n",
    "\n",
    "\n"
   ]
  }
 ],
 "metadata": {
  "kernelspec": {
   "display_name": "Python 3",
   "language": "python",
   "name": "python3"
  },
  "language_info": {
   "codemirror_mode": {
    "name": "ipython",
    "version": 3
   },
   "file_extension": ".py",
   "mimetype": "text/x-python",
   "name": "python",
   "nbconvert_exporter": "python",
   "pygments_lexer": "ipython3",
   "version": "3.13.0"
  }
 },
 "nbformat": 4,
 "nbformat_minor": 5
}
