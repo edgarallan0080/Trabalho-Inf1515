{
 "cells": [
  {
   "cell_type": "markdown",
   "id": "179b0f8a",
   "metadata": {},
   "source": [
    "# Introdução\n",
    "\n",
    "Explicar como automatização de processos pode ser usado para lembredas, eventos, coleta de informações e etc.\n",
    "\n",
    "Por exemplo, mensagens automaticas no Wpp, coleta de dados em bolsa no mercado financeira, emails lembrando de tarefas (como o nosso proprio Moodle da PUC), fazer beckup diaria em banco de dados e etc\n",
    "\n",
    "\n",
    "A seção Comunicação-Automatizada aborda como a automatização de processos pode ser aplicada para facilitar o envio e o agendamento de mensagens, e-mails e lembretes, eliminando a necessidade de intervenção manual constante. Essa aplicação é especialmente útil em tarefas repetitivas que envolvem comunicação recorrente, como o envio diário de relatórios, confirmações automáticas, lembretes de reuniões ou notificações baseadas em eventos. Ao programar essas tarefas com antecedência, é possível garantir eficiência, reduzir erros humanos e otimizar o tempo de trabalho. Dessa forma, a comunicação automatizada se torna uma ferramenta fundamental dentro do escopo de processos automatizados, mostrando como a integração entre código e rotina pode transformar a maneira como interagimos com fluxos de informação.\n"
   ]
  }
 ],
 "metadata": {
  "language_info": {
   "name": "python"
  }
 },
 "nbformat": 4,
 "nbformat_minor": 5
}
