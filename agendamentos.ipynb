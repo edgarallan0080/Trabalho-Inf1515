{
 "cells": [
  {
   "cell_type": "markdown",
   "id": "179b0f8a",
   "metadata": {},
   "source": [
    "# Introdução\n",
    "\n",
    "Explicar como automatização de processos pode ser usado para lembredas, eventos, coleta de informações e etc.\n",
    "\n",
    "Por exemplo, mensagens automaticas no Wpp, coleta de dados em bolsa no mercado financeira, emails lembrando de tarefas (como o nosso proprio Moodle da PUC), fazer beckup diaria em banco de dados e etc"
   ]
  }
 ],
 "metadata": {
  "language_info": {
   "name": "python"
  }
 },
 "nbformat": 4,
 "nbformat_minor": 5
}
