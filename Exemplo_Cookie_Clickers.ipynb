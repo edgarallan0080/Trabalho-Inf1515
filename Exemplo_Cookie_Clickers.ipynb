{
 "cells": [
  {
   "cell_type": "markdown",
   "id": "179bc5f2",
   "metadata": {},
   "source": [
    "# Cookie Clicker Exemplo\n",
    "\n",
    "Explicando exemplo 1\n",
    "\n",
    "https://www.youtube.com/watch?v=NB8OceGZGjA&ab_channel=TechWithTim"
   ]
  },
  {
   "cell_type": "code",
   "execution_count": 1,
   "id": "e20c277f",
   "metadata": {},
   "outputs": [
    {
     "name": "stdout",
     "output_type": "stream",
     "text": [
      "Codigo\n"
     ]
    }
   ],
   "source": [
    "print(\"Codigo\")"
   ]
  }
 ],
 "metadata": {
  "kernelspec": {
   "display_name": "Python 3",
   "language": "python",
   "name": "python3"
  },
  "language_info": {
   "codemirror_mode": {
    "name": "ipython",
    "version": 3
   },
   "file_extension": ".py",
   "mimetype": "text/x-python",
   "name": "python",
   "nbconvert_exporter": "python",
   "pygments_lexer": "ipython3",
   "version": "3.13.0"
  }
 },
 "nbformat": 4,
 "nbformat_minor": 5
}
