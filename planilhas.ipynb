{
 "cells": [
  {
   "cell_type": "markdown",
   "id": "630a75f1",
   "metadata": {},
   "source": [
    "# Introdução\n",
    "\n",
    "Um grande fator importante de automatização de processos é a manipulação de dados. Podemos automatizar um processo usando por exemplos o proprio VBA mas no nosso caso usaremos o Python. \n",
    "\n",
    "Como automatização de processos pode ajudar na organização de dados ? De data frames ? Como podemos tornar o processo automático ? Qual a importancia disso para o mercado ? Qual o impacto de automatização de processos em limpagem e filtragem de dados ?\n",
    "\n",
    "\n",
    "\n",
    "Crie exemplos que ilustrem a utilidade de se automazir tais processos. "
   ]
  }
 ],
 "metadata": {
  "language_info": {
   "name": "python"
  }
 },
 "nbformat": 4,
 "nbformat_minor": 5
}
