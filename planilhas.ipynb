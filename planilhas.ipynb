{
 "cells": [
  {
   "cell_type": "markdown",
   "id": "630a75f1",
   "metadata": {},
   "source": [
    "# Introdução\n",
    "\n",
    "Um grande fator importante de automatização de processos é a manipulação de dados. Podemos automatizar um processo usando por exemplos o proprio VBA mas no nosso caso usaremos o Python. \n",
    "\n",
    "Como automatização de processos pode ajudar na organização de dados ? De data frames ? Como podemos tornar o processo automático ? Qual a importancia disso para o mercado ? Qual o impacto de automatização de processos em limpagem e filtragem de dados ?\n",
    "\n",
    "\n",
    "\n",
    "Crie exemplos que ilustrem a utilidade de se automazir tais processos. "
   ]
  },
  {
   "cell_type": "markdown",
   "id": "3c82caee",
   "metadata": {},
   "source": [
    "### Codigo:\n",
    "\n",
    "O exemplo abaixo mostra um caso real e importante para se entender automatização de processos no qual estamos fazendo um Backup de fotos, todos os dias as no horário já pré-programado. O interessante deste caso é que não precisamos de intervanção humana, basta apenas executar o codigo uma vez e todo dia nesse horário tera feito backup."
   ]
  },
  {
   "cell_type": "code",
   "execution_count": null,
   "id": "bdaee8f4",
   "metadata": {},
   "outputs": [],
   "source": [
    "\n",
    "import os\n",
    "import shutil\n",
    "import datetime\n",
    "import schedule\n",
    "import time\n",
    "\n",
    "source_dir = \"C:/Users/edgar/OneDrive/Imagens/Capturas de tela/rpa_fotos\"\n",
    "destination_dir = \"C:/Users/edgar/OneDrive/Imagens/Capturas de tela/Backups\"\n",
    "\n",
    "def copy_folder_to_directory(source, dest):\n",
    "    today = datetime.date.today()\n",
    "    dest_dir = os.path.join(dest, str(today))\n",
    "    \n",
    "    try:\n",
    "        shutil.copytree(source, dest_dir)\n",
    "        print(f\"Folder copied to: {dest_dir}\")\n",
    "    except FileExistsError:\n",
    "        print(f\"Folder already exists in: {dest}\")\n",
    "\n",
    "\n",
    "schedule.every().day.at(\"17:18\").do(lambda: copy_folder_to_directory(source_dir, destination_dir))\n",
    "\n",
    "while True:\n",
    "    schedule.run_pending()\n",
    "    time.sleep(60)"
   ]
  }
 ],
 "metadata": {
  "language_info": {
   "name": "python"
  }
 },
 "nbformat": 4,
 "nbformat_minor": 5
}
