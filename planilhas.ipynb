{
 "cells": [
  {
   "cell_type": "markdown",
   "id": "630a75f1",
   "metadata": {},
   "source": [
    "# Introdução\n",
    "\n",
    "Um grande fator importante de automatização de processos é a manipulação de dados. Podemos automatizar um processo usando por exemplos o proprio VBA mas no nosso caso usaremos o Python. \n",
    "\n",
    "Como automatização de processos pode ajudar na organização de dados ? De data frames ? Como podemos tornar o processo automático ? Qual a importancia disso para o mercado ? Qual o impacto de automatização de processos em limpagem e filtragem de dados ?\n",
    "\n",
    "\n",
    "\n",
    "Crie exemplos que ilustrem a utilidade de se automazir tais processos. "
   ]
  },
  {
   "cell_type": "markdown",
   "id": "3c82caee",
   "metadata": {},
   "source": [
    "### Codigo:\n",
    "\n",
    "O exemplo abaixo mostra um caso real e importante para se entender automatização de processos no qual estamos fazendo um Backup de fotos, todos os dias as no horário já pré-programado. O interessante deste caso é que não precisamos de intervanção humana, basta apenas executar o codigo uma vez e todo dia nesse horário tera feito backup."
   ]
  },
  {
   "cell_type": "code",
   "execution_count": null,
   "id": "bdaee8f4",
   "metadata": {},
   "outputs": [
    {
     "name": "stdout",
     "output_type": "stream",
     "text": [
      "Folder already exists in: C:/Users/edgar/OneDrive/Imagens/Capturas de tela/Backups\n"
     ]
    }
   ],
   "source": [
    "\n",
    "import os\n",
    "import shutil\n",
    "import datetime\n",
    "import schedule\n",
    "import time\n",
    "\n",
    "source_dir = \"C:/Users/edgar/OneDrive/Imagens/Capturas de tela/rpa_fotos\"\n",
    "destination_dir = \"C:/Users/edgar/OneDrive/Imagens/Capturas de tela/Backups\"\n",
    "\n",
    "def copy_folder_to_directory(source, dest):\n",
    "    today = datetime.date.today()\n",
    "    dest_dir = os.path.join(dest, str(today))\n",
    "    \n",
    "    try:\n",
    "        shutil.copytree(source, dest_dir)\n",
    "        print(f\"Folder copied to: {dest_dir}\")\n",
    "    except FileExistsError:\n",
    "        print(f\"Folder already exists in: {dest}\")\n",
    "\n",
    "\n",
    "schedule.every().day.at(\"11:48\").do(lambda: copy_folder_to_directory(source_dir, destination_dir))\n",
    "\n",
    "while True:\n",
    "    schedule.run_pending()\n",
    "    time.sleep(60)"
   ]
  },
  {
   "cell_type": "markdown",
   "id": "ec217747",
   "metadata": {},
   "source": [
    "## Aumentando o Grau de Complexidade\n",
    "\n"
   ]
  },
  {
   "cell_type": "code",
   "execution_count": null,
   "id": "cab7fa01",
   "metadata": {},
   "outputs": [
    {
     "name": "stdout",
     "output_type": "stream",
     "text": [
      "Arquivo copiado para C:/Users/edgar/OneDrive/Imagens/Capturas de tela/Backups\\Backups_11-06-2025: Captura de tela 2025-06-07 184818.png\n",
      "Arquivo copiado para C:/Users/edgar/OneDrive/Imagens/Capturas de tela/Backups\\Backups_12-06-2025: Captura de tela 2024-09-29 145514.png\n",
      "Arquivo copiado para C:/Users/edgar/OneDrive/Imagens/Capturas de tela/Backups\\Backups_12-06-2025: Captura de tela 2025-06-07 190334.png\n"
     ]
    }
   ],
   "source": [
    "import os\n",
    "import shutil\n",
    "import datetime\n",
    "import schedule\n",
    "import time\n",
    "\n",
    "source_dir = \"C:/Users/edgar/OneDrive/Imagens/Capturas de tela/rpa_fotos\"\n",
    "destination_base = \"C:/Users/edgar/OneDrive/Imagens/Capturas de tela/Backups\"\n",
    "log_file = \"arquivos_copiados.txt\"  # Controle global dos arquivos copiados\n",
    "\n",
    "# Lê o log de arquivos copiados de todos os dias\n",
    "def carregar_arquivos_copiados():\n",
    "    if not os.path.exists(log_file):\n",
    "        return set()\n",
    "    with open(log_file, \"r\", encoding=\"utf-8\") as f:\n",
    "        return set(line.strip() for line in f.readlines())\n",
    "\n",
    "# Atualiza o log de arquivos copiados\n",
    "def atualizar_log(arquivo):\n",
    "    with open(log_file, \"a\", encoding=\"utf-8\") as f:\n",
    "        f.write(arquivo + \"\\n\")\n",
    "\n",
    "def get_today_folder():\n",
    "    today_str = datetime.date.today().strftime(\"%d-%m-%Y\")\n",
    "    return os.path.join(destination_base, f\"Backups_{today_str}\")\n",
    "\n",
    "def ensure_today_folder_exists():\n",
    "    today_folder = get_today_folder()\n",
    "    if not os.path.exists(today_folder):\n",
    "        os.makedirs(today_folder)\n",
    "    return today_folder\n",
    "\n",
    "# Função principal\n",
    "def copy_new_files():\n",
    "    today_folder = ensure_today_folder_exists()\n",
    "    arquivos_copiados = carregar_arquivos_copiados()\n",
    "\n",
    "    for filename in os.listdir(source_dir):\n",
    "        source_file = os.path.join(source_dir, filename)\n",
    "        dest_file = os.path.join(today_folder, filename)\n",
    "\n",
    "        # Copia só arquivos ainda não registrados no log\n",
    "        if os.path.isfile(source_file) and filename not in arquivos_copiados:\n",
    "            try:\n",
    "                shutil.copy2(source_file, dest_file)\n",
    "                atualizar_log(filename)\n",
    "                print(f\"Arquivo copiado para {today_folder}: {filename}\")\n",
    "            except Exception as e:\n",
    "                print(f\"Erro ao copiar {filename}: {e}\")\n",
    "\n",
    "# Agendamento a cada 1h\n",
    "schedule.every(1).minutes.do(copy_new_files)\n",
    "\n",
    "# Executa a primeira vez imediatamente\n",
    "copy_new_files()\n",
    "\n",
    "while True:\n",
    "    schedule.run_pending()\n",
    "    time.sleep(60)\n"
   ]
  },
  {
   "cell_type": "markdown",
   "id": "9b65a149",
   "metadata": {},
   "source": [
    "## Explicando o Código\n",
    "\n",
    "O Exemplo anterior, não era necessariamente um processo automatizado. Ele de fato automatizava a copia e cola dos arquivos, assim como o processo de criação da pasta de Backup, mas depois disso o codigo perdia o sentido pois depois da criação da pasta, este não executava mais nenhuma tarefa.\n",
    "\n",
    "O código acima é bem mais completo nesse sentido. Primeiro que ele cria uma pasta nova assim que cria um dia novo. Segundo que ele detecta de 1 em 1 minuto se houve adicições novas na nossa pasta rpa_fotos e por fim, ele nunca irá repetir arquivos.\n",
    "\n",
    "Não faz sentido ele copiar e colar todos os arquivos da pasta rpa_fotos sem poder diferenciar aqueles que já sofreram backup. Logo, eu criei funções que permitem meu programa fazer essa diferenciação.\n",
    "```\n",
    "def atualizar_log(arquivo):\n",
    "    with open(log_file, \"a\", encoding=\"utf-8\") as f:\n",
    "        f.write(arquivo + \"\\n\")\n",
    "```\n",
    "\n",
    "Se o arquivo arquivos_copiados.txt não existir ainda, o Python cria ele automaticamente no modo \"a\" (append). Cada nome de arquivo copiado é gravado em uma nova linha.\n",
    "\n",
    "\n",
    "```\n",
    "def carregar_arquivos_copiados():\n",
    "    if not os.path.exists(log_file):\n",
    "        return set()\n",
    "    with open(log_file, \"r\", encoding=\"utf-8\") as f:\n",
    "        return set(line.strip() for line in f.readlines())\n",
    "```\n",
    "\n",
    "Essa função Constrói um set com todos os nomes que já foram copiados anteriormente. Assim, o script sabe quais não precisa copiar de novo, mesmo que ainda estejam na pasta rpa_fotos.\n"
   ]
  }
 ],
 "metadata": {
  "kernelspec": {
   "display_name": "Python 3",
   "language": "python",
   "name": "python3"
  },
  "language_info": {
   "codemirror_mode": {
    "name": "ipython",
    "version": 3
   },
   "file_extension": ".py",
   "mimetype": "text/x-python",
   "name": "python",
   "nbconvert_exporter": "python",
   "pygments_lexer": "ipython3",
   "version": "3.13.0"
  }
 },
 "nbformat": 4,
 "nbformat_minor": 5
}
