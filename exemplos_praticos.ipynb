{
 "cells": [
  {
   "cell_type": "markdown",
   "id": "40d7955c",
   "metadata": {},
   "source": [
    "# Exemplos Práticos\n",
    "\n",
    "## Exemplo Prático 1\n",
    "\n",
    "Descrição do Exemplo Prático 1"
   ]
  },
  {
   "cell_type": "code",
   "execution_count": 1,
   "id": "3dc5fa89",
   "metadata": {},
   "outputs": [
    {
     "name": "stdout",
     "output_type": "stream",
     "text": [
      "Codigo do Exemplo 1\n"
     ]
    }
   ],
   "source": [
    "print(\"Codigo do Exemplo 1\")"
   ]
  }
 ],
 "metadata": {
  "kernelspec": {
   "display_name": "Python 3",
   "language": "python",
   "name": "python3"
  },
  "language_info": {
   "codemirror_mode": {
    "name": "ipython",
    "version": 3
   },
   "file_extension": ".py",
   "mimetype": "text/x-python",
   "name": "python",
   "nbconvert_exporter": "python",
   "pygments_lexer": "ipython3",
   "version": "3.13.0"
  }
 },
 "nbformat": 4,
 "nbformat_minor": 5
}
