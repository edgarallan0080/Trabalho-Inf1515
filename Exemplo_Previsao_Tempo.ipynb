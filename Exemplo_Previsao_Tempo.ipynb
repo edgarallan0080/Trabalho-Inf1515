{
 "cells": [
  {
   "cell_type": "markdown",
   "id": "09245419",
   "metadata": {},
   "source": [
    "## Previsão do Tempo - Exemplo\n"
   ]
  },
  {
   "cell_type": "code",
   "execution_count": null,
   "id": "b302a43e",
   "metadata": {},
   "outputs": [
    {
     "name": "stdout",
     "output_type": "stream",
     "text": [
      "The weather in rio de janeiro is: Clouds\n",
      "The temperature in rio de janeiro is: 25ºC\n"
     ]
    }
   ],
   "source": [
    "import requests\n",
    "\n",
    "api_key = 'f059fb26f708b9fe76ffa9e2a6664e11'\n",
    "\n",
    "user_input = input(\"Enter city: \")\n",
    "\n",
    "weather_data = requests.get(\n",
    "    f\"https://api.openweathermap.org/data/2.5/weather?q={user_input}&units=metric&APPID={api_key}\")  # <- \"metric\"\n",
    "\n",
    "if weather_data.json()['cod'] == '404':\n",
    "    print(\"No City Found\")\n",
    "else:\n",
    "    weather = weather_data.json()['weather'][0]['main']\n",
    "    temp = round(weather_data.json()['main']['temp'])\n",
    "\n",
    "    print(f\"The weather in {user_input} is: {weather}\")\n",
    "    print(f\"The temperature in {user_input} is: {temp}ºC\")  \n"
   ]
  },
  {
   "cell_type": "markdown",
   "id": "49c36ae3",
   "metadata": {},
   "source": [
    "## Explicando o Código\n",
    "\n",
    "Esse código em Python realiza uma automação simples e poderosa que consulta a previsão do tempo de uma cidade específica usando a API pública do site OpenWeatherMap. A biblioteca `requests` é o principal recurso utilizado, pois permite enviar uma requisição HTTP para o endereço da API, que retorna dados atualizados em formato JSON. O OpenWeatherMap é um serviço online que disponibiliza dados meteorológicos em tempo real de milhares de cidades no mundo todo, e a API key é a chave de acesso individual que autentica o uso da plataforma para cada usuário. Essa automação é útil porque elimina a necessidade de procurar manualmente o clima no navegador, facilitando integrações com sistemas maiores, relatórios automáticos ou aplicações inteligentes. A verificação do código de resposta `'cod' == '404'` garante que o nome da cidade foi reconhecido corretamente, e, em caso positivo, o programa extrai a condição do clima e a temperatura atual, convertida diretamente em Celsius. Esse tipo de automação é um exemplo claro de como integrar APIs com scripts personalizados para coletar, tratar e exibir dados de maneira prática e rápida.\n"
   ]
  },
  {
   "cell_type": "code",
   "execution_count": null,
   "id": "1575e422",
   "metadata": {},
   "outputs": [],
   "source": [
    "import requests\n",
    "import csv\n",
    "import json\n",
    "\n",
    "api_key = 'f059fb26f708b9fe76ffa9e2a6664e11'\n",
    "country_code = input(\"Enter country code (e.g., BR, US, FR): \").strip().upper()\n",
    "\n",
    "# Carrega o arquivo de cidades\n",
    "with open(\"city.list.json\", encoding=\"utf-8\") as file:\n",
    "    all_cities = json.load(file)\n",
    "\n",
    "# Filtra cidades do país desejado\n",
    "cities_in_country = [city for city in all_cities if city[\"country\"] == country_code]\n",
    "\n",
    "# Prepara o CSV\n",
    "with open(f\"{country_code}_weather.csv\", \"w\", newline='', encoding='utf-8') as csvfile:\n",
    "    writer = csv.writer(csvfile)\n",
    "    writer.writerow([\"City\", \"Country\", \"Weather\", \"Temperature (C)\"])\n",
    "\n",
    "    for city in cities_in_country[:100]:  # Limite de 100 para evitar bloqueios de API\n",
    "        city_id = city[\"id\"]\n",
    "        name = city[\"name\"]\n",
    "\n",
    "        url = f\"https://api.openweathermap.org/data/2.5/weather?id={city_id}&appid={api_key}&units=metric\"\n",
    "        response = requests.get(url)\n",
    "        if response.status_code == 200:\n",
    "            data = response.json()\n",
    "            weather = data[\"weather\"][0][\"main\"]\n",
    "            temp = round(data[\"main\"][\"temp\"])\n",
    "            writer.writerow([name, country_code, weather, temp])\n",
    "        else:\n",
    "            print(f\"Could not fetch weather for {name}\")\n"
   ]
  },
  {
   "cell_type": "markdown",
   "id": "a15031e6",
   "metadata": {},
   "source": [
    "## Explicando o Codigo\n",
    "\n",
    "Esse código automatiza a coleta de dados climáticos de diversas cidades de um país usando a API do OpenWeatherMap e grava as informações em um arquivo CSV. Ele começa pedindo ao usuário o código do país (como BR para Brasil), e em seguida carrega um arquivo JSON chamado `city.list.json`, que contém uma lista com todas as cidades cadastradas na base de dados da OpenWeatherMap, incluindo seus nomes, identificadores e país. O arquivo JSON é essencial nesse processo porque funciona como uma base local estruturada que o código utiliza para filtrar apenas as cidades do país desejado, permitindo chamadas mais precisas e organizadas à API. A API, por sua vez, fornece as informações de temperatura e clima atual de cada cidade a partir de seu identificador único. O motivo pelo qual o código pode dar problema ao tentar consultar todas as cidades do Brasil é que a OpenWeather impõe um limite de requisições por minuto na versão gratuita (normalmente até 60 chamadas), o que significa que fazer centenas ou milhares de chamadas em sequência pode causar bloqueio temporário do IP ou falhas na execução. Além disso, sem intervalos entre as chamadas, o código corre o risco de parar de funcionar no meio da execução, perdendo parte dos dados ou gerando um CSV incompleto. Por isso, embora o script seja útil e eficiente para automatizar relatórios climáticos em escala, ele exige ajustes como pausas (`sleep`) e controle de requisições para funcionar com grandes volumes de cidades.\n",
    "\n",
    "![Planilha_clima_tempo](dados_clima.png)\n",
    "![Planilha_clima_tempo_python](planilha_clima_python.png)"
   ]
  }
 ],
 "metadata": {
  "kernelspec": {
   "display_name": "Python 3",
   "language": "python",
   "name": "python3"
  },
  "language_info": {
   "codemirror_mode": {
    "name": "ipython",
    "version": 3
   },
   "file_extension": ".py",
   "mimetype": "text/x-python",
   "name": "python",
   "nbconvert_exporter": "python",
   "pygments_lexer": "ipython3",
   "version": "3.13.0"
  }
 },
 "nbformat": 4,
 "nbformat_minor": 5
}
