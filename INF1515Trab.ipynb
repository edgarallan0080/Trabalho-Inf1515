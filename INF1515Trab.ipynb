{
 "cells": [
  {
   "cell_type": "markdown",
   "metadata": {},
   "source": [
    "# Interfaces gráficas PyQt5\n",
    "\n",
    "Interfaces gráficas de usuário (GUI) são essenciais para tornar aplicativos mais acessíveis e interativos, permitindo que o usuário interaja com o programa de forma intuitiva. A biblioteca PyQt5 é uma ferramenta poderosa para construir GUIs em Python, proporcionando uma ampla gama de widgets (componentes) e funcionalidades que tornam possível criar desde aplicativos simples até interfaces complexas e profissionais.\n",
    "\n",
    " Nosso objetivo é fornecer uma visão abrangente sobre a criação de interfaces gráficas com o PyQt5. Veremos como instalar e configurar o PyQt5, como estruturar uma aplicação e os detalhes de cada componente fundamental, como botões, campos de texto, menus e layout de componentes.\n",
    " \n",
    "## Conceito de classes\n",
    "\n",
    "Classes são estruturas fundamentais na programação orientada a objetos (OOP), que permitem organizar e agrupar dados e comportamentos relacionados. Uma classe é como um molde ou modelo para criar objetos. Cada objeto criado a partir de uma classe pode ter seus próprios dados (atributos) e comportamentos (métodos), que são definidos pela classe.\n",
    "\n",
    "### Por que Usar Classes para Criar Interfaces?\n",
    "\n",
    "Ao criar interfaces gráficas, o uso de classes ajuda a organizar o código e torna mais fácil manipular diferentes partes da interface. Além disso, classes permitem:\n",
    "\n",
    "- **Reutilizar Código**: É possível criar várias instâncias de uma interface sem duplicar código.\n",
    "- **Facilitar a Manutenção**: Componentes da interface são organizados em métodos e atributos, tornando o código mais legível e fácil de modificar.\n",
    "- **Estruturar a Lógica**: Separar a lógica da interface gráfica em métodos ajuda a manter o código limpo.\n"
   ]
  },
  {
   "cell_type": "code",
   "execution_count": null,
   "metadata": {},
   "outputs": [],
   "source": [
    "class NomeDaClasse:\n",
    "    def __init__(self, parametro1, parametro2):\n",
    "        self.atributo1 = parametro1\n",
    "        self.atributo2 = parametro2\n",
    "    \n",
    "    def metodo1(self):\n",
    "        # Código do método\n",
    "        pass\n",
    "    \n",
    "    def metodo2(self, parametro):\n",
    "        # Código do método\n",
    "        pass"
   ]
  },
  {
   "cell_type": "markdown",
   "metadata": {},
   "source": [
    "__init__: É o método inicializador (construtor) da classe, chamado automaticamente quando um novo objeto é criado. Ele é usado para definir os atributos iniciais do objeto.\n",
    "\n",
    "**self**: o uso do self em classes é fundamental para referenciar os atributos e métodos que pertencem a uma instância específica dessa classe. Isso permite que cada objeto mantenha seu prórpio estado e comportamento de forma independente. O uso do self é essencial para associar os widgets, como as caixas de texto e os botões, ao objeto da janela ou componente em questão. Isso possibilita que esses elementos sejam manipulados de maneira dinâmica, garantindo que todas as ações e modificações realizadas sejam vinculadas corretamente à uma determinada instância da interface. Assim, o código se torna mais organizado e funcional.\n",
    "\n",
    "##### Aplicação em PyQt5\n",
    "Em PyQt5, as classes são usadas para definir as janelas e os componentes da interface. Cada janela é criada como uma classe que herda de QWidget ou QMainWindow, permitindo organizar os elementos visuais e a lógica da interface de forma estruturada e reutilizável."
   ]
  },
  {
   "cell_type": "markdown",
   "metadata": {},
   "source": [
    "<div style=\"border: 2px solid orange; padding: 10px; background-color: #fff4e6;\">\n",
    "   <b>Flet</b>: O Flet também usa classes para encapsular eventos e componentes, com uma lógica de organização smiilal ao PyQt5. Ele se destaca pel asemplicidade e por facilitar a criação de aplicações responsivas.\n",
    "</div>\n"
   ]
  },
  {
   "cell_type": "markdown",
   "metadata": {},
   "source": [
    "<div style=\"border: 2px solid #9b59b6; padding: 10px; background-color: #f5e6fa;\">\n",
    "   <b>Tkinter</b>: As classes são usadas para gerenciar janelas e widgets, estruturando a interface de forma modular. Isso garante maior controle sobre os elementos.\n",
    "</div>\n"
   ]
  },
  {
   "cell_type": "markdown",
   "metadata": {},
   "source": [
    "## Estrutura básica\n",
    "\n",
    "Para criar uma aplicação no PyQt5, devemos seguir alguns passos estruturais básicos que envolvem a inicialização da aplicação, a criação de uma janela principal e a definição do loop de eventos. O PyQt5 segue uma abordagem baseada em eventos, onde os usuários interagem com a interface e as ações desencadeiam respostas programadas, chamadas de slots.\n",
    "\n",
    "### Classe **QApplication**\n",
    "\n",
    "A classe QApplication é o ponto de partida de qualquer aplicação PyQt5. Ela é responsável por gerenciar os recursos da interface gráfica e supervisionar o ciclo de eventos do aplicativo. Quando você cria uma instância de QApplication, está iniciando um processo de \"escuta\" que ficará em execução até que o usuário feche a aplicação."
   ]
  },
  {
   "cell_type": "code",
   "execution_count": null,
   "metadata": {},
   "outputs": [],
   "source": [
    "app = QApplication(sys.argv)"
   ]
  },
  {
   "cell_type": "markdown",
   "metadata": {},
   "source": [
    "A linha acima cria uma instância de QApplication, passando **sys.argv** como parâmetro. sys.argv permite que o aplicativo receba argumentos da linha de comando, o que é útil em cenários avançados onde queremos personalizar a execução do programa, mas não é essencial para aplicações básicas."
   ]
  },
  {
   "cell_type": "markdown",
   "metadata": {},
   "source": [
    "<div style=\"border: 2px solid orange; padding: 10px; background-color: #fff4e6;\">\n",
    "   <b>Flet</b>: a configuração inicial é feita através da classe Page. O equivalente ao QApplication seria configurar o evento principal chamando a função flet.app(target=main), onde main é a função que define a interface.\n",
    "</div>"
   ]
  },
  {
   "cell_type": "markdown",
   "metadata": {},
   "source": [
    "\n",
    "<div style=\"border: 2px solid #9b59b6; padding: 10px; background-color: #f5e6fa;\">\n",
    "  <b>Tkinter</b>: não há uma classe equivalente à QApplication. O ciclo de eventos é iniciado automaticamente com o método mainloop() da janela principal.s.\n",
    "</div>"
   ]
  },
  {
   "cell_type": "markdown",
   "metadata": {},
   "source": [
    "##### Criando a Janela Principal (QWidget)\n",
    "\n",
    "A janela principal da aplicação é o primeiro elemento visual que o usuário verá. No PyQt5, essa janela pode ser criada usando QWidget, que é a classe base para todos os componentes gráficos. QWidget representa uma janela ou um container que pode conter outros widgets, como botões, caixas de texto, entre outros."
   ]
  },
  {
   "cell_type": "code",
   "execution_count": null,
   "metadata": {},
   "outputs": [],
   "source": [
    "window = QWidget()\n",
    "window.setWindowTitle(\"Minha Primeira Janela\")\n",
    "window.setGeometry(100, 100, 280, 80)  # Define posição (x, y) e dimensão (largura, altura)"
   ]
  },
  {
   "cell_type": "markdown",
   "metadata": {},
   "source": [
    "- **setWindowTitle**: Define o título da janela, exibida na barra superior.\n",
    "- **setGeometry**: Configura a posição inicial e o tamanho da janela na tela."
   ]
  },
  {
   "cell_type": "markdown",
   "metadata": {},
   "source": [
    "<div style=\"border: 2px solid orange; padding: 10px; background-color: #fff4e6;\">\n",
    "  <b>Flet</b>: O Flet não usa janelas no mesmo sentido que o PyQt5. Em vez disso, widgets são definidos diretamente no <u>page</u> .\n",
    "</div>"
   ]
  },
  {
   "cell_type": "markdown",
   "metadata": {},
   "source": [
    "<div style=\"border: 2px solid #9b59b6; padding: 10px; background-color: #f5e6fa;\">\n",
    "   <b> Tkinter</b>: A janela principal no Tkinter é criada com a classe <u>Tk()</u>. O título é definido usando <u>window.title(\"Minha Primeira Janela\")</u>, e o tamanho e posição podem ser configurados com o método <u>geometry</u>, como <u>window.geometry(\"280x80+100+100\")</u>..\n",
    "</div>"
   ]
  },
  {
   "cell_type": "markdown",
   "metadata": {},
   "source": [
    "##### <u>Exibir a janela e iniciar o loop de eventos</u>\n",
    "\n",
    "Para que a janela seja exibida na tela, chamamos o método **show()**::"
   ]
  },
  {
   "cell_type": "code",
   "execution_count": null,
   "metadata": {},
   "outputs": [],
   "source": [
    "window.show()"
   ]
  },
  {
   "cell_type": "markdown",
   "metadata": {},
   "source": [
    "Para iniciar o loop de eventos, chamamos **app.exec_()**. Esse método mantém a aplicação em execução até que o usuário a feche.\n",
    "\n",
    "O uso de sys.exit garante que o Python encerre a aplicação de forma limpa quando a janela for fechada."
   ]
  },
  {
   "cell_type": "code",
   "execution_count": null,
   "metadata": {},
   "outputs": [],
   "source": [
    "sys.exit(app.exec_())"
   ]
  },
  {
   "cell_type": "code",
   "execution_count": null,
   "metadata": {},
   "outputs": [],
   "source": [
    "import sys\n",
    "from PyQt5.QtWidgets import QApplication, QWidget\n",
    "\n",
    "# Inicializa a aplicação\n",
    "app = QApplication(sys.argv)\n",
    "\n",
    "# Cria a janela principal\n",
    "window = QWidget()\n",
    "window.setWindowTitle(\"Minha Primeira Janela\")  # Define o título da janela\n",
    "window.setGeometry(100, 100, 400, 200)         # Define posição e tamanho (x, y, largura, altura)\n",
    "\n",
    "# Exibe a janela\n",
    "window.show()\n",
    "\n",
    "# Inicia o loop de eventos\n",
    "sys.exit(app.exec_())\n"
   ]
  },
  {
   "cell_type": "markdown",
   "metadata": {},
   "source": [
    "<div style=\"border: 2px solid orange; padding: 10px; background-color: #fff4e6;\">\n",
    "   <b>Flet</b>: O loop de eventos é implícito. Quando os widgets são adicionado ao Page, a interface é renderizada automaticamente. \n",
    "</div>"
   ]
  },
  {
   "cell_type": "markdown",
   "metadata": {},
   "source": [
    "<div style=\"border: 2px solid #9b59b6; padding: 10px; background-color: #f5e6fa;\">\n",
    "    <b> Tkinter</b>: Não há comando explícito para abrir a janela. Ela aparece quando o método <u>mainloop()</u> é chamado, mantendo a aplicação em execução.\n",
    "</div>"
   ]
  },
  {
   "cell_type": "markdown",
   "metadata": {},
   "source": [
    "## Eventos e Sinais\n",
    "\n",
    "Eventos e sinais são conceitos fundamentais para permitir interatividade na interface. No PyQt5, cada ação do usuário gera um \"sinal\", como o clique de um botão ou a digitação de texto, e esse sinal pode ser conectado a uma função (slot) que define a resposta a essa ação.\n",
    "\n",
    "#### Como Funciona o Sistema de Sinais e Slots\n",
    "\n",
    "Sinais são eventos específicos, e slots são as funções que os recebem e processam. Quando você conecta um sinal a um slot, o PyQt5 executa o slot sempre que o sinal é emitido.\n",
    "\n",
    "Por exemplo, o método on_button_click será chamado sempre que o botão for clicado, exibindo \"Botão clicado!\" no console."
   ]
  },
  {
   "cell_type": "code",
   "execution_count": null,
   "metadata": {},
   "outputs": [],
   "source": [
    "import sys\n",
    "from PyQt5.QtWidgets import QApplication, QWidget, QPushButton\n",
    "\n",
    "# Função que será executada quando o botão for clicado\n",
    "def on_button_click():\n",
    "    print(\"Botão clicado!\")\n",
    "\n",
    "# Inicializa a aplicação\n",
    "app = QApplication(sys.argv)\n",
    "\n",
    "# Cria a janela principal\n",
    "window = QWidget()\n",
    "window.setWindowTitle(\"Minha Primeira Janela\")  # Define o título da janela\n",
    "window.setGeometry(100, 100, 400, 200)         # Define posição e tamanho (x, y, largura, altura)\n",
    "\n",
    "# Cria o botão e conecta ao evento de clique\n",
    "button = QPushButton(\"Clique aqui\", window)  # Cria o botão e o associa à janela\n",
    "button.setGeometry(150, 80, 100, 30)         # Define a posição e tamanho do botão\n",
    "button.clicked.connect(on_button_click)      # Conecta o clique à função\n",
    "\n",
    "# Exibe a janela\n",
    "window.show()\n",
    "\n",
    "# Inicia o loop de eventos\n",
    "sys.exit(app.exec_())\n"
   ]
  },
  {
   "cell_type": "markdown",
   "metadata": {},
   "source": [
    "<div style=\"border: 2px solid orange; padding: 10px; background-color: #fff4e6;\">\n",
    "   <b>Flet</b>: Eventos são gerenciados por meio de propriedades específicas, como <u>on_click</u> ou <u>on_change</u>. Basta atribuir uma função ao evento, e ela será executada sempre que o evento for acionado. \n",
    "</div>"
   ]
  },
  {
   "cell_type": "markdown",
   "metadata": {},
   "source": [
    "<div style=\"border: 2px solid #9b59b6; padding: 10px; background-color: #f5e6fa;\">\n",
    "    <b> Tkinter</b>: Eventos são gerenciados com o método bind, que associa um evento, como <u>Button-1</u> para cliques, a uma função que será executada quando o evento ocorrer.\n",
    "</div>"
   ]
  },
  {
   "cell_type": "markdown",
   "metadata": {},
   "source": [
    "## Componentes principais do PyQt5\n",
    "\n",
    "O PyQt5 oferece uma grande variedade de widgets que podem ser usados para construir interfaces gráficas. Cada widget é uma classe que herda de QWidget, e cada um serve a um propósito específico. Vamos explorar os widgets mais comuns e como usá-los para construir uma interface rica e funcional.\n",
    "\n",
    "#### 1. **QLabel**: Exibindo Texto e Imagens\n",
    "\n",
    "O QLabel é um widget utilizado para exibir texto ou imagens na interface. Ele é ideal para rótulos, títulos, instruções ou ícones. Por exemplo,"
   ]
  },
  {
   "cell_type": "code",
   "execution_count": null,
   "metadata": {},
   "outputs": [],
   "source": [
    "import sys\n",
    "from PyQt5.QtWidgets import QApplication, QLabel\n",
    "\n",
    "# Inicializa a aplicação\n",
    "app = QApplication(sys.argv)\n",
    "\n",
    "# Cria o rótulo diretamente como o elemento principal\n",
    "label = QLabel(\"Bem-vindo ao PyQt5!\")\n",
    "label.setGeometry(100, 100, 200, 40)  # Define posição (x, y) e (largura, altura)\n",
    "label.show()\n",
    "\n",
    "# Inicia o loop de eventos\n",
    "sys.exit(app.exec_())\n"
   ]
  },
  {
   "cell_type": "markdown",
   "metadata": {},
   "source": [
    "<div style=\"border: 2px solid orange; padding: 10px; background-color: #fff4e6;\">\n",
    "   <b>Flet</b>: O equivalente seria o widget <u>Text</u> para exibir texto. Para imagens, você usaria o widget <u>Image</u>. Ambos são configurados diretamente na interface do Page. \n",
    "</div>"
   ]
  },
  {
   "cell_type": "markdown",
   "metadata": {},
   "source": [
    "<div style=\"border: 2px solid #9b59b6; padding: 10px; background-color: #f5e6fa;\">\n",
    "    <b> Tkinter</b>:Use o widget <u>Label</u>, que também suporta texto e imagens. A imagem pode ser carregada com o objeto <u>PhotoImage</u> e atribuída ao parâmetro <u>image</u> do Label.\n",
    "</div>"
   ]
  },
  {
   "cell_type": "markdown",
   "metadata": {},
   "source": [
    "#### 2. **QPushButton**: Botão de ação\n",
    "\n",
    "O QPushButton é um widget que representa um botão clicável. Esse botão pode disparar ações quando clicado, como abrir uma nova janela ou enviar dados.\n",
    "\n",
    "O QPushButton é simples, mas pode ser estilizado e configurado para diversas funcionalidades, dependendo das necessidades do aplicativo."
   ]
  },
  {
   "cell_type": "code",
   "execution_count": null,
   "metadata": {},
   "outputs": [],
   "source": [
    "import sys\n",
    "from PyQt5.QtWidgets import QApplication, QPushButton\n",
    "\n",
    "# Inicializa a aplicação\n",
    "app = QApplication(sys.argv)\n",
    "\n",
    "# Cria o botão diretamente como o elemento principal\n",
    "button = QPushButton(\"Clique Aqui\")\n",
    "button.setGeometry(100, 100, 100, 30) # Define posição (x, y) e (largura, altura)\n",
    "button.show()\n",
    "\n",
    "# Inicia o loop de eventos\n",
    "sys.exit(app.exec_())"
   ]
  },
  {
   "cell_type": "markdown",
   "metadata": {},
   "source": [
    "<div style=\"border: 2px solid orange; padding: 10px; background-color: #fff4e6;\">\n",
    "   <b>Flet</b>: O widget <u>ElevatedButton</u> ou <u>TextButton</u> é usado para botões clicáveis, e a ação é definida com o parâmetro <u>on_click</u>. \n",
    "</div>"
   ]
  },
  {
   "cell_type": "markdown",
   "metadata": {},
   "source": [
    "<div style=\"border: 2px solid #9b59b6; padding: 10px; background-color: #f5e6fa;\">\n",
    "    <b> Tkinter</b>: Use o widget <u>Button</u> e defina a função de callback com o parâmetro <u>command</u>.\n",
    "</div>"
   ]
  },
  {
   "cell_type": "markdown",
   "metadata": {},
   "source": [
    "#### 3. **QLineEdit**: Campos de Entrada de Texto\n",
    "\n",
    "O QLineEdit permite ao usuário inserir texto. Ele é essencial em formulários e telas onde é necessário obter informações do usuário.\n",
    "\n",
    "O método setPlaceholderText define um texto padrão que será exibido quando o campo estiver vazio, facilitando o entendimento do usuário sobre o que deve ser inserido."
   ]
  },
  {
   "cell_type": "code",
   "execution_count": null,
   "metadata": {},
   "outputs": [],
   "source": [
    "import sys\n",
    "from PyQt5.QtWidgets import QApplication, QLineEdit\n",
    "\n",
    "# Inicializa a aplicação\n",
    "app = QApplication(sys.argv)\n",
    "\n",
    "# Cria o campo de entrada diretamente como o elemento principal\n",
    "input_field = QLineEdit()\n",
    "input_field.setPlaceholderText(\"Digite seu nome\")# Texto de exemplo no campo\n",
    "input_field.setGeometry(100, 100, 200, 30)         \n",
    "input_field.show()\n",
    "\n",
    "# Inicia o loop de eventos\n",
    "sys.exit(app.exec_())\n"
   ]
  },
  {
   "cell_type": "markdown",
   "metadata": {},
   "source": [
    "<div style=\"border: 2px solid orange; padding: 10px; background-color: #fff4e6;\">\n",
    "   <b>Flet</b>:  Use o widget <u>TextField</u>, que permite entrada de texto com suporte a placeholders por meio do parâmetro <u>hint_text</u>.\n",
    "</div>"
   ]
  },
  {
   "cell_type": "markdown",
   "metadata": {},
   "source": [
    "<div style=\"border: 2px solid #9b59b6; padding: 10px; background-color: #f5e6fa;\">\n",
    "    <b> Tkinter</b>: Use o widget <u>Entry</u> e configure o texto de exemplo adicionando um <u>StringVar</u> ou um <u>Label</u> adicional como guia.\n",
    "\n",
    "</div>"
   ]
  },
  {
   "cell_type": "markdown",
   "metadata": {},
   "source": [
    "#### 4. **QCheckBox**: Caixas de Seleção\n",
    "O QCheckBox é um widget que permite ao usuário marcar ou desmarcar uma opção. Ele é útil para configurações que podem ser ativadas ou desativadas.\n",
    "\n",
    "Neste exemplo, o QCheckBox exibe uma opção que o usuário pode selecionar para indicar que aceita os termos e condições. Você pode verificar se a caixa está marcada com o método isChecked()."
   ]
  },
  {
   "cell_type": "code",
   "execution_count": null,
   "metadata": {},
   "outputs": [],
   "source": [
    "import sys\n",
    "from PyQt5.QtWidgets import QApplication, QCheckBox\n",
    "\n",
    "# Inicializa a aplicação\n",
    "app = QApplication(sys.argv)\n",
    "\n",
    "# Cria a checkbox diretamente como o elemento principal\n",
    "checkbox = QCheckBox(\"Aceitar Termos e Condições\")\n",
    "checkbox.setGeometry(100, 100, 200, 30)  # Define posição (x, y) e tamanho (largura, altura)\n",
    "checkbox.show()\n",
    "\n",
    "# Inicia o loop de eventos\n",
    "sys.exit(app.exec_())\n"
   ]
  },
  {
   "cell_type": "markdown",
   "metadata": {},
   "source": [
    "<div style=\"border: 2px solid orange; padding: 10px; background-color: #fff4e6;\">\n",
    "   <b>Flet</b>: O widget equivalente é <u>Checkbox</u>, onde o estado marcado ou desmarcado é gerenciado por meio do parâmetro <u>value</u> e eventos.\n",
    "</div>"
   ]
  },
  {
   "cell_type": "markdown",
   "metadata": {},
   "source": [
    "<div style=\"border: 2px solid #9b59b6; padding: 10px; background-color: #f5e6fa;\">\n",
    "    <b> Tkinter</b>: Use o widget <u>Checkbutton</u> e associe um <u>BooleanVar</u> para controlar o estado da seleção.\n",
    "</div>"
   ]
  },
  {
   "cell_type": "markdown",
   "metadata": {},
   "source": [
    "#### 5. **QRadioButton**: Botões de Seleção Exclusiva\n",
    "O QRadioButton permite que o usuário selecione uma opção entre várias alternativas. Eles são normalmente usados em grupos, onde apenas um botão pode ser selecionado de cada vez.\n",
    "\n",
    "Aqui, criamos dois QRadioButton para que o usuário escolha uma entre as duas opções. Normalmente, você os agrupa para que apenas uma opção possa ser selecionada."
   ]
  },
  {
   "cell_type": "code",
   "execution_count": null,
   "metadata": {},
   "outputs": [],
   "source": [
    "import sys\n",
    "from PyQt5.QtWidgets import QApplication, QRadioButton\n",
    "\n",
    "# Inicializa a aplicação\n",
    "app = QApplication(sys.argv)\n",
    "\n",
    "# Cria o primeiro botão de rádio\n",
    "radio_button1 = QRadioButton(\"Opção 1\")\n",
    "radio_button1.setGeometry(100, 100, 100, 30)  # Define posição (x, y) e tamanho (largura, altura)\n",
    "radio_button1.show()\n",
    "\n",
    "# Cria o segundo botão de rádio\n",
    "radio_button2 = QRadioButton(\"Opção 2\")\n",
    "radio_button2.setGeometry(100, 140, 100, 30)  # Define posição (x, y) e tamanho (largura, altura)\n",
    "radio_button2.show()\n",
    "\n",
    "# Inicia o loop de eventos\n",
    "sys.exit(app.exec_())"
   ]
  },
  {
   "cell_type": "markdown",
   "metadata": {},
   "source": [
    "<div style=\"border: 2px solid orange; padding: 10px; background-color: #fff4e6;\">\n",
    "   <b>Flet</b>: Use o widget <u>Radio</u> dentro de um <u>RadioGroup</u> para criar seleções exclusivas.\n",
    "</div>"
   ]
  },
  {
   "cell_type": "markdown",
   "metadata": {},
   "source": [
    "<div style=\"border: 2px solid #9b59b6; padding: 10px; background-color: #f5e6fa;\">\n",
    "    <b> Tkinter</b>: Use o widget <u>Radiobutton</u> e associe todos os botões a uma mesma variável, como <u>StringVar ou IntVar</u>, para garantir a exclusividade.\n",
    "</div>"
   ]
  },
  {
   "cell_type": "markdown",
   "metadata": {},
   "source": [
    "#### 6. **QComboBox**: Menu Suspenso (Dropdown)\n",
    "O QComboBox cria um menu suspenso com várias opções, permitindo que o usuário selecione uma delas. Esse widget é útil quando há várias opções, mas você quer economizar espaço na interface.\n",
    "\n",
    "No exemplo, ele permite que o usuário selecione entre \"Opção A\", \"Opção B\" e \"Opção C\"."
   ]
  },
  {
   "cell_type": "code",
   "execution_count": null,
   "metadata": {},
   "outputs": [],
   "source": [
    "import sys\n",
    "from PyQt5.QtWidgets import QApplication, QComboBox\n",
    "\n",
    "# Inicializa a aplicação\n",
    "app = QApplication(sys.argv)\n",
    "\n",
    "# Cria o combo box diretamente como o elemento principal\n",
    "combo_box = QComboBox()\n",
    "combo_box.addItem(\"Opção 1\")  # Adiciona a primeira opção\n",
    "combo_box.addItem(\"Opção 2\")  # Adiciona a segunda opção\n",
    "combo_box.setGeometry(100, 100, 150, 30)  # Define posição (x, y) e tamanho (largura, altura)\n",
    "combo_box.show()\n",
    "\n",
    "# Inicia o loop de eventos\n",
    "sys.exit(app.exec_())\n"
   ]
  },
  {
   "cell_type": "markdown",
   "metadata": {},
   "source": [
    "<div style=\"border: 2px solid orange; padding: 10px; background-color: #fff4e6;\">\n",
    "   <b>Flet</b>: O equivalente é o widget <u>Dropdown</u>, que permite criar menus suspensos configurando as opções com <u>DropdownItem</u>.\n",
    "</div>"
   ]
  },
  {
   "cell_type": "markdown",
   "metadata": {},
   "source": [
    "<div style=\"border: 2px solid #9b59b6; padding: 10px; background-color: #f5e6fa;\">\n",
    "    <b> Tkinter</b>: Use o widget <u>OptionMenu</u> ou <u>Combobox</u> (do módulo ttk) para criar menus suspensos.\n",
    "</div>"
   ]
  },
  {
   "cell_type": "markdown",
   "metadata": {},
   "source": [
    "#### 7. **QSlider**: Controle Deslizante\n",
    "O QSlider permite que o usuário selecione um valor dentro de um intervalo específico deslizando o controle para a esquerda ou direita (ou para cima e para baixo, dependendo da orientação).\n",
    "\n",
    "O QSlider está orientado horizontalmente e permite que o usuário selecione valores entre 0 e 100."
   ]
  },
  {
   "cell_type": "code",
   "execution_count": null,
   "metadata": {},
   "outputs": [],
   "source": [
    "import sys\n",
    "from PyQt5.QtWidgets import QApplication, QSlider\n",
    "from PyQt5.QtCore import Qt\n",
    "\n",
    "# Inicializa a aplicação\n",
    "app = QApplication(sys.argv)\n",
    "\n",
    "# Cria o slider diretamente como o elemento principal\n",
    "slider = QSlider(Qt.Horizontal)  # Cria o slider na orientação horizontal\n",
    "slider.setGeometry(100, 100, 150, 30)  \n",
    "slider.setMinimum(0)                   # Valor mínimo do slider\n",
    "slider.setMaximum(100)                 # Valor máximo do slider\n",
    "slider.setValue(50)                    # Define o valor inicial\n",
    "slider.show()\n",
    "\n",
    "# Inicia o loop de eventos\n",
    "sys.exit(app.exec_())\n"
   ]
  },
  {
   "cell_type": "markdown",
   "metadata": {},
   "source": [
    "<div style=\"border: 2px solid orange; padding: 10px; background-color: #fff4e6;\">\n",
    "   <b>Flet</b>: Use o widget <u>Slider</u>, configurando os valores mínimo, máximo e inicial com <u>min, max e value</u>.\n",
    "</div>"
   ]
  },
  {
   "cell_type": "markdown",
   "metadata": {},
   "source": [
    "<div style=\"border: 2px solid #9b59b6; padding: 10px; background-color: #f5e6fa;\">\n",
    "    <b> Tkinter</b>: Use o widget <u>Scale</u> para criar sliders horizontais ou verticais.\n",
    "</div>"
   ]
  },
  {
   "cell_type": "markdown",
   "metadata": {},
   "source": [
    "#### 8. **QListWidget**: Lista de Itens\n",
    "O QListWidget permite exibir uma lista de itens para o usuário, onde ele pode selecionar uma ou mais opções.\n",
    "\n",
    "No exemplo abaixo, o QListWidget exibe uma lista com três itens. É útil em situações onde você precisa mostrar várias opções ou itens de uma coleção."
   ]
  },
  {
   "cell_type": "code",
   "execution_count": null,
   "metadata": {},
   "outputs": [],
   "source": [
    "import sys\n",
    "from PyQt5.QtWidgets import QApplication, QListWidget\n",
    "\n",
    "# Inicializa a aplicação\n",
    "app = QApplication(sys.argv)\n",
    "\n",
    "# Cria o list widget diretamente como o elemento principal\n",
    "list_widget = QListWidget()\n",
    "list_widget.setGeometry(100, 100, 200, 80)  \n",
    "list_widget.addItem(\"Item 1\")              # Adiciona o primeiro item\n",
    "list_widget.addItem(\"Item 2\")              # Adiciona o segundo item\n",
    "list_widget.addItem(\"Item 3\")              # Adiciona o terceiro item\n",
    "list_widget.show()\n",
    "\n",
    "# Inicia o loop de eventos\n",
    "sys.exit(app.exec_())\n"
   ]
  },
  {
   "cell_type": "markdown",
   "metadata": {},
   "source": [
    "<div style=\"border: 2px solid orange; padding: 10px; background-color: #fff4e6;\">\n",
    "   <b>Flet</b>: Use o widget <u>ListView</u> ou <u>Dropdown</u> (dependendo do contexto) para exibir listas de itens.\n",
    "</div>"
   ]
  },
  {
   "cell_type": "markdown",
   "metadata": {},
   "source": [
    "<div style=\"border: 2px solid #9b59b6; padding: 10px; background-color: #f5e6fa;\">\n",
    "    <b> Tkinter</b>: Use o widget <u>Listbox</u> para criar uma lista de itens com suporte a seleção.\n",
    "</div>"
   ]
  },
  {
   "cell_type": "markdown",
   "metadata": {},
   "source": [
    "#### 9. **QTableWidget**: Tabela de Dados\n",
    "O QTableWidget exibe dados em uma tabela com linhas e colunas, permitindo que o usuário veja e manipule dados tabulares.\n",
    "\n",
    "Neste exemplo, criamos uma tabela com três linhas e duas colunas, onde adicionamos nomes e idades."
   ]
  },
  {
   "cell_type": "code",
   "execution_count": null,
   "metadata": {},
   "outputs": [],
   "source": [
    "import sys\n",
    "from PyQt5.QtWidgets import QApplication, QTableWidget, QTableWidgetItem\n",
    "\n",
    "# Inicializa a aplicação\n",
    "app = QApplication(sys.argv)\n",
    "\n",
    "# Cria o table widget diretamente como o elemento principal\n",
    "table_widget = QTableWidget()\n",
    "table_widget.setGeometry(100, 100, 300, 200)  \n",
    "table_widget.setRowCount(3)                   # Define o número de linhas\n",
    "table_widget.setColumnCount(2)                # Define o número de colunas\n",
    "\n",
    "# Adiciona dados às células\n",
    "table_widget.setItem(0, 0, QTableWidgetItem(\"Nome\"))\n",
    "table_widget.setItem(0, 1, QTableWidgetItem(\"Idade\"))\n",
    "table_widget.setItem(1, 0, QTableWidgetItem(\"Ana\"))\n",
    "table_widget.setItem(1, 1, QTableWidgetItem(\"25\"))\n",
    "table_widget.setItem(2, 0, QTableWidgetItem(\"João\"))\n",
    "table_widget.setItem(2, 1, QTableWidgetItem(\"30\"))\n",
    "\n",
    "table_widget.show()\n",
    "\n",
    "# Inicia o loop de eventos\n",
    "sys.exit(app.exec_())\n"
   ]
  },
  {
   "cell_type": "markdown",
   "metadata": {},
   "source": [
    "<div style=\"border: 2px solid orange; padding: 10px; background-color: #fff4e6;\">\n",
    "   <b>Flet</b>: Use o widget <u>DataTable</u> para exibir tabelas estruturadas com cabeçalhos e linhas de dados.\n",
    "</div>"
   ]
  },
  {
   "cell_type": "markdown",
   "metadata": {},
   "source": [
    "<div style=\"border: 2px solid #9b59b6; padding: 10px; background-color: #f5e6fa;\">\n",
    "    <b> Tkinter</b>: Use o widget <u>Treeview</u> (do módulo ttk) para criar tabelas e exibir dados tabulares.\n",
    "</div>"
   ]
  },
  {
   "cell_type": "markdown",
   "metadata": {},
   "source": [
    "##### - Mais exemplos de opções de widgets PyQt"
   ]
  },
  {
   "cell_type": "markdown",
   "metadata": {},
   "source": [
    "| Widget           | O que faz                                                  |\n",
    "|------------------|------------------------------------------------------------|\n",
    "| QCheckbox        | Uma caixa de seleção                                       |\n",
    "| QComboBox        | Uma lista suspensa                                         |\n",
    "| QDateEdit        | Para editar datas e horários                               |\n",
    "| QDateTimeEdit    | Para editar datas e horários                               |\n",
    "| QDial            | Um seletor rotativo                                        |\n",
    "| QDoubleSpinbox   | Um seletor de números decimais                             |\n",
    "| QFontComboBox    | Uma lista de fontes                                        |\n",
    "| QLCDNumber       | Um display LCD de aparência simples                        |\n",
    "| QLabel           | Apenas um rótulo, não interativo                          |\n",
    "| QLineEdit        | Insere uma linha de texto                                  |\n",
    "| QProgressBar     | Uma barra de progresso                                     |\n",
    "| QPushButton      | Um botão                                                   |\n",
    "| QRadioButton     | Um conjunto de alternância, com apenas um item ativo       |\n",
    "| QSlider          | Um controle deslizante                                     |\n",
    "| QSpinBox         | Um seletor de números inteiros                             |\n",
    "| QTimeEdit        | Para editar horários                                       |\n"
   ]
  },
  {
   "cell_type": "markdown",
   "metadata": {},
   "source": [
    "## Layouts e Organização de Componentes\n",
    "\n",
    "Já criamos uma janela e adicionamos um widget a ela, agora, para que os componentes fiquem organizados e a interface seja visualmente atraente, o PyQt5 oferece gerenciadores de layout. Esses layouts controlam a posição e o redimensionamento dos widgets na janela, adaptando-se automaticamente ao tamanho da janela.\n",
    "\n",
    "#### **QVBoxLayout**: Organização Vertical\n",
    "\n",
    "Cada widget adicionado ao QVBoxLayout será posicionado em sequência vertical, um abaixo do outro. O QVBoxLayout é ideal para interfaces com uma sequência linear de elementos."
   ]
  },
  {
   "cell_type": "code",
   "execution_count": null,
   "metadata": {},
   "outputs": [],
   "source": [
    "import sys\n",
    "from PyQt5.QtWidgets import QApplication, QWidget, QPushButton, QVBoxLayout\n",
    "# Inicializa a aplicação\n",
    "app = QApplication(sys.argv)\n",
    "\n",
    "# Cria a janela principal\n",
    "window = QWidget()\n",
    "window.setWindowTitle(\"Exemplo com QVBoxLayout\")\n",
    "\n",
    "# Cria os botões\n",
    "button1 = QPushButton(\"Botão 1\")\n",
    "button2 = QPushButton(\"Botão 2\")\n",
    "button3 = QPushButton(\"Botão 3\")\n",
    "\n",
    "# Configura o layout vertical\n",
    "layout = QVBoxLayout()\n",
    "layout.addWidget(button1)\n",
    "layout.addWidget(button2)\n",
    "layout.addWidget(button3)\n",
    "\n",
    "# Aplica o layout na janela\n",
    "window.setLayout(layout)\n",
    "\n",
    "# Exibe a janela\n",
    "window.show()\n",
    "\n",
    "# Inicia o loop de eventos\n",
    "sys.exit(app.exec_())"
   ]
  },
  {
   "cell_type": "markdown",
   "metadata": {},
   "source": [
    "<div style=\"border: 2px solid orange; padding: 10px; background-color: #fff4e6;\">\n",
    "   <b>Flet</b>: O equivalente seria o widget <u>Column</u>, que organiza os widgets verticalmente. Elementos são adicionados à coluna usando o método <u>controls.append(widget)</u> dentro do Column.\n",
    "</div>"
   ]
  },
  {
   "cell_type": "markdown",
   "metadata": {},
   "source": [
    "<div style=\"border: 2px solid #9b59b6; padding: 10px; background-color: #f5e6fa;\">\n",
    "    <b> Tkinter</b>: Não há um gerenciador de layout específico para organização vertical, mas é possível usar o método <u>pack()</u> com o argumento <u>side=\"top\"</u> para empilhar widgets verticalmente.\n",
    "</div>"
   ]
  },
  {
   "cell_type": "markdown",
   "metadata": {},
   "source": [
    "#### **QHBoxLayout**: Organização Horizontal\n",
    "\n",
    "O QHBoxLayout organiza os widgets horizontalmente, ou seja, em linha. Cada widget adicionado será posicionado lado a lado."
   ]
  },
  {
   "cell_type": "code",
   "execution_count": 1,
   "metadata": {},
   "outputs": [
    {
     "ename": "SystemExit",
     "evalue": "0",
     "output_type": "error",
     "traceback": [
      "An exception has occurred, use %tb to see the full traceback.\n",
      "\u001b[1;31mSystemExit\u001b[0m\u001b[1;31m:\u001b[0m 0\n"
     ]
    },
    {
     "name": "stderr",
     "output_type": "stream",
     "text": [
      "C:\\Users\\analu\\AppData\\Roaming\\Python\\Python312\\site-packages\\IPython\\core\\interactiveshell.py:3585: UserWarning: To exit: use 'exit', 'quit', or Ctrl-D.\n",
      "  warn(\"To exit: use 'exit', 'quit', or Ctrl-D.\", stacklevel=1)\n"
     ]
    }
   ],
   "source": [
    "import sys\n",
    "from PyQt5.QtWidgets import QApplication, QWidget, QCheckBox, QHBoxLayout\n",
    "# Inicializa a aplicação\n",
    "app = QApplication(sys.argv)\n",
    "\n",
    "# Cria a janela principal\n",
    "window = QWidget()\n",
    "window.setWindowTitle(\"Exemplo com QHBoxLayout\")\n",
    "\n",
    "# Cria as caixas de seleção\n",
    "checkbox1 = QCheckBox(\"Opção 1\")\n",
    "checkbox2 = QCheckBox(\"Opção 2\")\n",
    "checkbox3 = QCheckBox(\"Opção 3\")\n",
    "\n",
    "# Configura o layout horizontal\n",
    "layout = QHBoxLayout()\n",
    "layout.addWidget(checkbox1)\n",
    "layout.addWidget(checkbox2)\n",
    "layout.addWidget(checkbox3)\n",
    "\n",
    "# Aplica o layout na janela\n",
    "window.setLayout(layout)\n",
    "\n",
    "# Exibe a janela\n",
    "window.show()\n",
    "\n",
    "# Inicia o loop de eventos\n",
    "sys.exit(app.exec_())\n"
   ]
  },
  {
   "cell_type": "markdown",
   "metadata": {},
   "source": [
    "<div style=\"border: 2px solid orange; padding: 10px; background-color: #fff4e6;\">\n",
    "   <b>Flet</b>: Use o widget <u>Row</u> para organizar os componentes horizontalmente. Elementos são adicionados à linha com o método <u>controls.append(widget)</u> dentro do Row.\n",
    "</div>"
   ]
  },
  {
   "cell_type": "markdown",
   "metadata": {},
   "source": [
    "<div style=\"border: 2px solid #9b59b6; padding: 10px; background-color: #f5e6fa;\">\n",
    "    <b> Tkinter</b>: É possível usar o método <u>pack()</u> com o argumento <u>side=\"left\"</u> ou o método <u>grid()</u> especificando a mesma linha (row) e diferentes colunas (column).\n",
    "</div>"
   ]
  },
  {
   "cell_type": "markdown",
   "metadata": {},
   "source": [
    "#### **QGridLayout**: Organização em Grade\n",
    "\n",
    "O QGridLayout é um layout avançado que organiza widgets em linhas e colunas, permitindo uma disposição mais flexível."
   ]
  },
  {
   "cell_type": "code",
   "execution_count": null,
   "metadata": {},
   "outputs": [],
   "source": [
    "import sys\n",
    "from PyQt5.QtWidgets import QApplication, QWidget, QLabel, QLineEdit, QGridLayout\n",
    "\n",
    "# Inicializa a aplicação\n",
    "app = QApplication(sys.argv)\n",
    "\n",
    "# Cria a janela principal\n",
    "window = QWidget()\n",
    "window.setWindowTitle(\"Exemplo com QGridLayout\")\n",
    "\n",
    "# Cria os widgets\n",
    "label1 = QLabel(\"Nome:\")\n",
    "input1 = QLineEdit()\n",
    "label2 = QLabel(\"Idade:\")\n",
    "input2 = QLineEdit()\n",
    "\n",
    "# Configura o layout em grade\n",
    "layout = QGridLayout()\n",
    "layout.addWidget(label1, 0, 0)  # Adiciona na linha 0, coluna 0\n",
    "layout.addWidget(input1, 0, 1)  # Adiciona na linha 0, coluna 1\n",
    "layout.addWidget(label2, 1, 0)  # Adiciona na linha 1, coluna 0\n",
    "layout.addWidget(input2, 1, 1)  # Adiciona na linha 1, coluna 1\n",
    "\n",
    "# Aplica o layout na janela\n",
    "window.setLayout(layout)\n",
    "\n",
    "# Exibe a janela\n",
    "window.show()\n",
    "\n",
    "# Inicia o loop de eventos\n",
    "sys.exit(app.exec_())"
   ]
  },
  {
   "cell_type": "markdown",
   "metadata": {},
   "source": [
    "<div style=\"border: 2px solid orange; padding: 10px; background-color: #fff4e6;\">\n",
    "   <b>Flet</b>: O Flet não possui diretamente um layout de grade como o QGridLayout. Você pode usar múltiplos Row ou Column juntos para simular uma grade.\n",
    "</div>"
   ]
  },
  {
   "cell_type": "markdown",
   "metadata": {},
   "source": [
    "<div style=\"border: 2px solid #9b59b6; padding: 10px; background-color: #f5e6fa;\">\n",
    "    <b> Tkinter</b>: Use o método <u>grid()</u> para organizar widgets em linhas e colunas. Cada widget é posicionado com os argumentos <u>row e column</u>, como no PyQt5. Por exemplo, <u>widget.grid(row=0, column=0)</u>.\n",
    "</div>"
   ]
  },
  {
   "cell_type": "markdown",
   "metadata": {},
   "source": [
    "## Menus e Barras de Ferramentas\n",
    "\n",
    "Menus e barras de ferramentas são componentes fundamentais na elaboração de interfaces, as tornando mais organizadas. No Pyqt, essas funções são introduzidas com as classes **QToolBar**, **QMenuBar** e **QAction**.\n",
    "\n",
    "#### **QToolBar**: Barra de ferramentas\n",
    "\n",
    "É utilizada para criar barras que contêm botões, ícones e outros widgets que realizam tarefas específicas. Essas barras podem ser adicionadas a uma janela principal com o método **addTollBar()**."
   ]
  },
  {
   "cell_type": "code",
   "execution_count": null,
   "metadata": {},
   "outputs": [],
   "source": [
    "import sys\n",
    "from PyQt5.QtWidgets import QMainWindow, QApplication, QToolBar, QLabel,QCheckBox\n",
    "from PyQt5.QtCore import Qt\n",
    "\n",
    "class MainWindow(QMainWindow):\n",
    "    def __init__(self):\n",
    "        super().__init__()\n",
    "        self.setWindowTitle(\"Toolbar com Checkbox\")\n",
    "\n",
    "        # Rótulo central\n",
    "        self.label = QLabel(\"Checkbox não marcado\")\n",
    "        self.label.setAlignment(Qt.AlignCenter)\n",
    "        self.setCentralWidget(self.label)\n",
    "\n",
    "        # Criando a barra de ferramentas\n",
    "        toolbar = QToolBar(\"Barra de Ferramentas\")\n",
    "        self.addToolBar(toolbar)\n",
    "\n",
    "        # Adicionando um checkbox\n",
    "        checkbox = QCheckBox(\"Marcar\")\n",
    "        checkbox.stateChanged.connect(self.alterar_texto)\n",
    "        toolbar.addWidget(checkbox)\n",
    "\n",
    "    def alterar_texto(self, estado):\n",
    "        if estado == Qt.Checked:\n",
    "            self.label.setText(\"Checkbox marcado\")\n",
    "        else:\n",
    "            self.label.setText(\"Checkbox não marcado\")\n",
    "\n",
    "app = QApplication(sys.argv)\n",
    "window = MainWindow()\n",
    "window.show()\n",
    "sys.exit(app.exec_())"
   ]
  },
  {
   "cell_type": "markdown",
   "metadata": {},
   "source": [
    "<div style=\"border: 2px solid orange; padding: 10px; background-color: #fff4e6;\">\n",
    "   <b>Flet</b>: Barras de ferramenta sao frequentemente implementadas usando <u>AppBar</u>, que permite adicionar botões, ícones e menus na parte superior da janela.\n",
    "</div>"
   ]
  },
  {
   "cell_type": "markdown",
   "metadata": {},
   "source": [
    "<div style=\"border: 2px solid #9b59b6; padding: 10px; background-color: #f5e6fa;\">\n",
    "    <b> Tkinter</b>: Barras de ferramenta são criadas adicionando widgets como botões a um container, geralmente um <u>Frame</u>.\n",
    "Esses botões podem ser organizados horizontalmente para simular uma barra de ferramentas.\n",
    "</div>"
   ]
  },
  {
   "cell_type": "markdown",
   "metadata": {},
   "source": [
    "#### **QMenuBar**: Menu Principal\n",
    "\n",
    "É utilizada para criar menus no topo da janela, com funções organizadas em itens hierárquicos."
   ]
  },
  {
   "cell_type": "code",
   "execution_count": null,
   "metadata": {},
   "outputs": [],
   "source": [
    "import sys\n",
    "from PyQt5.QtWidgets import QMainWindow, QApplication, QMenuBar, QLabel\n",
    "\n",
    "class MainWindow(QMainWindow):\n",
    "    def __init__(self):\n",
    "        super().__init__()\n",
    "        self.setWindowTitle(\"Menu com Submenus\")\n",
    "\n",
    "        # Rótulo central\n",
    "        self.label = QLabel(\"Texto Central\")\n",
    "        self.setCentralWidget(self.label)\n",
    "\n",
    "        # Criando o menu\n",
    "        menu_bar = self.menuBar()\n",
    "        menu_arquivo = menu_bar.addMenu(\"Arquivo\")\n",
    "\n",
    "        # Adicionando submenu\n",
    "        submenu_opcoes = menu_arquivo.addMenu(\"Opções\")\n",
    "        submenu_opcoes.addAction(\"Opção 1\").triggered.connect(lambda: self.atualizar_label(\"Opção 1 Selecionada\"))\n",
    "        submenu_opcoes.addAction(\"Opção 2\").triggered.connect(lambda: self.atualizar_label(\"Opção 2 Selecionada\"))\n",
    "\n",
    "        menu_arquivo.addAction(\"Sair\").triggered.connect(self.close)\n",
    "\n",
    "    def atualizar_label(self, texto):\n",
    "        self.label.setText(texto)\n",
    "\n",
    "app = QApplication(sys.argv)\n",
    "window = MainWindow()\n",
    "window.show()\n",
    "sys.exit(app.exec_())"
   ]
  },
  {
   "cell_type": "markdown",
   "metadata": {},
   "source": [
    "<div style=\"border: 2px solid orange; padding: 10px; background-color: #fff4e6;\">\n",
    "   <b>Flet</b>: Menus interativos e hierárquicos são implementados usando <u>PopupMenuButton</u> ou <u>Dropdown</u>. Submenus podem ser adicionados com múltiplos itens dentro de PopupMenuButton.\n",
    "</div>"
   ]
  },
  {
   "cell_type": "markdown",
   "metadata": {},
   "source": [
    "<div style=\"border: 2px solid #9b59b6; padding: 10px; background-color: #f5e6fa;\">\n",
    "    <b> Tkinter</b>: A classe <u>Menu</u> é oferecida para criar menus no topo da janela. Menus e submenus são organizados hierarquicamente, cada opção pode ser vinculada a comandos específicos usando <u>add_command</u>.\n",
    "</div>"
   ]
  },
  {
   "cell_type": "markdown",
   "metadata": {},
   "source": [
    "#### **QAction**: Integração em barras e menus\n",
    "\n",
    "A classe permite definir ações reutilizáveis que podem ser compartilhadas entre menus e barras de ferramentas. Isso reduz a redundância do código.\n",
    "\n",
    "No exemplo abaixo, a diferença para um QMenuBar básico é que o uso do **QAction** organiza melhor as opções do menu, permitindo conectar ações específicas, como exibir mensagens ou fechar a aplicação de forma mais flexível e prática."
   ]
  },
  {
   "cell_type": "code",
   "execution_count": null,
   "metadata": {},
   "outputs": [],
   "source": [
    "import sys\n",
    "from PyQt5.QtWidgets import QMainWindow, QApplication, QMenuBar, QLabel, QAction\n",
    "\n",
    "class MainWindow(QMainWindow):\n",
    "    def __init__(self):\n",
    "        super().__init__()\n",
    "        self.setWindowTitle(\"Exemplo com QAction\")\n",
    "\n",
    "        # Rótulo central\n",
    "        self.label = QLabel(\"Texto Central\")\n",
    "        self.setCentralWidget(self.label)\n",
    "\n",
    "        # Criando o menu\n",
    "        menu_bar = self.menuBar()\n",
    "        menu_arquivo = menu_bar.addMenu(\"Arquivo\")\n",
    "\n",
    "        # Criando ações\n",
    "        acao_abrir = QAction(\"Abrir\", self)\n",
    "        acao_abrir.triggered.connect(lambda: self.atualizar_label(\"Abrir Selecionado\"))\n",
    "        menu_arquivo.addAction(acao_abrir)\n",
    "\n",
    "        acao_salvar = QAction(\"Salvar\", self)\n",
    "        acao_salvar.triggered.connect(lambda: self.atualizar_label(\"Salvar Selecionado\"))\n",
    "        menu_arquivo.addAction(acao_salvar)\n",
    "\n",
    "        acao_sair = QAction(\"Sair\", self)\n",
    "        acao_sair.triggered.connect(self.close)\n",
    "        menu_arquivo.addAction(acao_sair)\n",
    "\n",
    "    def atualizar_label(self, texto):\n",
    "        self.label.setText(texto)\n",
    "\n",
    "app = QApplication(sys.argv)\n",
    "window = MainWindow()\n",
    "window.show()\n",
    "sys.exit(app.exec_())"
   ]
  },
  {
   "cell_type": "markdown",
   "metadata": {},
   "source": [
    "<div style=\"border: 2px solid orange; padding: 10px; background-color: #fff4e6;\">\n",
    "   <b>Flet</b>: Ações em flet são implementadas por meio de funções associadas aos eventos de cliques dos widgets, como <u>on_click</u> em <u>PopupMenuButton</u> ou <u>IconButton</u>.\n",
    "</div>"
   ]
  },
  {
   "cell_type": "markdown",
   "metadata": {},
   "source": [
    "<div style=\"border: 2px solid #9b59b6; padding: 10px; background-color: #f5e6fa;\">\n",
    "    <b> Tkinter</b>: As ações podem ser centralizadas definindo funções e vinculando-as a itens de menu ou botões na barra de ferramentas. Mesmo mecanismo utlizado para o item anterior.\n",
    "</div>"
   ]
  },
  {
   "cell_type": "markdown",
   "metadata": {},
   "source": [
    "## Exemplo Completo: Lista de tarefas \n",
    "\n",
    "Criaremos agora um gerenciador de tarefas simples, combinando elementos de entrada, botões e um menu básico para oferecer uma melhor experiência.\n",
    "\n",
    "#### Passos:\n",
    "\n",
    "1. <u> Estrutura da janela com **QMainWindow**</u>:\n",
    "\n",
    "    A classe **ToDoApp** vai herdar de QMainWindow, isso vai permitir que os menus sejam integrados com facilidade. O widget central é configurado com **QVBoxLayout**, que organiza os elementos da interface como o título, campo de entrada e botões.\n",
    "\n",
    "2. <u> Adicionar tarefas</u>:\n",
    "\n",
    "   O usuário vai digitar a tarefa no campo de texto construído com **QLineEdit** e clicar no botão **Adicionar Tarefa**.\n",
    "   O método irá criar um novo item na lista **QListWidget** e o exibe. Se o campo estiver vazio, uma mensagem de erro será exibida com **QMessageBox.warning**.\n",
    "\n",
    "3. <u> Gerenciar tarefas</u>:\n",
    "\n",
    "   - Marcar como concluídas\n",
    "   - Remover tarefas\n",
    "\n",
    "  \n",
    "4. <u>Menu básico</u>:\n",
    "\n",
    "   O menu foi adicionado com a classe **QMenuBar**, que cria o menu **Arquivo**. Esse menu contém uma opção \"sair\" que está conectada ao método **close**, que encerra a aplicação.\n",
    "\n",
    "5. <u>Organização visual</u>:\n",
    "\n",
    "   **QVBoxLayout** e **QHBoxLayout** para alinhar os elementos."
   ]
  },
  {
   "cell_type": "code",
   "execution_count": null,
   "metadata": {},
   "outputs": [],
   "source": [
    "import sys\n",
    "from PyQt5.QtWidgets import (\n",
    "    QApplication, QWidget, QVBoxLayout, QLabel, QLineEdit, QPushButton, \n",
    "    QListWidget, QHBoxLayout, QListWidgetItem, QMessageBox, QMainWindow, QMenuBar\n",
    ")\n",
    "from PyQt5.QtCore import Qt\n",
    "from PyQt5.QtGui import QFont\n",
    "\n",
    "class ToDoApp(QMainWindow):  # Herda de QMainWindow para suportar menus\n",
    "    def __init__(self):\n",
    "        super().__init__()\n",
    "\n",
    "        # Configurações da janela\n",
    "        self.setWindowTitle(\"Lista de Tarefas\")\n",
    "        self.setGeometry(100, 100, 400, 500)\n",
    "\n",
    "        # Configuração do widget central com layout\n",
    "        central_widget = QWidget()\n",
    "        self.setCentralWidget(central_widget)\n",
    "\n",
    "        main_layout = QVBoxLayout()\n",
    "\n",
    "        # Título da aplicação\n",
    "        self.label_titulo = QLabel(\"Lista de Tarefas\")\n",
    "        self.label_titulo.setFont(QFont(\"Arial\", 16, QFont.Bold))\n",
    "        self.label_titulo.setAlignment(Qt.AlignCenter)  # Centraliza o título\n",
    "        main_layout.addWidget(self.label_titulo)\n",
    "\n",
    "        # Campo de entrada para adicionar tarefa\n",
    "        self.entry_tarefa = QLineEdit()\n",
    "        self.entry_tarefa.setPlaceholderText(\"Digite uma nova tarefa\")\n",
    "        main_layout.addWidget(self.entry_tarefa)\n",
    "\n",
    "        # Botão para adicionar tarefa\n",
    "        self.btn_adicionar = QPushButton(\"Adicionar Tarefa\")\n",
    "        self.btn_adicionar.clicked.connect(self.adicionar_tarefa)\n",
    "        main_layout.addWidget(self.btn_adicionar)\n",
    "\n",
    "        # Lista de tarefas\n",
    "        self.lista_tarefas = QListWidget()\n",
    "        main_layout.addWidget(self.lista_tarefas)\n",
    "\n",
    "        # Botões de ação: Marcar como concluída e remover\n",
    "        action_layout = QHBoxLayout()\n",
    "\n",
    "        self.btn_completar = QPushButton(\"Marcar como Concluída\")\n",
    "        self.btn_completar.clicked.connect(self.marcar_como_concluida)\n",
    "        action_layout.addWidget(self.btn_completar)\n",
    "\n",
    "        self.btn_remover = QPushButton(\"Remover Tarefa\")\n",
    "        self.btn_remover.clicked.connect(self.remover_tarefa)\n",
    "        action_layout.addWidget(self.btn_remover)\n",
    "\n",
    "        main_layout.addLayout(action_layout)\n",
    "        central_widget.setLayout(main_layout)\n",
    "\n",
    "        # Adicionando o menu básico\n",
    "        self.criar_menu()\n",
    "\n",
    "    def criar_menu(self):\n",
    "        menu_bar = self.menuBar()\n",
    "        menu_arquivo = menu_bar.addMenu(\"Arquivo\")\n",
    "        menu_arquivo.addAction(\"Sair\").triggered.connect(self.close)  # Fecha a aplicação\n",
    "\n",
    "    def adicionar_tarefa(self):\n",
    "        # Adiciona uma nova tarefa à lista\n",
    "        tarefa = self.entry_tarefa.text().strip()\n",
    "        if tarefa:\n",
    "            item = QListWidgetItem(tarefa)\n",
    "            item.setCheckState(Qt.Unchecked)  # Permite marcar como concluída\n",
    "            self.lista_tarefas.addItem(item)\n",
    "            self.entry_tarefa.clear()\n",
    "        else:\n",
    "            QMessageBox.warning(self, \"Erro\", \"A tarefa não pode estar vazia.\")\n",
    "\n",
    "    def marcar_como_concluida(self):\n",
    "        # Marca a tarefa selecionada como concluída\n",
    "        for item in self.lista_tarefas.selectedItems():\n",
    "            item.setCheckState(Qt.Checked)\n",
    "\n",
    "    def remover_tarefa(self):\n",
    "        # Remove a tarefa selecionada\n",
    "        for item in self.lista_tarefas.selectedItems():\n",
    "            self.lista_tarefas.takeItem(self.lista_tarefas.row(item))\n",
    "\n",
    "# Inicializa a aplicação\n",
    "app = QApplication(sys.argv)\n",
    "window = ToDoApp()\n",
    "window.show()\n",
    "sys.exit(app.exec_())"
   ]
  },
  {
   "cell_type": "markdown",
   "metadata": {},
   "source": [
    "#### Conceitos do material usados:\n",
    "\n",
    "1. Widgets: Uso de **QLabel**, **QLineEdit**, **QPushButton** e **QListWidget**.\n",
    "2. Eventos e sinais: Os botões foram conectados a métodos usando **clicked.connect**, isso permite a interatividade com as ações do usuário.\n",
    "3. Menu: Uso de **MenuBar**\n",
    "4. Layouts: Uso combinado de **QVBoxLayout** e **QHBoxLayout**, adaptando o conteúdo para uma melhor experiência visual."
   ]
  },
  {
   "cell_type": "markdown",
   "metadata": {},
   "source": [
    "# Uso de Multithreading em Interfaces Gráficas"
   ]
  },
  {
   "cell_type": "markdown",
   "metadata": {},
   "source": [
    "Em interfaces gráficas, operações que consomem muito tempo (como leitura de arquivos, download ou cálculos pesados) podem travar a interface se executadas na thread principal. Para evitar isso, utilizamos threads secundárias para executar essas tarefas, garantindo que a interface continue responsiva.\n",
    "\n",
    "### PyQt: Multithreading com QThread\n",
    "PyQt fornece a classe **QThread** para facilitar o uso de threads secundárias em aplicações.\n",
    "\n"
   ]
  },
  {
   "cell_type": "code",
   "execution_count": null,
   "metadata": {},
   "outputs": [],
   "source": [
    "from PyQt5.QtWidgets import QApplication, QLabel, QVBoxLayout, QPushButton, QWidget\n",
    "from PyQt5.QtCore import QThread, pyqtSignal\n",
    "import time\n",
    "\n",
    "class WorkerThread(QThread):\n",
    "    progress = pyqtSignal(int)  # Sinal para notificar o progresso\n",
    "\n",
    "    def run(self):\n",
    "        for i in range(1, 6):  # Simula uma tarefa longa\n",
    "            time.sleep(1)\n",
    "            self.progress.emit(i)  # Envia o progresso para a interface\n",
    "\n",
    "\n",
    "class MainWindow(QWidget):\n",
    "    def __init__(self):\n",
    "        super().__init__()\n",
    "\n",
    "        self.setWindowTitle(\"PyQt Multithreading\")\n",
    "        self.layout = QVBoxLayout()\n",
    "        self.label = QLabel(\"Clique para iniciar uma tarefa longa.\")\n",
    "        self.button = QPushButton(\"Iniciar Tarefa\")\n",
    "\n",
    "        self.layout.addWidget(self.label)\n",
    "        self.layout.addWidget(self.button)\n",
    "        self.setLayout(self.layout)\n",
    "\n",
    "        self.button.clicked.connect(self.start_task)\n",
    "\n",
    "    def start_task(self):\n",
    "        self.thread = WorkerThread()\n",
    "        self.thread.progress.connect(self.update_label)\n",
    "        self.thread.start()\n",
    "\n",
    "    def update_label(self, progress):\n",
    "        self.label.setText(f\"Progresso: {progress}/5\")\n",
    "\n",
    "\n",
    "app = QApplication([])\n",
    "window = MainWindow()\n",
    "window.show()\n",
    "app.exec_()"
   ]
  },
  {
   "cell_type": "markdown",
   "metadata": {},
   "source": [
    "<div style=\"border: 2px solid orange; padding: 10px; background-color: #fff4e6;\">\n",
    "<b>Flet</b>: O multithreading em Flet é implementado utilizando o pacote <u>threading</u>, garantindo que a interface gráfica permaneça responsiva.\n",
    "O uso de eventos assíncronos em Flet pode ser combinado com <u>asyncio</u> para facilitar a execução de tarefas paralelas, como carregamento de dados ou chamadas a APIs.\n"
   ]
  },
  {
   "cell_type": "markdown",
   "metadata": {},
   "source": [
    "<div style=\"border: 2px solid #9b59b6; padding: 10px; background-color: #f5e6fa;\">\n",
    "<b>Tkinter</b>: Para manter a interface responsiva, o pacote <u>threading</u> também pode ser usado, executando tarefas longas em threads secundárias enquanto a interface principal continua operante.Apesar de <u>asyncio</u> não ser integrado diretamente no Tkinter, é possível realizar chamadas assíncronas utilizando bibliotecas adicionais para integrar tarefas ao loop principal.\n",
    "\n"
   ]
  },
  {
   "cell_type": "markdown",
   "metadata": {},
   "source": [
    "# Exercícios"
   ]
  },
  {
   "cell_type": "markdown",
   "metadata": {},
   "source": [
    "#### 1) Crie uma aplicação que converta temperaturas entre Celsius, Fahrenheit e Kelvin.\n",
    "##### A janela deve possuir um espaço para a entrada da temperatura e opções para a escolha da unidade de entrada e saída.\n",
    "a) **Dicas**: Implemente fórmulas para a conversão entre as escalas e use menus suspensos (dropdown) para selecionar as unidades.\n",
    "\n",
    "b) **Exigências**: A entrada deve ser validada para receber apenas números reais e o resultado deve ser exibido com duas casas decimais.\n",
    "\n",
    "##### Gabarito"
   ]
  },
  {
   "cell_type": "code",
   "execution_count": null,
   "metadata": {},
   "outputs": [],
   "source": [
    "import sys\n",
    "from PyQt5.QtWidgets import QApplication, QWidget, QVBoxLayout, QLineEdit, QLabel, QPushButton, QComboBox, QMessageBox\n",
    "from PyQt5.QtGui import QFont, QPalette, QColor\n",
    "\n",
    "# Funções de conversão entre as escalas\n",
    "def celsius_para_fahrenheit(c):\n",
    "    return (c * 9/5) + 32\n",
    "\n",
    "def celsius_para_kelvin(c):\n",
    "    return c + 273.15\n",
    "\n",
    "def fahrenheit_para_celsius(f):\n",
    "    return (f - 32) * 5/9\n",
    "\n",
    "def fahrenheit_para_kelvin(f):\n",
    "    return (f - 32) * 5/9 + 273.15\n",
    "\n",
    "def kelvin_para_celsius(k):\n",
    "    return k - 273.15\n",
    "\n",
    "def kelvin_para_fahrenheit(k):\n",
    "    return (k - 273.15) * 9/5 + 32\n",
    "\n",
    "# Classe principal da aplicação\n",
    "class ConversorDeTemperatura(QWidget):\n",
    "    def __init__(self):\n",
    "        super().__init__()\n",
    "\n",
    "        # Configuração da janela\n",
    "        self.setWindowTitle(\"Conversor de Temperatura\")\n",
    "        self.showFullScreen()\n",
    "\n",
    "        # Alterando o fundo da janela\n",
    "        palette = QPalette()\n",
    "        palette.setColor(QPalette.Window, QColor(\"#f0f0f0\"))\n",
    "        self.setPalette(palette)\n",
    "\n",
    "        # Layout e widgets\n",
    "        layout = QVBoxLayout()\n",
    "        layout.setSpacing(20)  # Espaçamento entre os widgets\n",
    "\n",
    "        # Estilo e fonte padrão\n",
    "        fonte_padrao = QFont(\"Arial\", 14)\n",
    "\n",
    "        # Entrada de temperatura\n",
    "        self.input_temperatura = QLineEdit(self)\n",
    "        self.input_temperatura.setPlaceholderText(\"Digite a temperatura\")\n",
    "        self.input_temperatura.setFont(fonte_padrao)\n",
    "        layout.addWidget(self.input_temperatura)\n",
    "\n",
    "        # Combobox para unidade de entrada\n",
    "        self.combo_de = QComboBox(self)\n",
    "        self.combo_de.addItems([\"Celsius\", \"Fahrenheit\", \"Kelvin\"])\n",
    "        self.combo_de.setFont(fonte_padrao)\n",
    "        layout.addWidget(self.combo_de)\n",
    "\n",
    "        # Combobox para unidade de saída\n",
    "        self.combo_para = QComboBox(self)\n",
    "        self.combo_para.addItems([\"Celsius\", \"Fahrenheit\", \"Kelvin\"])\n",
    "        self.combo_para.setFont(fonte_padrao)\n",
    "        layout.addWidget(self.combo_para)\n",
    "\n",
    "        # Botão de conversão\n",
    "        self.botao_converter = QPushButton(\"Converter\", self)\n",
    "        self.botao_converter.setFont(QFont(\"Arial\", 16, QFont.Bold))\n",
    "        self.botao_converter.setStyleSheet(\"background-color: #4CAF50; color: white; padding: 10px;\")\n",
    "        self.botao_converter.clicked.connect(self.converter)\n",
    "        layout.addWidget(self.botao_converter)\n",
    "\n",
    "        # Label para exibir o resultado\n",
    "        self.label_resultado = QLabel(\"Resultado: \", self)\n",
    "        self.label_resultado.setFont(QFont(\"Arial\", 16, QFont.Bold))\n",
    "        self.label_resultado.setStyleSheet(\"color: #333333;\")\n",
    "        layout.addWidget(self.label_resultado)\n",
    "\n",
    "        # Botão para sair\n",
    "        self.botao_sair = QPushButton(\"Sair\", self)\n",
    "        self.botao_sair.setFont(QFont(\"Arial\", 14))\n",
    "        self.botao_sair.setStyleSheet(\"background-color: #ff4d4d; color: white; padding: 10px;\")\n",
    "        self.botao_sair.clicked.connect(self.close)\n",
    "        layout.addWidget(self.botao_sair)\n",
    "\n",
    "        # Configuração final do layout\n",
    "        layout.setContentsMargins(50, 50, 50, 50)  # Margens ao redor do layout\n",
    "        self.setLayout(layout)\n",
    "\n",
    "    # Função de conversão\n",
    "    def converter(self):\n",
    "        try:\n",
    "            valor = float(self.input_temperatura.text())\n",
    "            de_unidade = self.combo_de.currentText()\n",
    "            para_unidade = self.combo_para.currentText()\n",
    "\n",
    "            if de_unidade == para_unidade:\n",
    "                QMessageBox.information(self, \"Sem Conversão\", \"Escolha unidades diferentes para conversão.\")\n",
    "                return\n",
    "\n",
    "            # Lógica de conversão\n",
    "            if de_unidade == \"Celsius\":\n",
    "                resultado = celsius_para_fahrenheit(valor) if para_unidade == \"Fahrenheit\" else celsius_para_kelvin(valor)\n",
    "            elif de_unidade == \"Fahrenheit\":\n",
    "                resultado = fahrenheit_para_celsius(valor) if para_unidade == \"Celsius\" else fahrenheit_para_kelvin(valor)\n",
    "            elif de_unidade == \"Kelvin\":\n",
    "                resultado = kelvin_para_celsius(valor) if para_unidade == \"Celsius\" else kelvin_para_fahrenheit(valor)\n",
    "\n",
    "            # Exibição do resultado\n",
    "            self.label_resultado.setText(f\"Resultado: {resultado:.2f} {para_unidade}\")\n",
    "\n",
    "        except ValueError:\n",
    "            QMessageBox.warning(self, \"Erro\", \"Por favor, insira um número válido.\")\n",
    "\n",
    "# Execução da aplicação\n",
    "if __name__ == \"__main__\":\n",
    "    app = QApplication(sys.argv)\n",
    "    janela = ConversorDeTemperatura()\n",
    "    janela.show()\n",
    "    sys.exit(app.exec_())\n"
   ]
  },
  {
   "cell_type": "markdown",
   "metadata": {},
   "source": [
    "#### 2) Desenvolva uma aplicação que calcule a média aritmética de uma lista de números fornecida pelo usuário.\n",
    "##### A janela deve conter um campo de entrada para os números, separados por vírgulas e um botão para calcular.\n",
    "a) **Dicas**: Divida as entradas por vírgulas, converta os valores para números e utilize **sum** e **len** para calcular a média.\n",
    "\n",
    "b) **Exigências**: A entrada deve ser validada para que todas os valores sejam números e caso não sejam fornecidos valores, exiba uma mensagem de erro.\n",
    "\n",
    "##### Gabarito"
   ]
  },
  {
   "cell_type": "code",
   "execution_count": null,
   "metadata": {},
   "outputs": [],
   "source": [
    "import sys\n",
    "from PyQt5.QtWidgets import QApplication, QWidget, QVBoxLayout, QLineEdit, QPushButton, QLabel, QMessageBox\n",
    "from PyQt5.QtGui import QFont, QPalette, QColor\n",
    "\n",
    "# Classe principal da aplicação\n",
    "class MediaAritmetica(QWidget):\n",
    "    def __init__(self):\n",
    "        super().__init__()\n",
    "\n",
    "        # Configuração da janela\n",
    "        self.setWindowTitle(\"Calculadora de Média Aritmética\")\n",
    "        self.showFullScreen()\n",
    "\n",
    "        # Alterando o fundo da janela\n",
    "        palette = QPalette()\n",
    "        palette.setColor(QPalette.Window, QColor(\"#f5f5f5\"))\n",
    "        self.setPalette(palette)\n",
    "\n",
    "        # Layout principal\n",
    "        layout = QVBoxLayout()\n",
    "\n",
    "        # Fonte padrão para os widgets\n",
    "        fonte_padrao = QFont(\"Arial\", 18)\n",
    "\n",
    "        # Campo de entrada para os números\n",
    "        self.input_numeros = QLineEdit(self)\n",
    "        self.input_numeros.setFont(fonte_padrao)\n",
    "        self.input_numeros.setPlaceholderText(\"Digite os números separados por vírgulas (ex: 10, 20, 30)\")\n",
    "        self.input_numeros.setStyleSheet(\"padding: 10px;\")\n",
    "        layout.addWidget(self.input_numeros)\n",
    "\n",
    "        # Botão de cálculo\n",
    "        self.botao_calcular = QPushButton(\"Calcular Média\", self)\n",
    "        self.botao_calcular.setFont(QFont(\"Arial\", 20, QFont.Bold))\n",
    "        self.botao_calcular.setStyleSheet(\"background-color: #4CAF50; color: white; padding: 10px;\")\n",
    "        self.botao_calcular.clicked.connect(self.calcular_media)\n",
    "        layout.addWidget(self.botao_calcular)\n",
    "\n",
    "        # Campo de resultado\n",
    "        self.label_resultado = QLabel(\"Resultado: \", self)\n",
    "        self.label_resultado.setFont(QFont(\"Arial\", 22, QFont.Bold))\n",
    "        self.label_resultado.setStyleSheet(\"color: #333333; padding: 10px;\")\n",
    "        layout.addWidget(self.label_resultado)\n",
    "\n",
    "        # Botão de sair\n",
    "        self.botao_sair = QPushButton(\"Sair\", self)\n",
    "        self.botao_sair.setFont(QFont(\"Arial\", 18))\n",
    "        self.botao_sair.setStyleSheet(\"background-color: #ff4d4d; color: white; padding: 10px;\")\n",
    "        self.botao_sair.clicked.connect(self.close)\n",
    "        layout.addWidget(self.botao_sair)\n",
    "\n",
    "        # Configuração do layout principal\n",
    "        layout.setContentsMargins(50, 50, 50, 50)\n",
    "        layout.setSpacing(20)\n",
    "        self.setLayout(layout)\n",
    "\n",
    "    # Função para calcular a média\n",
    "    def calcular_media(self):\n",
    "        try:\n",
    "            # Captura os números do campo de entrada\n",
    "            texto = self.input_numeros.text()\n",
    "            numeros = [float(num.strip()) for num in texto.split(\",\")]\n",
    "\n",
    "            # Calcula a média aritmética\n",
    "            if len(numeros) == 0:\n",
    "                raise ValueError(\"Nenhum número informado.\")\n",
    "            \n",
    "            media = sum(numeros) / len(numeros)\n",
    "\n",
    "            # Exibe o resultado\n",
    "            self.label_resultado.setText(f\"Resultado: {media:.2f}\")\n",
    "        except ValueError:\n",
    "            # Exibe um erro em caso de entrada inválida\n",
    "            QMessageBox.warning(self, \"Erro\", \"Por favor, insira números válidos separados por vírgulas.\")\n",
    "\n",
    "# Execução da aplicação\n",
    "if __name__ == \"__main__\":\n",
    "    app = QApplication(sys.argv)\n",
    "    janela = MediaAritmetica()\n",
    "    janela.show()\n",
    "    sys.exit(app.exec_())"
   ]
  }
 ],
 "metadata": {
  "kernelspec": {
   "display_name": "Python 3 (ipykernel)",
   "language": "python",
   "name": "python3"
  },
  "language_info": {
   "codemirror_mode": {
    "name": "ipython",
    "version": 3
   },
   "file_extension": ".py",
   "mimetype": "text/x-python",
   "name": "python",
   "nbconvert_exporter": "python",
   "pygments_lexer": "ipython3",
   "version": "3.12.4"
  }
 },
 "nbformat": 4,
 "nbformat_minor": 4
}
