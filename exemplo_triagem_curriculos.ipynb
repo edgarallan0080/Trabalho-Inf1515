{
 "cells": [
  {
   "cell_type": "markdown",
   "id": "b6451b4b-cf1f-432f-ab6e-28b4127a9697",
   "metadata": {},
   "source": [
    "# Análise Automatizada de Currículos em PDF\n",
    "\n",
    "Este notebook automatiza a leitura de currículos em PDF, localizados na pasta `INF1515/curriculos`, e verifica quais candidatos mencionam instituições específicas como:\n",
    "\n",
    "- **PUC-Rio**\n",
    "- **Pontifícia Universidade Católica do Rio de Janeiro**\n",
    "\n",
    "O objetivo é filtrar automaticamente os arquivos relevantes para facilitar a triagem de candidatos.\n"
   ]
  },
  {
   "cell_type": "code",
   "execution_count": 16,
   "id": "f9a8acdb-129f-4156-98a9-8838079afa5c",
   "metadata": {},
   "outputs": [
    {
     "name": "stdout",
     "output_type": "stream",
     "text": [
      "Requirement already satisfied: pymupdf in c:\\users\\pedro\\appdata\\local\\programs\\python\\python313\\lib\\site-packages (1.26.0)\n"
     ]
    }
   ],
   "source": [
    "!pip install pymupdf"
   ]
  },
  {
   "cell_type": "code",
   "execution_count": 17,
   "id": "b3362f02-7eeb-4328-8d5b-0ee44bf04b9c",
   "metadata": {},
   "outputs": [],
   "source": [
    "import os\n",
    "import PyPDF2\n",
    "import fitz  # PyMuPDF"
   ]
  },
  {
   "cell_type": "markdown",
   "id": "65a08ec3-4191-41c3-babf-db9c6c0b8d25",
   "metadata": {},
   "source": [
    "### Leitura automática de currículos em PDF\n",
    "\n",
    "Esta automação percorre todos os arquivos PDF dentro da pasta `curriculos/` e verifica se o conteúdo menciona \"PUC-Rio\" ou \"Pontifícia Universidade Católica do Rio de Janeiro\".\n",
    "\n",
    "Se encontrar, imprime o nome do arquivo (ou salva numa lista para posterior triagem).\n"
   ]
  },
  {
   "cell_type": "code",
   "execution_count": 12,
   "id": "41073ed5-9498-47d6-a78a-442910f94448",
   "metadata": {},
   "outputs": [],
   "source": [
    "# Caminho da pasta\n",
    "pasta_curriculos = \"C:/Users/pedro/INF1515/curriculos\"\n",
    "\n",
    "# Palavras-chave para buscar nos currículos\n",
    "palavras_chave = [\"PUC-Rio\", \"Pontifícia Universidade Católica do Rio de Janeiro\"]\n"
   ]
  },
  {
   "cell_type": "code",
   "execution_count": 13,
   "id": "3c55dc55-1ab6-4d81-83ec-c42b0e66b962",
   "metadata": {},
   "outputs": [
    {
     "name": "stdout",
     "output_type": "stream",
     "text": [
      "Currículos que mencionam PUC-Rio ou equivalente:\n",
      "- candidato1.pdf\n",
      "- candidato3.pdf\n",
      "- candidato5.pdf\n"
     ]
    }
   ],
   "source": [
    "curriculos_filtrados = []\n",
    "\n",
    "for nome_arquivo in os.listdir(pasta_curriculos):\n",
    "    if nome_arquivo.endswith(\".pdf\"):\n",
    "        caminho_completo = os.path.join(pasta_curriculos, nome_arquivo)\n",
    "        doc = fitz.open(caminho_completo)\n",
    "        texto = \"\"\n",
    "        \n",
    "        for pagina in doc:\n",
    "            texto += pagina.get_text()\n",
    "        \n",
    "        if any(palavra in texto for palavra in palavras_chave):\n",
    "            curriculos_filtrados.append(nome_arquivo)\n",
    "\n",
    "# Resultado\n",
    "print(\"Currículos que mencionam PUC-Rio ou equivalente:\")\n",
    "for nome in curriculos_filtrados:\n",
    "    print(\"-\", nome)\n"
   ]
  },
  {
   "cell_type": "markdown",
   "id": "3e581e95-7780-42c5-9c79-156a5c42ebba",
   "metadata": {},
   "source": [
    "## Ultimo passo - salvar nomes candidatos num arquivo excel\n"
   ]
  },
  {
   "cell_type": "code",
   "execution_count": 18,
   "id": "9e3d564e-bf93-48c2-b3cd-1584f401a6cd",
   "metadata": {},
   "outputs": [
    {
     "name": "stdout",
     "output_type": "stream",
     "text": [
      "📄 Arquivo salvo como curriculos_filtrados.xlsx\n"
     ]
    }
   ],
   "source": [
    "import pandas as pd\n",
    "\n",
    "df = pd.DataFrame(curriculos_filtrados, columns=[\"Currículos aprovados\"])\n",
    "df.to_excel(\"curriculos_filtrados.xlsx\", index=False)\n",
    "print(\"📄 Arquivo salvo como curriculos_filtrados.xlsx\")\n"
   ]
  },
  {
   "cell_type": "code",
   "execution_count": null,
   "id": "02393925-993c-403c-ab09-5539bf3ea8c7",
   "metadata": {},
   "outputs": [],
   "source": []
  }
 ],
 "metadata": {
  "kernelspec": {
   "display_name": "Python 3 (ipykernel)",
   "language": "python",
   "name": "python3"
  },
  "language_info": {
   "codemirror_mode": {
    "name": "ipython",
    "version": 3
   },
   "file_extension": ".py",
   "mimetype": "text/x-python",
   "name": "python",
   "nbconvert_exporter": "python",
   "pygments_lexer": "ipython3",
   "version": "3.13.4"
  }
 },
 "nbformat": 4,
 "nbformat_minor": 5
}
