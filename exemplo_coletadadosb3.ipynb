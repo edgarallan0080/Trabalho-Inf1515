{
 "cells": [
  {
   "cell_type": "markdown",
   "id": "afbc1f45-0bfc-4b9b-bea8-cb68cf7393d8",
   "metadata": {},
   "source": [
    "# Exemplo Avançado 1 – Coleta Automática de Preços de Ações com Python\n",
    "\n",
    "Este notebook coleta automaticamente os preços de ações da B3 utilizando o Yahoo Finance e armazena os dados em um arquivo CSV. O processo é contínuo e ocorre a cada 15 minutos, permitindo a construção de um histórico de preços ao longo do dia.\n",
    "\n",
    "---\n",
    "\n",
    "## Objetivo:\n",
    "\n",
    "- Buscar os preços das ações (ex: PETR4.SA, VALE3.SA)\n",
    "- Armazenar os dados com horário da coleta\n",
    "- Repetir esse processo a cada 15 minutos automaticamente"
   ]
  },
  {
   "cell_type": "markdown",
   "id": "da51c372-fc23-4d17-b968-4da3d82fca5b",
   "metadata": {},
   "source": [
    "## Etapa 1 – Bibliotecas utilizadas\n",
    "\n",
    "| Biblioteca      | Função                                                                 |\n",
    "|----------------|------------------------------------------------------------------------|\n",
    "| `yfinance`      | Buscar preços das ações diretamente do Yahoo Finance                   |\n",
    "| `pandas`        | Organizar os dados em tabelas e salvar em CSV                          |\n",
    "| `schedule`      | Agendar tarefas automáticas de coleta a cada X minutos                 |\n",
    "| `datetime`      | Gerar data e hora da coleta                                            |\n",
    "| `time`          | Controlar o tempo de espera entre coletas                              |\n",
    "| `os`            | Verificar se o arquivo já existe para atualizar sem sobrescrever       |"
   ]
  },
  {
   "cell_type": "code",
   "execution_count": null,
   "id": "48a72a18-267d-4426-b0cd-85d2147f800a",
   "metadata": {},
   "outputs": [],
   "source": [
    "!pip install schedule --quiet"
   ]
  },
  {
   "cell_type": "code",
   "execution_count": null,
   "id": "47c648a0-0d63-4f86-be32-d563c5779bcc",
   "metadata": {},
   "outputs": [],
   "source": [
    "# Instale o yfinance caso ainda não tenha\n",
    "!pip install yfinance --quiet\n",
    "\n",
    "import yfinance as yf\n",
    "import pandas as pd\n",
    "import time\n",
    "import schedule\n",
    "import os\n",
    "from datetime import datetime\n"
   ]
  },
  {
   "cell_type": "markdown",
   "id": "402ded95-5765-46c5-b0b5-1f0039ef9aad",
   "metadata": {},
   "source": [
    "## Etapa 2 – Configuração inicial\n",
    "\n",
    "Definimos:\n",
    "- Quais ações vamos monitorar\n",
    "- O nome do arquivo onde os dados serão armazenados\n"
   ]
  },
  {
   "cell_type": "code",
   "execution_count": null,
   "id": "b5d7a43f-9ba0-481d-b672-25f4b506415f",
   "metadata": {},
   "outputs": [],
   "source": [
    "acoes = ['PETR4.SA', 'VALE3.SA', 'ITUB4.SA']  # Ações que queremos monitorar\n",
    "arquivo_saida = 'dados_acoes.csv'            # Nome do arquivo que guardará os dados"
   ]
  },
  {
   "cell_type": "markdown",
   "id": "4667616b-94af-4982-9d39-ce485ac2f75b",
   "metadata": {},
   "source": [
    "## Etapa 3 – Função de coleta de dados\n",
    "\n",
    "Essa função:\n",
    "- Coleta o preço mais recente de cada ação\n",
    "- Registra o horário da coleta\n",
    "- Salva ou atualiza o arquivo `dados_acoes.csv`\n"
   ]
  },
  {
   "cell_type": "code",
   "execution_count": 15,
   "id": "60cd0493-3e0d-4291-95ce-ae3ac3024558",
   "metadata": {},
   "outputs": [],
   "source": [
    "def coletar_dados():\n",
    "    agora = datetime.now().strftime(\"%Y-%m-%d %H:%M:%S\")\n",
    "    dados = []\n",
    "\n",
    "    for acao in acoes:\n",
    "        info = yf.Ticker(acao).history(period='1d', interval='1m')\n",
    "        if not info.empty:\n",
    "            preco_atual = info['Close'].iloc[-1]\n",
    "            dados.append({'timestamp': agora, 'acao': acao, 'preco': preco_atual})\n",
    "\n",
    "    df_novo = pd.DataFrame(dados)\n",
    "\n",
    "    if os.path.exists(arquivo_saida):\n",
    "        df_existente = pd.read_csv(arquivo_saida)\n",
    "        df_total = pd.concat([df_existente, df_novo], ignore_index=True)\n",
    "    else:\n",
    "        df_total = df_novo\n",
    "\n",
    "    df_total.to_csv(arquivo_saida, index=False)\n",
    "    print(f\"[{agora}] Dados coletados e salvos.\")\n"
   ]
  },
  {
   "cell_type": "markdown",
   "id": "9fec3e0d-7f3a-497f-bba5-d747ffad1672",
   "metadata": {},
   "source": [
    "## Etapa 4 – Agendamento da coleta\n",
    "\n",
    "Vamos configurar para coletar dados a cada 15 minutos automaticamente."
   ]
  },
  {
   "cell_type": "code",
   "execution_count": 16,
   "id": "c256ebff-b176-4d16-8bb5-794bf5654735",
   "metadata": {},
   "outputs": [
    {
     "name": "stdout",
     "output_type": "stream",
     "text": [
      "⏳ Iniciando o monitoramento. Pressione STOP para encerrar a execução.\n",
      "[2025-06-08 15:19:06] Dados coletados e salvos.\n",
      "[2025-06-08 15:20:07] Dados coletados e salvos.\n",
      "[2025-06-08 15:21:08] Dados coletados e salvos.\n"
     ]
    },
    {
     "ename": "KeyboardInterrupt",
     "evalue": "",
     "output_type": "error",
     "traceback": [
      "\u001b[31m---------------------------------------------------------------------------\u001b[39m",
      "\u001b[31mKeyboardInterrupt\u001b[39m                         Traceback (most recent call last)",
      "\u001b[36mCell\u001b[39m\u001b[36m \u001b[39m\u001b[32mIn[16]\u001b[39m\u001b[32m, line 7\u001b[39m\n\u001b[32m      5\u001b[39m \u001b[38;5;28;01mwhile\u001b[39;00m \u001b[38;5;28;01mTrue\u001b[39;00m:\n\u001b[32m      6\u001b[39m     schedule.run_pending()\n\u001b[32m----> \u001b[39m\u001b[32m7\u001b[39m     \u001b[43mtime\u001b[49m\u001b[43m.\u001b[49m\u001b[43msleep\u001b[49m\u001b[43m(\u001b[49m\u001b[32;43m60\u001b[39;49m\u001b[43m)\u001b[49m\n",
      "\u001b[31mKeyboardInterrupt\u001b[39m: "
     ]
    }
   ],
   "source": [
    "schedule.every(15).minutes.do(coletar_dados)\n",
    "\n",
    "print(\"⏳ Iniciando o monitoramento. Pressione STOP para encerrar a execução.\")\n",
    "\n",
    "while True:\n",
    "    schedule.run_pending()\n",
    "    time.sleep(60)"
   ]
  },
  {
   "cell_type": "code",
   "execution_count": 17,
   "id": "a1beccca-2f3f-4643-bf7b-7b4015e75055",
   "metadata": {
    "scrolled": true
   },
   "outputs": [
    {
     "data": {
      "text/html": [
       "<div>\n",
       "<style scoped>\n",
       "    .dataframe tbody tr th:only-of-type {\n",
       "        vertical-align: middle;\n",
       "    }\n",
       "\n",
       "    .dataframe tbody tr th {\n",
       "        vertical-align: top;\n",
       "    }\n",
       "\n",
       "    .dataframe thead th {\n",
       "        text-align: right;\n",
       "    }\n",
       "</style>\n",
       "<table border=\"1\" class=\"dataframe\">\n",
       "  <thead>\n",
       "    <tr style=\"text-align: right;\">\n",
       "      <th></th>\n",
       "      <th>timestamp</th>\n",
       "      <th>acao</th>\n",
       "      <th>preco</th>\n",
       "    </tr>\n",
       "  </thead>\n",
       "  <tbody>\n",
       "    <tr>\n",
       "      <th>0</th>\n",
       "      <td>2025-06-08 15:11:16</td>\n",
       "      <td>PETR4.SA</td>\n",
       "      <td>29.690001</td>\n",
       "    </tr>\n",
       "    <tr>\n",
       "      <th>1</th>\n",
       "      <td>2025-06-08 15:11:16</td>\n",
       "      <td>VALE3.SA</td>\n",
       "      <td>52.930000</td>\n",
       "    </tr>\n",
       "    <tr>\n",
       "      <th>2</th>\n",
       "      <td>2025-06-08 15:11:16</td>\n",
       "      <td>ITUB4.SA</td>\n",
       "      <td>36.520000</td>\n",
       "    </tr>\n",
       "    <tr>\n",
       "      <th>3</th>\n",
       "      <td>2025-06-08 15:12:39</td>\n",
       "      <td>PETR4.SA</td>\n",
       "      <td>29.690001</td>\n",
       "    </tr>\n",
       "    <tr>\n",
       "      <th>4</th>\n",
       "      <td>2025-06-08 15:12:39</td>\n",
       "      <td>VALE3.SA</td>\n",
       "      <td>52.930000</td>\n",
       "    </tr>\n",
       "    <tr>\n",
       "      <th>5</th>\n",
       "      <td>2025-06-08 15:12:39</td>\n",
       "      <td>ITUB4.SA</td>\n",
       "      <td>36.520000</td>\n",
       "    </tr>\n",
       "    <tr>\n",
       "      <th>6</th>\n",
       "      <td>2025-06-08 15:19:06</td>\n",
       "      <td>PETR4.SA</td>\n",
       "      <td>29.690001</td>\n",
       "    </tr>\n",
       "    <tr>\n",
       "      <th>7</th>\n",
       "      <td>2025-06-08 15:19:06</td>\n",
       "      <td>VALE3.SA</td>\n",
       "      <td>52.930000</td>\n",
       "    </tr>\n",
       "    <tr>\n",
       "      <th>8</th>\n",
       "      <td>2025-06-08 15:19:06</td>\n",
       "      <td>ITUB4.SA</td>\n",
       "      <td>36.520000</td>\n",
       "    </tr>\n",
       "    <tr>\n",
       "      <th>9</th>\n",
       "      <td>2025-06-08 15:20:07</td>\n",
       "      <td>PETR4.SA</td>\n",
       "      <td>29.690001</td>\n",
       "    </tr>\n",
       "    <tr>\n",
       "      <th>10</th>\n",
       "      <td>2025-06-08 15:20:07</td>\n",
       "      <td>VALE3.SA</td>\n",
       "      <td>52.930000</td>\n",
       "    </tr>\n",
       "    <tr>\n",
       "      <th>11</th>\n",
       "      <td>2025-06-08 15:20:07</td>\n",
       "      <td>ITUB4.SA</td>\n",
       "      <td>36.520000</td>\n",
       "    </tr>\n",
       "    <tr>\n",
       "      <th>12</th>\n",
       "      <td>2025-06-08 15:21:08</td>\n",
       "      <td>PETR4.SA</td>\n",
       "      <td>29.690001</td>\n",
       "    </tr>\n",
       "    <tr>\n",
       "      <th>13</th>\n",
       "      <td>2025-06-08 15:21:08</td>\n",
       "      <td>VALE3.SA</td>\n",
       "      <td>52.930000</td>\n",
       "    </tr>\n",
       "    <tr>\n",
       "      <th>14</th>\n",
       "      <td>2025-06-08 15:21:08</td>\n",
       "      <td>ITUB4.SA</td>\n",
       "      <td>36.520000</td>\n",
       "    </tr>\n",
       "  </tbody>\n",
       "</table>\n",
       "</div>"
      ],
      "text/plain": [
       "              timestamp      acao      preco\n",
       "0   2025-06-08 15:11:16  PETR4.SA  29.690001\n",
       "1   2025-06-08 15:11:16  VALE3.SA  52.930000\n",
       "2   2025-06-08 15:11:16  ITUB4.SA  36.520000\n",
       "3   2025-06-08 15:12:39  PETR4.SA  29.690001\n",
       "4   2025-06-08 15:12:39  VALE3.SA  52.930000\n",
       "5   2025-06-08 15:12:39  ITUB4.SA  36.520000\n",
       "6   2025-06-08 15:19:06  PETR4.SA  29.690001\n",
       "7   2025-06-08 15:19:06  VALE3.SA  52.930000\n",
       "8   2025-06-08 15:19:06  ITUB4.SA  36.520000\n",
       "9   2025-06-08 15:20:07  PETR4.SA  29.690001\n",
       "10  2025-06-08 15:20:07  VALE3.SA  52.930000\n",
       "11  2025-06-08 15:20:07  ITUB4.SA  36.520000\n",
       "12  2025-06-08 15:21:08  PETR4.SA  29.690001\n",
       "13  2025-06-08 15:21:08  VALE3.SA  52.930000\n",
       "14  2025-06-08 15:21:08  ITUB4.SA  36.520000"
      ]
     },
     "execution_count": 17,
     "metadata": {},
     "output_type": "execute_result"
    }
   ],
   "source": [
    "pd.read_csv('dados_acoes.csv')"
   ]
  },
  {
   "cell_type": "code",
   "execution_count": null,
   "id": "2f1f7ced-4756-42d7-8942-598d092662c3",
   "metadata": {},
   "outputs": [],
   "source": []
  }
 ],
 "metadata": {
  "kernelspec": {
   "display_name": "Python 3 (ipykernel)",
   "language": "python",
   "name": "python3"
  },
  "language_info": {
   "codemirror_mode": {
    "name": "ipython",
    "version": 3
   },
   "file_extension": ".py",
   "mimetype": "text/x-python",
   "name": "python",
   "nbconvert_exporter": "python",
   "pygments_lexer": "ipython3",
   "version": "3.13.4"
  }
 },
 "nbformat": 4,
 "nbformat_minor": 5
}
