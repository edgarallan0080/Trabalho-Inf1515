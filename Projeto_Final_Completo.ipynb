{
 "cells": [
  {
   "cell_type": "markdown",
   "id": "ccbb8d33-267d-43b8-b0e8-1a96e70a6359",
   "metadata": {},
   "source": [
    "# Introdução à Automatização de Processos com Python\n",
    "\n",
    "A automatização de processos é uma das aplicações mais poderosas e práticas da linguagem Python, especialmente no contexto empresarial e acadêmico. Ela permite transformar tarefas repetitivas e manuais em rotinas automáticas, que economizam tempo, reduzem erros humanos e aumentam a produtividade.\n",
    "\n",
    "Com Python, podemos automatizar desde operações simples, como mover arquivos e ler planilhas, até tarefas mais complexas, como processar dados em larga escala, enviar e-mails automaticamente ou se conectar com APIs externas.\n",
    "\n",
    "---\n",
    "\n",
    "## ✳️ Por que automatizar?\n",
    "\n",
    "- ⏱ **Eficiência:** tarefas que levariam horas manualmente podem ser executadas em segundos.\n",
    "- 📉 **Redução de erros:** ao eliminar a intervenção humana em tarefas repetitivas, os erros diminuem.\n",
    "- 📈 **Escalabilidade:** permite lidar com grandes volumes de dados e tarefas simultâneas.\n",
    "- 🔁 **Repetibilidade:** a mesma ação pode ser executada de forma padronizada quantas vezes for necessário.\n",
    "\n",
    "---\n",
    "\n",
    "## 🛠 Exemplos práticos de processos que podem ser automatizados com Python:\n",
    "\n",
    "- Leitura e filtragem automática de dados em planilhas Excel\n",
    "- Geração de relatórios a partir de dados brutos\n",
    "- Envio automático de e-mails com relatórios ou arquivos\n",
    "- Backup e organização de arquivos em pastas específicas\n",
    "- Coleta de dados de sites (web scraping)\n",
    "- Preenchimento automático de formulários\n",
    "\n",
    "---\n",
    "\n",
    "## 📚 Bibliotecas comuns utilizadas:\n",
    "\n",
    "- `pandas` — manipulação de dados e planilhas\n",
    "- `openpyxl` — leitura e escrita de arquivos Excel (.xlsx)\n",
    "- `schedule` — execução de tarefas em horários programados\n",
    "- `os` e `shutil` — automação de pastas e arquivos no sistema operacional\n",
    "- `pyautogui` — automação de cliques, digitação e ações na tela\n",
    "- `selenium` — automação de navegação em páginas web\n",
    "\n",
    "---\n",
    "\n",
    "> A seguir, este notebook irá apresentar exemplos práticos e scripts comentados que ilustram como aplicar esses conceitos em situações reais de automação de processos usando Python.\n"
   ]
  },
  {
   "cell_type": "markdown",
   "id": "23fc76aa",
   "metadata": {},
   "source": [
    "# Biblioteca - Coleta de Dados\n",
    "\n",
    "## Transformando em Planilha\n",
    "\n",
    "### Pandas\n",
    "\n",
    "A biblioteca pandas é uma das mais importantes do Python para manipulação e análise de dados, sendo especialmente útil na automatização de processos que envolvem leitura, transformação e armazenamento de informações estruturadas. Ela permite ler arquivos CSV, Excel, JSON e muitos outros formatos, organizar esses dados em tabelas chamadas DataFrames e realizar operações como filtragem, agrupamento, substituição, ordenação e cálculo estatístico de maneira rápida e eficiente. Em tarefas automatizadas, o pandas é frequentemente utilizado para processar grandes volumes de dados coletados automaticamente da internet, limpá-los e salvar em arquivos organizados para posterior análise, envio ou visualização."
   ]
  },
  {
   "cell_type": "code",
   "execution_count": 4,
   "id": "de286060",
   "metadata": {},
   "outputs": [
    {
     "name": "stdout",
     "output_type": "stream",
     "text": [
      "  Div        Date   Time    HomeTeam        AwayTeam  FTHG  FTAG FTR  HTHG  \\\n",
      "0  E0  13/08/2021  20:00   Brentford         Arsenal     2     0   H     1   \n",
      "1  E0  14/08/2021  12:30  Man United           Leeds     5     1   H     1   \n",
      "2  E0  14/08/2021  15:00     Burnley        Brighton     1     2   A     1   \n",
      "3  E0  14/08/2021  15:00     Chelsea  Crystal Palace     3     0   H     2   \n",
      "4  E0  14/08/2021  15:00     Everton     Southampton     3     1   H     0   \n",
      "\n",
      "   HTAG  ... AvgC<2.5  AHCh  B365CAHH  B365CAHA  PCAHH  PCAHA  MaxCAHH  \\\n",
      "0     0  ...     1.62  0.50      1.75      2.05   1.81   2.13     2.05   \n",
      "1     0  ...     2.25 -1.00      2.05      1.75   2.17   1.77     2.19   \n",
      "2     0  ...     1.62  0.25      1.79      2.15   1.81   2.14     1.82   \n",
      "3     0  ...     1.94 -1.50      2.05      1.75   2.12   1.81     2.16   \n",
      "4     1  ...     1.67 -0.50      2.05      1.88   2.05   1.88     2.08   \n",
      "\n",
      "   MaxCAHA  AvgCAHH  AvgCAHA  \n",
      "0     2.17     1.80     2.09  \n",
      "1     1.93     2.10     1.79  \n",
      "2     2.19     1.79     2.12  \n",
      "3     1.93     2.06     1.82  \n",
      "4     1.90     2.03     1.86  \n",
      "\n",
      "[5 rows x 106 columns]\n"
     ]
    }
   ],
   "source": [
    "\n",
    "import pandas as pd\n",
    "df_premier21 = pd.read_csv('https://www.football-data.co.uk/mmz4281/2122/E0.csv')\n",
    "print(df_premier21.head())\n"
   ]
  },
  {
   "cell_type": "code",
   "execution_count": 5,
   "id": "5f4e26a8",
   "metadata": {},
   "outputs": [
    {
     "name": "stdout",
     "output_type": "stream",
     "text": [
      "  Div        date   Time   home_team       away_team  home_goals  away_goals  \\\n",
      "0  E0  13/08/2021  20:00   Brentford         Arsenal           2           0   \n",
      "1  E0  14/08/2021  12:30  Man United           Leeds           5           1   \n",
      "2  E0  14/08/2021  15:00     Burnley        Brighton           1           2   \n",
      "3  E0  14/08/2021  15:00     Chelsea  Crystal Palace           3           0   \n",
      "4  E0  14/08/2021  15:00     Everton     Southampton           3           1   \n",
      "\n",
      "  FTR  HTHG  HTAG  ... AvgC<2.5  AHCh  B365CAHH  B365CAHA  PCAHH  PCAHA  \\\n",
      "0   H     1     0  ...     1.62  0.50      1.75      2.05   1.81   2.13   \n",
      "1   H     1     0  ...     2.25 -1.00      2.05      1.75   2.17   1.77   \n",
      "2   A     1     0  ...     1.62  0.25      1.79      2.15   1.81   2.14   \n",
      "3   H     2     0  ...     1.94 -1.50      2.05      1.75   2.12   1.81   \n",
      "4   H     0     1  ...     1.67 -0.50      2.05      1.88   2.05   1.88   \n",
      "\n",
      "   MaxCAHH  MaxCAHA  AvgCAHH  AvgCAHA  \n",
      "0     2.05     2.17     1.80     2.09  \n",
      "1     2.19     1.93     2.10     1.79  \n",
      "2     1.82     2.19     1.79     2.12  \n",
      "3     2.16     1.93     2.06     1.82  \n",
      "4     2.08     1.90     2.03     1.86  \n",
      "\n",
      "[5 rows x 106 columns]\n"
     ]
    }
   ],
   "source": [
    "df_premier21 = df_premier21.rename(columns={'Date':'date',\n",
    "                                            'HomeTeam':'home_team',\n",
    "                                            'AwayTeam':'away_team',\n",
    "                                            'FTHG': 'home_goals',\n",
    "                                            'FTAG': 'away_goals'})\n",
    "\n",
    "print(df_premier21.head())"
   ]
  },
  {
   "cell_type": "code",
   "execution_count": 7,
   "id": "10727eee",
   "metadata": {},
   "outputs": [
    {
     "name": "stdout",
     "output_type": "stream",
     "text": [
      "         date   Time   home_team       away_team  home_goals  away_goals\n",
      "0  13/08/2021  20:00   Brentford         Arsenal           2           0\n",
      "1  14/08/2021  12:30  Man United           Leeds           5           1\n",
      "2  14/08/2021  15:00     Burnley        Brighton           1           2\n",
      "3  14/08/2021  15:00     Chelsea  Crystal Palace           3           0\n",
      "4  14/08/2021  15:00     Everton     Southampton           3           1\n"
     ]
    }
   ],
   "source": [
    "df_filtrado = df_premier21.iloc[:, 1:7]  # Isso pega as colunas de índice 1 a 6\n",
    "\n",
    "# Passo 4: Filtrar apenas linhas em que a data contém \"08/\"\n",
    "df_filtrado_agosto = df_filtrado[df_filtrado['date'].str.contains('08/')]\n",
    "\n",
    "# Passo 5: Salvar o novo DataFrame em um CSV separado\n",
    "df_filtrado_agosto.to_csv('dados_coletados.csv', index=False)\n",
    "\n",
    "print(df_filtrado_agosto.head())"
   ]
  },
  {
   "cell_type": "markdown",
   "id": "40476401",
   "metadata": {},
   "source": [
    "### Explicando o Codigo\n",
    "\n",
    "Neste codigo estamos coletando as informações de uma série de jogos de futebol e transformando em um data frame através da bibliotéca Pandas. Com as informações coletadas, filtramos aquilo que achamos de mais relevante para a nossa pesquisa e transformamos em uma planilha de CSV para analise futura.\n"
   ]
  },
  {
   "cell_type": "markdown",
   "id": "17b8b4a2",
   "metadata": {},
   "source": [
    "## Colentando dados automatizados\n",
    "\n",
    "### schedule\n",
    "\n",
    "A biblioteca schedule serve para agendar a execução automática de funções em horários ou intervalos específicos, permitindo que um código Python rode sozinho em segundo plano sem a necessidade de intervenção humana. No contexto de automatização de processos, como a coleta de dados de um site que se atualiza constantemente, ela permite definir tarefas como “executar essa função todo dia às 10h” ou “a cada 30 minutos”, garantindo que os dados sejam coletados, processados e salvos de forma recorrente e previsível. Isso torna possível transformar scripts simples em robôs que operam de forma autônoma e programada.\n",
    "\n",
    "### time\n",
    "\n",
    "\n",
    "A biblioteca time é usada para controlar pausas e intervalos de execução dentro de scripts Python, sendo especialmente útil em processos automatizados que exigem espera entre tarefas ou ciclos contínuos. No contexto do nosso projeto, ela é usada em conjunto com a biblioteca schedule para manter o programa em funcionamento constante, verificando a cada segundo se chegou o momento de executar a tarefa agendada. Com funções como time.sleep(), conseguimos fazer o script esperar de forma controlada, sem sobrecarregar o sistema, garantindo que a automação funcione de forma estável e no tempo certo.\n",
    "\n",
    "\n",
    "\n",
    "\n",
    "\n",
    "\n",
    "\n",
    "\n",
    "\n"
   ]
  },
  {
   "cell_type": "code",
   "execution_count": 3,
   "id": "7bc95f5e",
   "metadata": {},
   "outputs": [
    {
     "name": "stdout",
     "output_type": "stream",
     "text": [
      "Iniciando monitoramento automático...\n",
      "\n",
      "\n",
      "PETROBRAS   PN      N2\n",
      "Preço atual: R$ 29.75\n",
      "Variação: 0.3899994 (1.33%)\n",
      "----------------------------------------\n",
      "\n",
      "PETROBRAS   PN      N2\n",
      "Preço atual: R$ 29.75\n",
      "Variação: 0.3899994 (1.33%)\n",
      "----------------------------------------\n",
      "\n",
      "PETROBRAS   PN      N2\n",
      "Preço atual: R$ 29.74\n",
      "Variação: 0.37999916 (1.29%)\n",
      "----------------------------------------\n",
      "\n",
      "✅ Coleta concluída 3 vezes. Encerrando monitoramento.\n",
      "\n",
      "PETROBRAS   PN      N2\n",
      "Preço atual: R$ 29.74\n",
      "Variação: 0.37999916 (1.29%)\n",
      "----------------------------------------\n",
      "\n",
      "✅ Coleta concluída 3 vezes. Encerrando monitoramento.\n",
      "\n",
      "PETROBRAS   PN      N2\n",
      "Preço atual: R$ 29.74\n",
      "Variação: 0.37999916 (1.29%)\n",
      "----------------------------------------\n",
      "\n",
      "✅ Coleta concluída 3 vezes. Encerrando monitoramento.\n"
     ]
    },
    {
     "data": {
      "text/html": [
       "<script>Jupyter.notebook.kernel.shutdown()</script>"
      ],
      "text/plain": [
       "<IPython.core.display.HTML object>"
      ]
     },
     "metadata": {},
     "output_type": "display_data"
    }
   ],
   "source": [
    "import yfinance as yf\n",
    "import schedule\n",
    "import time\n",
    "\n",
    "contador = 0\n",
    "encerrar = False  # flag para parar o loop\n",
    "\n",
    "def coletar_dados():\n",
    "    global contador, encerrar\n",
    "\n",
    "    contador += 1\n",
    "\n",
    "    acao = yf.Ticker(\"PETR4.SA\")\n",
    "    dados = acao.info\n",
    "\n",
    "    nome = dados.get(\"shortName\", \"N/A\")\n",
    "    preco = dados.get(\"regularMarketPrice\", \"N/A\")\n",
    "    variacao_abs = dados.get(\"regularMarketChange\", \"N/A\")\n",
    "    variacao_pct = dados.get(\"regularMarketChangePercent\", \"N/A\")\n",
    "\n",
    "    print(f\"\\n{nome}\")\n",
    "    print(f\"Preço atual: R$ {preco}\")\n",
    "    print(f\"Variação: {variacao_abs} ({round(variacao_pct, 2)}%)\")\n",
    "    print(\"-\" * 40)\n",
    "\n",
    "    if contador >= 3:\n",
    "        print(\"\\n✅ Coleta concluída 3 vezes. Encerrando monitoramento.\")\n",
    "        encerrar = True  # isso vai parar o loop\n",
    "\n",
    "# Agendar a execução\n",
    "schedule.every(20).seconds.do(coletar_dados)\n",
    "\n",
    "print(\"Iniciando monitoramento automático...\\n\")\n",
    "\n",
    "while True:\n",
    "    schedule.run_pending()\n",
    "    time.sleep(1)\n",
    "    if encerrar:\n",
    "        break  # encerra o loop de forma limpa no Jupyter do VSCode\n",
    "\n",
    "\n"
   ]
  },
  {
   "cell_type": "markdown",
   "id": "3482e8b4",
   "metadata": {},
   "source": [
    "### Explicando o Codigo\n",
    "\n",
    "Este codigo é uma versão simples do que muitos programadores fazem no mercado financeiro. Estamos usando 3 bibliotecas importantes: yfinance (para acessar os dados financeiros em tempo real), schedule (permitindo agendar as funções para serem executadas a cada 20 segundos) e time (usada para controlar pausas e ciclos de tempo).\n",
    "\n",
    "Como eu havia comentado, este código é bem simples visto que após 3 coletas, o nosso programa para de rodar. Fiz isso justamente para que o exemplo seja o mais direto possível no que este deseja demonstrar. "
   ]
  },
  {
   "cell_type": "markdown",
   "id": "f45ab7c7",
   "metadata": {},
   "source": [
    "# Bibliotecas - Automatização de Email\n",
    "\n",
    "## smtplib\n",
    "\n",
    "A biblioteca smtplib é uma ferramenta nativa do Python usada para enviar e-mails por meio do protocolo SMTP, permitindo que você se conecte a servidores como Gmail, Outlook ou qualquer outro provedor de e-mail e envie mensagens diretamente a partir de scripts automatizados. É uma biblioteca poderosa, mas exige um pouco mais de configuração manual, como autenticação, definição do servidor e da porta, além do tratamento das mensagens em formato bruto.\n",
    "\n",
    "## email\n",
    "\n",
    "A biblioteca email, também nativa do Python, complementa o uso do smtplib ao permitir a construção detalhada das mensagens de e-mail. Com ela, é possível adicionar corpo em texto simples ou HTML, incluir anexos, definir remetente, destinatário, assunto e outras partes da estrutura do e-mail de forma organizada, montando o conteúdo da mensagem antes de enviá-la com smtplib.\n",
    "\n",
    "## yagmail\n",
    "\n",
    "Já a biblioteca yagmail é uma alternativa mais prática e moderna para enviar e-mails usando contas do Gmail, simplificando muito o processo de autenticação, composição e envio das mensagens. Com ela, é possível enviar e-mails com texto, HTML ou anexos em apenas algumas linhas de código, o que a torna especialmente útil para tarefas rápidas de automação sem precisar lidar com a complexidade das bibliotecas padrão.\n",
    "\n"
   ]
  },
  {
   "cell_type": "code",
   "execution_count": 2,
   "id": "e2198f3b",
   "metadata": {},
   "outputs": [
    {
     "name": "stdout",
     "output_type": "stream",
     "text": [
      "E-mail enviado com sucesso!\n"
     ]
    }
   ],
   "source": [
    "import smtplib\n",
    "from email.mime.text import MIMEText\n",
    "from email.mime.multipart import MIMEMultipart\n",
    "\n",
    "# Dados do remetente (você precisa de uma conta real)\n",
    "email_remetente = \"edgarallan0080@gmail.com\"\n",
    "senha = \"fzebnpfpizksigsm\"\n",
    "\n",
    "# Dados do destinatário\n",
    "email_destinatario = \"edgarallan0080@gmail.com\"\n",
    "\n",
    "# Criando a mensagem\n",
    "mensagem = MIMEMultipart()\n",
    "mensagem[\"From\"] = email_remetente\n",
    "mensagem[\"To\"] = email_destinatario\n",
    "mensagem[\"Subject\"] = \"Email via Python!\"\n",
    "\n",
    "# Corpo do e-mail\n",
    "corpo = \"Olá, este é um e-mail enviado automaticamente via Python!\"\n",
    "mensagem.attach(MIMEText(corpo, \"plain\"))\n",
    "\n",
    "# Enviando via servidor SMTP do Gmail\n",
    "with smtplib.SMTP_SSL(\"smtp.gmail.com\", 465) as servidor:\n",
    "    servidor.login(email_remetente, senha)\n",
    "    servidor.sendmail(email_remetente, email_destinatario, mensagem.as_string())\n",
    "\n",
    "print(\"E-mail enviado com sucesso!\")\n"
   ]
  },
  {
   "cell_type": "code",
   "execution_count": 3,
   "id": "927806ed",
   "metadata": {},
   "outputs": [
    {
     "data": {
      "image/png": "[encoded data removed]",
      "text/plain": [
       "<IPython.core.display.Image object>"
      ]
     },
     "metadata": {},
     "output_type": "display_data"
    }
   ],
   "source": [
    "from IPython.display import Image, display\n",
    "\n",
    "# Caminho para a imagem salva (você pode ajustar conforme o local real)\n",
    "display(Image(filename=\"email_enviado.png\"))\n"
   ]
  },
  {
   "cell_type": "markdown",
   "id": "47f0c644",
   "metadata": {},
   "source": [
    "### Explicando o Código\n",
    "\n",
    "Interessante notar que a variavel \"senha\" não é a senha do meu email e sim a senha do APP que eu gerei no \"myaccount.google.com/apppasswords\" específica para o uso do Python. \n",
    "\n",
    "O codigo é bem intuitivo mas gostaria de destacar a parte sobre \"mensagem.attach(MIMEText(corpo, \"plain\"))\" no qual o texto do e-mail é colocado como corpo da mensagem, no formato \"plain\" (texto simples) e com o \"attach()\", você adiciona esse texto à estrutura \"MIMEMultipart\".\n",
    "\n",
    "Por fim, o \"smtplib.SMTP_SSL(\"smtp.gmail.com\", 465)\" está criando uma conexão segura com o servidor do Gmail e esse 465 é a porta SSL (estabelecem conexões seguras entre clientes e servidores)."
   ]
  },
  {
   "cell_type": "markdown",
   "id": "3108092a",
   "metadata": {},
   "source": [
    "# Bibliotecas - Web Scraping\n",
    "\n",
    "## Beautiful Soap\n",
    "\n",
    "Beautifulsoup4 é uma biblioteca do Python usada para extrair e manipular dados de arquivos HTML e XML, facilitando a navegação pela estrutura do documento, a busca por tags específicas e a coleta de informações de forma eficiente, especialmente em tarefas de web scraping. Ela funciona em conjunto com bibliotecas como requests, que fazem o download do conteúdo da página.\n",
    "\n",
    "\n",
    "## Requests\n",
    "\n",
    "A biblioteca requests é uma ferramenta poderosa e fácil de usar no Python para enviar requisições HTTP, permitindo que seu programa interaja com sites e APIs de forma automatizada. Com ela, é possível acessar o conteúdo de páginas da web, enviar dados por formulários, fazer login automático, baixar arquivos e consumir dados em formato JSON, tudo isso com poucas linhas de código. Sua importância na automatização de processos está em permitir que scripts interajam diretamente com a internet, seja para coletar informações, enviar atualizações ou integrar sistemas, substituindo tarefas manuais de navegação e preenchimento de dados.\n"
   ]
  },
  {
   "cell_type": "markdown",
   "id": "0b578ebe",
   "metadata": {},
   "source": [
    "## Selenium\n",
    "\n",
    "A biblioteca Selenium é uma ferramenta do Python que permite controlar um navegador da web de forma automatizada, como se fosse um usuário real, sendo especialmente útil para interagir com páginas que carregam conteúdo dinamicamente por JavaScript. Com ela, é possível abrir sites, clicar em botões, preencher formulários, rolar páginas e capturar dados que só aparecem após a renderização completa do navegador. Sua importância para a automatização de processos está no fato de que muitos sites modernos não disponibilizam seu conteúdo diretamente no HTML bruto, exigindo que o navegador seja manipulado para que as informações fiquem visíveis e acessíveis ao scraper ou robô.\n",
    "\n",
    "\n",
    "\n",
    "\n",
    "\n",
    "\n",
    "\n"
   ]
  },
  {
   "cell_type": "markdown",
   "id": "990a19e5",
   "metadata": {},
   "source": [
    "### Sobre o Exemplo abaixo\n",
    "\n",
    "Abaixo está um exemplo simples de como usar a biblioteca beautifulsoup4 (importada como bs4) junto com requests para automatizar o processo de coleta de manchetes de uma página de notícias (exemplo: G1, BBC, etc). "
   ]
  },
  {
   "cell_type": "code",
   "execution_count": null,
   "id": "4623e022",
   "metadata": {},
   "outputs": [
    {
     "name": "stdout",
     "output_type": "stream",
     "text": [
      "1. Zambelli chegou hoje à Itália, antes de ser incluída na lista da Interpol\n",
      "2. Quem são as brasileiras procuradas pela Interpol, além de Zambelli\n",
      "3. Musk está irritado porque 'mandato do carro elétrico' acabou, diz Trump\n",
      "4. Nem Lula, nem Bolsonaro: Quaest mostra alta rejeição a candidaturas\n",
      "5. OCTAVIO GUEDES: antipetismo já é maior que o bolsonarismo\n",
      "6. Com forte escolta, Marcola é levado para fazer exames em hospital no DF\n",
      "7. Ladrões invadem casa com controle de portão clonado e matam empresário\n",
      "8. Prova de matemática tira do sério alunos de escola pública; tente resolver\n"
     ]
    }
   ],
   "source": [
    "from selenium import webdriver\n",
    "from selenium.webdriver.chrome.service import Service\n",
    "from selenium.webdriver.chrome.options import Options\n",
    "from bs4 import BeautifulSoup\n",
    "import time\n",
    "\n",
    "# Configurações do navegador (modo invisível)\n",
    "options = Options()\n",
    "options.add_argument(\"--headless\")\n",
    "\n",
    "# Caminho para o seu ChromeDriver\n",
    "driver = webdriver.Chrome(options=options)\n",
    "\n",
    "# Abre o site\n",
    "driver.get(\"https://g1.globo.com/\")\n",
    "\n",
    "# Espera o conteúdo carregar\n",
    "time.sleep(5)\n",
    "\n",
    "# Coleta o HTML da página renderizada\n",
    "html = driver.page_source\n",
    "driver.quit()\n",
    "\n",
    "# Faz o parse com BeautifulSoup\n",
    "soup = BeautifulSoup(html, \"html.parser\")\n",
    "\n",
    "# Aqui testamos uma das classes comuns das manchetes do G1\n",
    "manchetes = soup.find_all(\"a\", class_=\"feed-post-link\")\n",
    "\n",
    "# Exibe as manchetes\n",
    "for i, m in enumerate(manchetes[:10], 1):\n",
    "    print(f\"{i}. {m.text.strip()}\")\n",
    "\n"
   ]
  },
  {
   "cell_type": "markdown",
   "id": "a896813e",
   "metadata": {},
   "source": [
    "### O que está acontecendo nesse código ?\n",
    "\n",
    "O Selenium está nos permitindo controlar um navegador automaticamente e o codigo Webdriver permite que o Selenium abra o navegador, neste caso o Chrome. O Options() nos estamos usando para definir componentes especiais como: \"Definir um idioma\", \"Bloquear Notificações\" e \"Mudar o tamanho da Janela\". \n",
    "\n",
    "Vemos isso em -> options.add_argument(\"--headless\"), quero que rode em segundo plano sem abrir a janela. \n",
    "\n",
    "Usamos o Service para configurar caminhos, logs, tempo de espera, etc., mas no meu código atual ele não está sendo usado diretamente (ou seja, a importação está sobrando por enquanto).\n",
    "\n",
    "O ponto principal é este aqui -> soup = BeautifulSoup(html, \"html.parser\"). O \"html.parser\" é o argumento que indica qual interpretador (parser) será usado para entender o HTML.\n"
   ]
  },
  {
   "cell_type": "markdown",
   "id": "3f6e2c8b",
   "metadata": {},
   "source": [
    "#### Importante Lembrete\n",
    "\n",
    "O caso exemplificado acima foi feito apenas para explicar umas das bibliotecas mais importantes para se fazer Automatização de Processos todavia, o exemplo é um caso clássico de Web Scraping, que é apenas um SUBTIPO de uma categoria mais ampla. "
   ]
  },
  {
   "cell_type": "markdown",
   "id": "b99ddc4f-355b-4772-9cdd-1581b64cbdc3",
   "metadata": {},
   "source": [
    "# Outras Bibliotecas\n",
    "\n",
    "## Bibliotecas para Manipulação de Dados\n",
    "```python\n",
    "import numpy as np    # Cálculos matemáticos e manipulação de arrays numéricos\n",
    "```\n",
    "\n",
    "## Bibliotecas para Automatisar Arquivos e Pastas\n",
    "```python\n",
    "import os         # Acessa arquivos e diretórios do sistema\n",
    "import shutil     # Permite copiar e mover arquivos e pastas\n",
    "```\n",
    "\n",
    "## Bibliotecas para Coleta de Dados de Ações\n",
    "```python\n",
    "import yfinance as yf  # Biblioteca que coleta dados de mercado (Yahoo Finance)\n",
    "```\n",
    "\n",
    "\n",
    "## Biblioteca para Leitura de Arquivos Excel\n",
    "```python\n",
    "import openpyxl  # Leitura e escrita de arquivos .xlsx no pandas\n",
    "```\n",
    "\n",
    "## Biblioteca para Leitura de PDF\n",
    "```python\n",
    "import fitz  # PyMuPDF - para ler e extrair texto de arquivos PDF\n",
    "```\n",
    "\n",
    "## Outras Bibliotecas Adicionais\n",
    "```python\n",
    "import matplotlib.pyplot as plt  # (Caso use visualizações no futuro)\n",
    "```\n",
    "\n",
    "### Observação:\n",
    "#### Algumas bibliotecas precisam ser instaladas com pip:\n",
    "\n",
    "!pip install yfinance openpyxl pymupdf schedule\n",
    "\n"
   ]
  },
  {
   "cell_type": "markdown",
   "id": "72aa9457",
   "metadata": {},
   "source": [
    "# BOT\n",
    "\n",
    "Nesta seção demonstramos um exemplo de automação com Python simulando um robô que preenche formulários e coleta dados automaticamente.\n",
    "\n",
    "Utilizamos bibliotecas como `pyautogui` e `pandas`, além de arquivos de apoio:\n",
    "\n",
    "- 📄 `consumidores_2025.csv`\n",
    "- 🧾 `template.pdf`\n",
    "- 🖼️ `contrato_exemplo.png`\n",
    "- 🔍 `pesquisa.png`\n",
    "\n",
    "Esses robôs automatizam tarefas repetitivas e operam como processos automáticos, não como inteligências artificiais, mas ajudam a simular comportamentos humanos com alta eficiência.\n"
   ]
  },
  {
   "cell_type": "markdown",
   "id": "cf6e80c0",
   "metadata": {},
   "source": [
    "## Introdução\n",
    "\n",
    "Um robo ou RPA (Robotic process automation), usa tecnologias de automação para fazer tarefas repetitivas como por exemplo, extração de dados, preenchimento de formularios, filtragem de arquivos e etc. \n",
    "\n",
    "RPA combina APIs e interações com a interface do usuário para integrar e executar tarefas repetitivas entre sistemas corporativos e aplicativos de produtividade. Utilizando scripts que imitam processos humanos, as ferramentas de RPA conseguem executar de forma autônoma diversas atividades e transações em sistemas de software diferentes. Essa automação, baseada em regras, realiza tarefas de negócios em grande escala, liberando os funcionários para se concentrarem em tarefas mais complexas. Com isso, os gestores de TI conseguem acelerar a transformação digital da empresa e obter um retorno maior sobre o investimento em sua equipe.\n",
    "\n",
    "\n"
   ]
  },
  {
   "cell_type": "markdown",
   "id": "151d97fe",
   "metadata": {},
   "source": [
    "## Diferença entre RPA e IA\n",
    "\n",
    "Automação robótica de processos (RPA) é frequentemente confundida com inteligência artificial (IA), mas as duas são diferentes. A IA envolve automação cognitiva, aprendizado de máquina, processamento de linguagem natural, raciocínio e análise de hipóteses, enquanto o RPA é orientado por processos definidos por humanos. A principal diferença é que o RPA segue regras e rotinas pré-estabelecidas, enquanto a IA aprende a partir de dados, especialmente não estruturados, e simula a inteligência humana. Ainda assim, RPA e IA se complementam bem: a IA torna o RPA mais completo e capaz de lidar com situações mais complexas, enquanto o RPA permite aplicar os insights da IA de forma mais ágil, sem depender de ações manuais."
   ]
  },
  {
   "cell_type": "markdown",
   "id": "d8365f88",
   "metadata": {},
   "source": [
    "## Como funciona ? \n",
    "\n",
    "Ferramentas de RPA precisam ter capacidades essenciais como recursos de baixo código para criação de scripts, integração com aplicativos corporativos e ferramentas de orquestração e administração, incluindo configuração, monitoramento e segurança. A tecnologia de automação, como o RPA, também pode acessar informações em sistemas legados, integrando-se com outros aplicativos por meio de interfaces front-end, o que permite que a automação atue como um trabalhador humano, realizando tarefas rotineiras como login e copiar-colar entre sistemas. Embora conexões de back-end também contribuam, o verdadeiro valor do RPA está na rapidez e simplicidade das integrações de front-end.\n",
    "\n",
    "##### Observação\n",
    "Front-end se refere ao Layer no qual o usuário irá interagir com o programa e Backend será o gerenciamento de dados e processos que ocorrem no programa."
   ]
  },
  {
   "cell_type": "markdown",
   "id": "b0497e07",
   "metadata": {},
   "source": [
    "## Vantagens de se utilizar um RPA ou Bot\n",
    "\n",
    "\n",
    "* Menos necessidade de programação: o RPA pode ser configurado sem exigir um desenvolvedor, já que as interfaces possuem funções de arrastar e soltar, facilitando o uso por pessoas não técnicas.\n",
    "* Economia rápida de custos: ao reduzir a carga de trabalho das equipes, o RPA permite realocar funcionários para tarefas prioritárias que exigem intervenção humana, aumentando a produtividade e o retorno sobre o investimento.\n",
    "* Maior satisfação do cliente: bots e chatbots funcionam 24 horas por dia, o que diminui o tempo de espera e melhora a experiência do cliente.\n",
    "* Melhora no moral dos funcionários: ao remover tarefas repetitivas e de alto volume, o RPA permite que os colaboradores se concentrem em decisões mais estratégicas, o que contribui para o bem-estar no trabalho.\n",
    "* Maior precisão e conformidade: como os robôs seguem fluxos de trabalho e regras pré-definidas, os erros humanos são reduzidos, especialmente em tarefas que exigem precisão e aderência a normas regulatórias. O RPA também gera trilhas de auditoria, facilitando o acompanhamento e a resolução de problemas.\n",
    "* Sistemas existentes continuam funcionando: como os bots operam na camada de apresentação dos aplicativos, não há interrupção nos sistemas existentes, o que permite o uso do RPA mesmo sem APIs ou integrações complexas.\n"
   ]
  },
  {
   "cell_type": "code",
   "execution_count": 13,
   "id": "300bd06e",
   "metadata": {},
   "outputs": [
    {
     "name": "stdout",
     "output_type": "stream",
     "text": [
      "✅ Bot executado com sucesso!\n"
     ]
    }
   ],
   "source": [
    "import pyautogui\n",
    "import time\n",
    "import webbrowser\n",
    "import pygetwindow as gw\n",
    "\n",
    "# Etapa 1: Abre o navegador com o Google\n",
    "webbrowser.open(\"https://www.google.com\")\n",
    "time.sleep(5)  # Aguarda o navegador abrir\n",
    "\n",
    "# Etapa 2: Garante que a janela do navegador esteja em foco\n",
    "janela_google = None\n",
    "for janela in gw.getAllWindows():\n",
    "    if \"Google\" in janela.title:\n",
    "        janela_google = janela\n",
    "        break\n",
    "\n",
    "if janela_google:\n",
    "    janela_google.activate()\n",
    "    time.sleep(1)\n",
    "\n",
    "# Etapa 3: Digita uma pesquisa no Google\n",
    "pyautogui.write(\"Como criar um bot em Python\", interval=0.1)\n",
    "pyautogui.press(\"enter\")\n",
    "\n",
    "print(\"✅ Bot executado com sucesso!\")\n"
   ]
  },
  {
   "cell_type": "markdown",
   "id": "1130bb7f",
   "metadata": {},
   "source": [
    "### O que o codigo está fazendo ?\n",
    "\n",
    "Esse Bot esta simulando o comportamento humano, que é um típico exemplo de RPA. \n",
    "\n",
    "A automatização é relacionado com parte de que não precisamos clicar no aplicativo e nem fazer a pesquisa para que ela seja feita. O nosso codigo ja faz isso para gente.\n",
    "\n",
    "![Pesquisa Inteligente](pesquisa.png)\n"
   ]
  },
  {
   "cell_type": "markdown",
   "id": "6a9b31ba",
   "metadata": {},
   "source": [
    "## Bot - Preenchimento de Formulários em PDF\n",
    "\n",
    "Como eu havia mencionado, automatização de processos cobre muita coisa e é entender que um Bot está simulando o comportamento humano. É como se Bots fossem um subconjunto de processos automatizados. \n",
    "\n",
    "Com isso em mente, um importante exemplo seria como poderiamos automatizar o preenchimento de requerimentos padronizados. \n",
    "\n",
    "\n",
    "Vamos supor que voce esta trabalhando em uma empresa e precisa preencher a documentação de milhares de clientes. Tal tarefa é impossível a não ser que esta seja automatizada.  \n",
    "\n",
    "O RPA pode ajudar a preencher documentos em PDF de milhares de clientes ao automatizar o processo repetitivo de inserir informações específicas em campos de formulários, eliminando a necessidade de preenchimento manual. O pacote fillpdf facilita essa tarefa ao permitir ler campos editáveis de um PDF e preenchê-los automaticamente com dados extraídos de planilhas, bancos de dados ou formulários online. A automatização é importante nesse caso porque reduz drasticamente o tempo necessário para lidar com grandes volumes de documentos, evita erros humanos e garante consistência nas respostas. \n"
   ]
  },
  {
   "cell_type": "code",
   "execution_count": 12,
   "id": "b1f04271",
   "metadata": {},
   "outputs": [
    {
     "name": "stdout",
     "output_type": "stream",
     "text": [
      "✅ PDF salvo em: contratos\\509650.pdf\n",
      "✅ PDF salvo em: contratos\\815840.pdf\n",
      "✅ PDF salvo em: contratos\\688187.pdf\n",
      "✅ PDF salvo em: contratos\\960687.pdf\n",
      "✅ PDF salvo em: contratos\\336477.pdf\n",
      "✅ PDF salvo em: contratos\\248530.pdf\n",
      "✅ PDF salvo em: contratos\\660415.pdf\n",
      "✅ PDF salvo em: contratos\\345504.pdf\n",
      "✅ PDF salvo em: contratos\\990097.pdf\n",
      "✅ PDF salvo em: contratos\\370010.pdf\n",
      "✅ PDF salvo em: contratos\\154683.pdf\n",
      "✅ PDF salvo em: contratos\\422853.pdf\n",
      "✅ PDF salvo em: contratos\\735868.pdf\n",
      "✅ PDF salvo em: contratos\\535256.pdf\n",
      "✅ PDF salvo em: contratos\\884348.pdf\n",
      "✅ PDF salvo em: contratos\\406246.pdf\n",
      "✅ PDF salvo em: contratos\\614906.pdf\n",
      "✅ PDF salvo em: contratos\\902719.pdf\n",
      "✅ PDF salvo em: contratos\\418041.pdf\n",
      "✅ PDF salvo em: contratos\\585451.pdf\n",
      "✅ PDF salvo em: contratos\\469734.pdf\n",
      "✅ PDF salvo em: contratos\\264694.pdf\n",
      "✅ PDF salvo em: contratos\\412329.pdf\n",
      "✅ PDF salvo em: contratos\\266343.pdf\n",
      "✅ PDF salvo em: contratos\\845602.pdf\n",
      "✅ PDF salvo em: contratos\\136652.pdf\n",
      "✅ PDF salvo em: contratos\\730848.pdf\n",
      "✅ PDF salvo em: contratos\\187963.pdf\n",
      "✅ PDF salvo em: contratos\\224270.pdf\n",
      "✅ PDF salvo em: contratos\\430324.pdf\n",
      "✅ PDF salvo em: contratos\\184968.pdf\n",
      "✅ PDF salvo em: contratos\\440380.pdf\n",
      "✅ PDF salvo em: contratos\\683792.pdf\n",
      "✅ PDF salvo em: contratos\\566028.pdf\n",
      "✅ PDF salvo em: contratos\\462564.pdf\n",
      "✅ PDF salvo em: contratos\\500176.pdf\n",
      "✅ PDF salvo em: contratos\\104202.pdf\n",
      "✅ PDF salvo em: contratos\\995769.pdf\n",
      "✅ PDF salvo em: contratos\\964585.pdf\n",
      "✅ PDF salvo em: contratos\\647125.pdf\n",
      "✅ PDF salvo em: contratos\\408410.pdf\n",
      "✅ PDF salvo em: contratos\\254564.pdf\n",
      "✅ PDF salvo em: contratos\\731912.pdf\n",
      "✅ PDF salvo em: contratos\\389318.pdf\n",
      "✅ PDF salvo em: contratos\\316943.pdf\n",
      "✅ PDF salvo em: contratos\\867286.pdf\n",
      "✅ PDF salvo em: contratos\\541554.pdf\n",
      "✅ PDF salvo em: contratos\\843593.pdf\n",
      "✅ PDF salvo em: contratos\\870973.pdf\n",
      "✅ PDF salvo em: contratos\\822902.pdf\n",
      "\n",
      "🎉 Todos os contratos foram gerados dentro da pasta 'contratos'.\n"
     ]
    }
   ],
   "source": [
    "import pandas as pd\n",
    "from fillpdf import fillpdfs\n",
    "import os\n",
    "\n",
    "# Caminhos principais\n",
    "csv_path = 'consumidores_2025.csv'\n",
    "pdf_template = 'template.pdf'\n",
    "pasta_destino = 'contratos'\n",
    "\n",
    "# Cria a pasta 'contratos' se ela não existir\n",
    "os.makedirs(pasta_destino, exist_ok=True)\n",
    "\n",
    "# Lê a base de dados\n",
    "df = pd.read_csv(csv_path)\n",
    "\n",
    "# Loop em todos os consumidores\n",
    "for _, linha in df.iterrows():\n",
    "    consumidor_id = str(linha['Consumidor ID'])\n",
    "    checkbox_valor = 'Yes_powo' if linha['Resposta'].strip().lower() == 'sim' else ''\n",
    "\n",
    "    # Campos mapeados corretamente\n",
    "    dados = {\n",
    "        'text_1tmad': consumidor_id,\n",
    "        'text_2died': linha['Endereco'],\n",
    "        'text_3csay': str(linha['Preco']),\n",
    "        'text_4bnax': linha['Data'],\n",
    "        'checkbox_5dhjs': checkbox_valor\n",
    "    }\n",
    "\n",
    "    # Define caminho completo para salvar dentro da pasta\n",
    "    nome_arquivo = os.path.join(pasta_destino, f\"{consumidor_id}.pdf\")\n",
    "\n",
    "    # Preenche e salva\n",
    "    fillpdfs.write_fillable_pdf(pdf_template, nome_arquivo, dados)\n",
    "\n",
    "    print(f\"✅ PDF salvo em: {nome_arquivo}\")\n",
    "\n",
    "print(\"\\n🎉 Todos os contratos foram gerados dentro da pasta 'contratos'.\")\n"
   ]
  },
  {
   "cell_type": "markdown",
   "id": "197330ff",
   "metadata": {},
   "source": [
    "### Sobre o codigo acima: \n",
    "\n",
    "Esse código automatiza o preenchimento de formulários PDF a partir de dados contidos em uma planilha, simulando o trabalho de um robô que lê, interpreta e preenche documentos para dezenas de clientes sem intervenção humana. Ele percorre cada linha da base de dados, extrai informações relevantes, preenche os campos corretos em um template de contrato e salva cada arquivo em uma pasta organizada, como se um funcionário estivesse fazendo manualmente, mas de forma totalmente automática e rápida. Métodos como esse são importantes porque reduzem drasticamente o tempo gasto em tarefas repetitivas, evitam erros de digitação, padronizam documentos e aumentam a eficiência operacional da empresa, liberando os profissionais para focarem em decisões mais estratégicas.\n",
    "\n",
    "![Contrato preenchido](contrato_exemplo.png)\n",
    "\n"
   ]
  },
  {
   "cell_type": "markdown",
   "id": "85f07585",
   "metadata": {},
   "source": [
    "# Comunicação Automatizada \n"
   ]
  },
  {
   "cell_type": "markdown",
   "id": "179b0f8a",
   "metadata": {},
   "source": [
    "## Introdução\n",
    "\n",
    "Esta seção aborda como a automatização de processos pode ser aplicada para facilitar o envio e o agendamento de mensagens, e-mails e lembretes, eliminando a necessidade de intervenção manual constante. Essa aplicação é especialmente útil em tarefas repetitivas que envolvem comunicação recorrente, como o envio diário de relatórios, confirmações automáticas, lembretes de reuniões ou notificações baseadas em eventos. Ao programar essas tarefas com antecedência, é possível garantir eficiência, reduzir erros humanos e otimizar o tempo de trabalho. Dessa forma, a comunicação automatizada se torna uma ferramenta fundamental dentro do escopo de processos automatizados, mostrando como a integração entre código e rotina pode transformar a maneira como interagimos com fluxos de informação."
   ]
  },
  {
   "cell_type": "code",
   "execution_count": null,
   "id": "f4772e02",
   "metadata": {},
   "outputs": [],
   "source": [
    "import imaplib\n",
    "import email\n",
    "from email.header import decode_header\n",
    "from email.utils import parsedate_to_datetime\n",
    "import pywhatkit\n",
    "import time\n",
    "import os\n",
    "from dotenv import load_dotenv\n",
    "\n",
    "# Carrega variáveis do arquivo .env\n",
    "load_dotenv()\n",
    "\n",
    "EMAIL_ADDRESS = os.getenv(\"EMAIL_ADDRESS\")\n",
    "EMAIL_PASSWORD = os.getenv(\"EMAIL_PASSWORD\")\n",
    "WHATSAPP_NUMBER = os.getenv(\"WHATSAPP_NUMBER\")\n",
    "\n",
    "# Conecta ao Gmail via IMAP\n",
    "mail = imaplib.IMAP4_SSL('imap.gmail.com')\n",
    "mail.login(EMAIL_ADDRESS, EMAIL_PASSWORD)\n",
    "\n",
    "# Seleciona apenas a caixa de entrada (Inbox)\n",
    "mail.select(\"INBOX\")\n",
    "\n",
    "# Busca por e-mails não lidos (não lidos e na inbox)\n",
    "status, messages = mail.search(None, '(UNSEEN)')\n",
    "ids = messages[0].split()\n",
    "\n",
    "if not ids:\n",
    "    print(\"Nenhum e-mail novo.\")\n",
    "else:\n",
    "    # Pega os últimos 3 e-mails não lidos\n",
    "    ultimos_emails = ids[-3:]\n",
    "\n",
    "    mensagens = []\n",
    "\n",
    "    for email_id in ultimos_emails:\n",
    "        # Recupera o conteúdo do e-mail\n",
    "        _, msg_data = mail.fetch(email_id, '(RFC822)')\n",
    "        raw_email = msg_data[0][1]\n",
    "        msg = email.message_from_bytes(raw_email)\n",
    "\n",
    "        # Extrai o remetente\n",
    "        from_header = msg['From']\n",
    "        decoded_from, charset = decode_header(from_header)[0]\n",
    "        remetente = decoded_from.decode(charset or 'utf-8') if isinstance(decoded_from, bytes) else decoded_from\n",
    "\n",
    "        # Extrai o subject (assunto)\n",
    "        subject_header = msg['Subject']\n",
    "        if subject_header:\n",
    "            decoded_subject, charset = decode_header(subject_header)[0]\n",
    "            assunto = decoded_subject.decode(charset or 'utf-8') if isinstance(decoded_subject, bytes) else decoded_subject\n",
    "        else:\n",
    "            assunto = \"(Sem assunto)\"\n",
    "\n",
    "        # Extrai e formata a data e hora do e-mail\n",
    "        try:\n",
    "            data_email = parsedate_to_datetime(msg[\"Date\"])\n",
    "            data_formatada = data_email.strftime(\"%d/%m/%Y às %H:%M\")\n",
    "        except:\n",
    "            data_formatada = \"(Data não disponível)\"\n",
    "\n",
    "        mensagens.append(f\"📅 {data_formatada}\\nDe: {remetente}\\nAssunto: {assunto}\")\n",
    "\n",
    "    # Monta a mensagem final\n",
    "    corpo = \"📬 Você recebeu novos e-mails:\\n\\n\" + \"\\n\\n\".join(mensagens)\n",
    "\n",
    "    print(\"Enviando mensagem no WhatsApp...\\n\", corpo)\n",
    "\n",
    "    # Envia tudo em uma única mensagem\n",
    "    pywhatkit.sendwhatmsg_instantly(WHATSAPP_NUMBER, corpo, wait_time=10)\n",
    "\n",
    "mail.logout()\n"
   ]
  },
  {
   "cell_type": "markdown",
   "id": "71e001aa",
   "metadata": {},
   "source": [
    "### Explicando o Codigo\n",
    "\n",
    "Este código tem como principal função monitorar a caixa de entrada do e-mail configurado e notificar, via WhatsApp, os três últimos e-mails não lidos, junto com a data, horário, remetente e assunto. Ele começa carregando as credenciais salvas no arquivo `.env`, conectando-se à conta de e-mail via protocolo IMAP. Em seguida, acessa a caixa de entrada, busca por e-mails não lidos e seleciona os três mais recentes. Para cada um deles, extrai o remetente, o assunto e a data/hora de envio. Com essas informações, monta uma mensagem formatada e envia tudo automaticamente para o número de WhatsApp fornecido, utilizando a biblioteca `pywhatkit`. Por fim, o script realiza logout da conta de e-mail, encerrando a conexão de forma segura.\n",
    "\n",
    "A lógica por trás desse código representa um excelente exemplo de automatização de processos aplicada à comunicação e ao monitoramento de informações. Em vez de abrir manualmente a caixa de entrada e verificar novos e-mails, o usuário recebe uma notificação no WhatsApp com os dados relevantes assim que o código é executado. Essa automação é útil em ambientes onde o tempo de resposta a mensagens é crítico, como no suporte ao cliente, em operações logísticas ou no gerenciamento de múltiplas contas. O código elimina etapas manuais e garante agilidade no acesso à informação, traduzindo-se em produtividade e eficiência na rotina digital.\n",
    "\n",
    "![WPP automatizado](mensagem_wpp.png)\n"
   ]
  },
  {
   "cell_type": "code",
   "execution_count": 30,
   "id": "e76027d7",
   "metadata": {},
   "outputs": [
    {
     "name": "stdout",
     "output_type": "stream",
     "text": [
      "Email recebido de superedbill. Respondendo automaticamente...\n",
      "E-mail encaminhado para edgarvideogame@gmail.com com sucesso.\n"
     ]
    },
    {
     "data": {
      "text/plain": [
       "('BYE', [b'LOGOUT Requested'])"
      ]
     },
     "execution_count": 30,
     "metadata": {},
     "output_type": "execute_result"
    }
   ],
   "source": [
    "import imaplib\n",
    "import smtplib\n",
    "import email\n",
    "from email.header import decode_header\n",
    "from email.message import EmailMessage\n",
    "from email.utils import parsedate_to_datetime\n",
    "import os\n",
    "from dotenv import load_dotenv\n",
    "\n",
    "# === Carrega variáveis de ambiente ===\n",
    "load_dotenv()\n",
    "EMAIL_ADDRESS = os.getenv(\"EMAIL_ADDRESS\")  # edgarallan0080@gmail.com\n",
    "EMAIL_PASSWORD = os.getenv(\"EMAIL_PASSWORD\")  # senha de app\n",
    "TARGET_SENDER = \"superedbill@gmail.com\"\n",
    "REPLY_TO = \"edgarvideogame@gmail.com\"\n",
    "\n",
    "# === Conecta ao Gmail via IMAP ===\n",
    "imap = imaplib.IMAP4_SSL(\"imap.gmail.com\")\n",
    "imap.login(EMAIL_ADDRESS, EMAIL_PASSWORD)\n",
    "imap.select(\"INBOX\")\n",
    "\n",
    "# === Busca por e-mails não lidos do remetente específico ===\n",
    "status, messages = imap.search(None, f'(UNSEEN FROM \"{TARGET_SENDER}\")')\n",
    "ids = messages[0].split()\n",
    "\n",
    "if not ids:\n",
    "    print(\"Nenhum e-mail novo do remetente alvo.\")\n",
    "else:\n",
    "    for num in ids:\n",
    "        _, msg_data = imap.fetch(num, \"(RFC822)\")\n",
    "        raw_email = msg_data[0][1]\n",
    "        msg = email.message_from_bytes(raw_email)\n",
    "\n",
    "        # Extrai o assunto\n",
    "        subject_header = msg[\"Subject\"]\n",
    "        decoded_subject, charset = decode_header(subject_header)[0]\n",
    "        subject = decoded_subject.decode(charset or 'utf-8') if isinstance(decoded_subject, bytes) else decoded_subject\n",
    "\n",
    "        # Extrai o corpo\n",
    "        corpo = \"\"\n",
    "        if msg.is_multipart():\n",
    "            for part in msg.walk():\n",
    "                if part.get_content_type() == \"text/plain\":\n",
    "                    corpo = part.get_payload(decode=True).decode()\n",
    "                    break\n",
    "        else:\n",
    "            corpo = msg.get_payload(decode=True).decode()\n",
    "\n",
    "        print(\"Email recebido de superedbill. Respondendo automaticamente...\")\n",
    "\n",
    "        # === Envia o e-mail para outro destino via SMTP ===\n",
    "        resposta = EmailMessage()\n",
    "        resposta[\"From\"] = EMAIL_ADDRESS\n",
    "        resposta[\"To\"] = REPLY_TO\n",
    "        resposta[\"Subject\"] = f\"[Auto-Forward] {subject}\"\n",
    "        resposta.set_content(f\"Este e-mail foi encaminhado automaticamente:\\n\\n{corpo}\")\n",
    "\n",
    "        with smtplib.SMTP_SSL(\"smtp.gmail.com\", 465) as smtp:\n",
    "            smtp.login(EMAIL_ADDRESS, EMAIL_PASSWORD)\n",
    "            smtp.send_message(resposta)\n",
    "\n",
    "        print(f\"E-mail encaminhado para {REPLY_TO} com sucesso.\")\n",
    "\n",
    "imap.logout()\n"
   ]
  },
  {
   "cell_type": "markdown",
   "id": "a7065a01",
   "metadata": {},
   "source": [
    "### Explicando o Codigo\n",
    "\n",
    "O código apresentado realiza a automação do monitoramento da caixa de entrada de e-mails por meio do protocolo IMAP. Ele utiliza bibliotecas como `imaplib` para acessar e-mails recebidos e `smtplib` para enviar mensagens de resposta. O script começa carregando variáveis sensíveis de um arquivo `.env`, como o e-mail e senha de aplicativo. Em seguida, conecta-se ao servidor do Gmail e busca por mensagens não lidas de um remetente específico. Se um novo e-mail for identificado, o código extrai seu conteúdo — incluindo remetente, assunto e corpo — e monta uma nova mensagem, que é automaticamente encaminhada a outro destinatário pré-definido. O fluxo se encerra com a confirmação do envio e o logout da sessão de e-mail.\n",
    "\n",
    "A intuição por trás desse código está diretamente relacionada à automatização de processos rotineiros de comunicação. Em contextos corporativos ou organizacionais, responder ou encaminhar e-mails manualmente pode ser uma tarefa repetitiva, especialmente em fluxos padronizados ou de triagem. Automatizar esse tipo de resposta ou redirecionamento elimina a necessidade de intervenção humana constante, reduz atrasos e garante eficiência operacional. Este código simula o comportamento de um assistente virtual de e-mails, capaz de monitorar, filtrar e executar ações automáticas, representando na prática um exemplo concreto de Robotic Process Automation (RPA) aplicado ao gerenciamento de informação.\n",
    "\n",
    "\n",
    "\n",
    "![Email automatizado](mensagem_automatica.png)\n"
   ]
  },
  {
   "cell_type": "code",
   "execution_count": null,
   "id": "1048abca",
   "metadata": {},
   "outputs": [
    {
     "name": "stdout",
     "output_type": "stream",
     "text": [
      "Monitorando caixa de entrada por e-mails de superedbill@gmail.com...\n",
      "⏳ Nenhum e-mail novo de superedbill ainda... aguardando.\n",
      "⏳ Nenhum e-mail novo de superedbill ainda... aguardando.\n",
      "📨 E-mail detectado de superedbill. Encaminhando resposta...\n",
      "✅ E-mail encaminhado com sucesso para edgarvideogame@gmail.com!\n",
      "⏳ Nenhum e-mail novo de superedbill ainda... aguardando.\n"
     ]
    },
    {
     "ename": "KeyboardInterrupt",
     "evalue": "",
     "output_type": "error",
     "traceback": [
      "\u001b[1;31m---------------------------------------------------------------------------\u001b[0m",
      "\u001b[1;31mKeyboardInterrupt\u001b[0m                         Traceback (most recent call last)",
      "Cell \u001b[1;32mIn[2], line 72\u001b[0m\n\u001b[0;32m     70\u001b[0m         \u001b[38;5;28mprint\u001b[39m(\u001b[38;5;124m\"\u001b[39m\u001b[38;5;124m⏳ Nenhum e-mail novo de superedbill ainda... aguardando.\u001b[39m\u001b[38;5;124m\"\u001b[39m)\n\u001b[0;32m     71\u001b[0m         imap\u001b[38;5;241m.\u001b[39mlogout()\n\u001b[1;32m---> 72\u001b[0m         \u001b[43mtime\u001b[49m\u001b[38;5;241;43m.\u001b[39;49m\u001b[43msleep\u001b[49m\u001b[43m(\u001b[49m\u001b[38;5;241;43m20\u001b[39;49m\u001b[43m)\u001b[49m\n\u001b[0;32m     74\u001b[0m \u001b[38;5;28mprint\u001b[39m(\u001b[38;5;124m\"\u001b[39m\u001b[38;5;124m✅ Script encerrado normalmente.\u001b[39m\u001b[38;5;124m\"\u001b[39m)\n",
      "\u001b[1;31mKeyboardInterrupt\u001b[0m: "
     ]
    }
   ],
   "source": [
    "import imaplib\n",
    "import smtplib\n",
    "import email\n",
    "from email.header import decode_header\n",
    "from email.message import EmailMessage\n",
    "from email.utils import parsedate_to_datetime\n",
    "import os\n",
    "import time\n",
    "from dotenv import load_dotenv\n",
    "\n",
    "# === Carrega variáveis de ambiente ===\n",
    "load_dotenv()\n",
    "EMAIL_ADDRESS = os.getenv(\"EMAIL_ADDRESS\")\n",
    "EMAIL_PASSWORD = os.getenv(\"EMAIL_PASSWORD\")\n",
    "TARGET_SENDER = \"superedbill@gmail.com\"\n",
    "REPLY_TO = \"edgarvideogame@gmail.com\"\n",
    "\n",
    "print(\"Monitorando caixa de entrada por e-mails de superedbill@gmail.com...\")\n",
    "\n",
    "while True:\n",
    "    # Conecta ao Gmail via IMAP\n",
    "    imap = imaplib.IMAP4_SSL(\"imap.gmail.com\")\n",
    "    imap.login(EMAIL_ADDRESS, EMAIL_PASSWORD)\n",
    "    imap.select(\"INBOX\")\n",
    "\n",
    "    # Busca e-mails não lidos do remetente alvo\n",
    "    status, messages = imap.search(None, f'(UNSEEN FROM \"{TARGET_SENDER}\")')\n",
    "    ids = messages[0].split()\n",
    "\n",
    "    if ids:\n",
    "        for num in ids:\n",
    "            _, msg_data = imap.fetch(num, \"(RFC822)\")\n",
    "            raw_email = msg_data[0][1]\n",
    "            msg = email.message_from_bytes(raw_email)\n",
    "\n",
    "            # Extrai o assunto\n",
    "            subject_header = msg[\"Subject\"]\n",
    "            decoded_subject, charset = decode_header(subject_header)[0]\n",
    "            subject = decoded_subject.decode(charset or 'utf-8') if isinstance(decoded_subject, bytes) else decoded_subject\n",
    "\n",
    "            # Extrai o corpo\n",
    "            corpo = \"\"\n",
    "            if msg.is_multipart():\n",
    "                for part in msg.walk():\n",
    "                    if part.get_content_type() == \"text/plain\":\n",
    "                        corpo = part.get_payload(decode=True).decode()\n",
    "                        break\n",
    "            else:\n",
    "                corpo = msg.get_payload(decode=True).decode()\n",
    "\n",
    "            print(\"📨 E-mail detectado de superedbill. Encaminhando resposta...\")\n",
    "\n",
    "            # Envia resposta\n",
    "            resposta = EmailMessage()\n",
    "            resposta[\"From\"] = EMAIL_ADDRESS\n",
    "            resposta[\"To\"] = REPLY_TO\n",
    "            resposta[\"Subject\"] = f\"[Auto-Forward] {subject}\"\n",
    "            resposta.set_content(f\"Este e-mail foi encaminhado automaticamente:\\n\\n{corpo}\")\n",
    "\n",
    "            with smtplib.SMTP_SSL(\"smtp.gmail.com\", 465) as smtp:\n",
    "                smtp.login(EMAIL_ADDRESS, EMAIL_PASSWORD)\n",
    "                smtp.send_message(resposta)\n",
    "\n",
    "\n",
    "            print(f\"✅ E-mail encaminhado com sucesso para {REPLY_TO}!\")\n",
    "            imap.logout()\n",
    "            break  # ← em vez de exit()\n",
    "\n",
    "    else:\n",
    "        print(\"⏳ Nenhum e-mail novo de superedbill ainda... aguardando.\")\n",
    "        imap.logout()\n",
    "        time.sleep(20)\n"
   ]
  },
  {
   "cell_type": "markdown",
   "id": "6e1d472a",
   "metadata": {},
   "source": [
    "### Explicando o codigo\n",
    "\n",
    "Este código representa um exemplo claro de automatização contínua de comunicação, operando em loop infinito para monitorar a chegada de novos e-mails de um remetente específico. Ao identificar uma nova mensagem de `superedbill@gmail.com`, ele responde automaticamente encaminhando o conteúdo para outro endereço pré-configurado. Essa lógica simula, no mundo real, a atuação de um assistente virtual que filtra e redireciona informações sem intervenção humana. Em ambientes corporativos, esse tipo de solução pode ser fundamental para garantir que comunicações urgentes sejam rapidamente encaminhadas a setores ou pessoas relevantes, otimizando o fluxo de informação e reduzindo atrasos em decisões críticas.\n",
    "\n",
    "\n",
    "![WPP automatizado](mensagem_continua.png)"
   ]
  },
  {
   "cell_type": "markdown",
   "id": "630a75f1",
   "metadata": {},
   "source": [
    "# Planilhas\n",
    "\n",
    "## Introdução\n",
    "\n",
    "Um grande fator importante de automatização de processos é a manipulação de dados. Podemos automatizar um processo usando por exemplos o proprio VBA mas no nosso caso usaremos o Python. \n",
    "\n",
    "Como automatização de processos pode ajudar na organização de dados ? De data frames ? Como podemos tornar o processo automático ? Qual a importancia disso para o mercado ? Qual o impacto de automatização de processos em limpagem e filtragem de dados ?\n",
    "\n",
    "\n",
    "\n",
    "Crie exemplos que ilustrem a utilidade de se automazir tais processos. "
   ]
  },
  {
   "cell_type": "markdown",
   "id": "3c82caee",
   "metadata": {},
   "source": [
    "### Codigo:\n",
    "\n",
    "O exemplo abaixo mostra um caso real e importante para se entender automatização de processos no qual estamos fazendo um Backup de fotos, todos os dias as no horário já pré-programado. O interessante deste caso é que não precisamos de intervanção humana, basta apenas executar o codigo uma vez e todo dia nesse horário tera feito backup."
   ]
  },
  {
   "cell_type": "code",
   "execution_count": null,
   "id": "bdaee8f4",
   "metadata": {},
   "outputs": [
    {
     "name": "stdout",
     "output_type": "stream",
     "text": [
      "Folder copied to: C:/Users/edgar/OneDrive/Imagens/Capturas de tela/Backups\\2025-06-12\n"
     ]
    }
   ],
   "source": [
    "\n",
    "import os\n",
    "import shutil\n",
    "import datetime\n",
    "import schedule\n",
    "import time\n",
    "\n",
    "source_dir = \"C:/Users/edgar/OneDrive/Imagens/Capturas de tela/rpa_fotos\"\n",
    "destination_dir = \"C:/Users/edgar/OneDrive/Imagens/Capturas de tela/Backups\"\n",
    "\n",
    "def copy_folder_to_directory(source, dest):\n",
    "    today = datetime.date.today()\n",
    "    dest_dir = os.path.join(dest, str(today))\n",
    "    \n",
    "    try:\n",
    "        shutil.copytree(source, dest_dir)\n",
    "        print(f\"Folder copied to: {dest_dir}\")\n",
    "    except FileExistsError:\n",
    "        print(f\"Folder already exists in: {dest}\")\n",
    "\n",
    "\n",
    "schedule.every().day.at(\"12:41\").do(lambda: copy_folder_to_directory(source_dir, destination_dir))\n",
    "\n",
    "while True:\n",
    "    schedule.run_pending()\n",
    "    time.sleep(60)"
   ]
  },
  {
   "cell_type": "markdown",
   "id": "dff9a86a",
   "metadata": {},
   "source": [
    "## Aumentando a Complexidade"
   ]
  },
  {
   "cell_type": "code",
   "execution_count": null,
   "id": "f358131a",
   "metadata": {},
   "outputs": [],
   "source": [
    "import os\n",
    "import shutil\n",
    "import datetime\n",
    "import schedule\n",
    "import time\n",
    "\n",
    "source_dir = \"C:/Users/edgar/OneDrive/Imagens/Capturas de tela/rpa_fotos\"\n",
    "destination_base = \"C:/Users/edgar/OneDrive/Imagens/Capturas de tela/Backups\"\n",
    "log_file = \"arquivos_copiados.txt\"  # Controle global dos arquivos copiados\n",
    "\n",
    "# Lê o log de arquivos copiados de todos os dias\n",
    "def carregar_arquivos_copiados():\n",
    "    if not os.path.exists(log_file):\n",
    "        return set()\n",
    "    with open(log_file, \"r\", encoding=\"utf-8\") as f:\n",
    "        return set(line.strip() for line in f.readlines())\n",
    "\n",
    "# Atualiza o log de arquivos copiados\n",
    "def atualizar_log(arquivo):\n",
    "    with open(log_file, \"a\", encoding=\"utf-8\") as f:\n",
    "        f.write(arquivo + \"\\n\")\n",
    "\n",
    "def get_today_folder():\n",
    "    today_str = datetime.date.today().strftime(\"%d-%m-%Y\")\n",
    "    return os.path.join(destination_base, f\"Backups_{today_str}\")\n",
    "\n",
    "def ensure_today_folder_exists():\n",
    "    today_folder = get_today_folder()\n",
    "    if not os.path.exists(today_folder):\n",
    "        os.makedirs(today_folder)\n",
    "    return today_folder\n",
    "\n",
    "# Função principal\n",
    "def copy_new_files():\n",
    "    today_folder = ensure_today_folder_exists()\n",
    "    arquivos_copiados = carregar_arquivos_copiados()\n",
    "\n",
    "    for filename in os.listdir(source_dir):\n",
    "        source_file = os.path.join(source_dir, filename)\n",
    "        dest_file = os.path.join(today_folder, filename)\n",
    "\n",
    "        # Copia só arquivos ainda não registrados no log\n",
    "        if os.path.isfile(source_file) and filename not in arquivos_copiados:\n",
    "            try:\n",
    "                shutil.copy2(source_file, dest_file)\n",
    "                atualizar_log(filename)\n",
    "                print(f\"Arquivo copiado para {today_folder}: {filename}\")\n",
    "            except Exception as e:\n",
    "                print(f\"Erro ao copiar {filename}: {e}\")\n",
    "\n",
    "# Agendamento a cada 1h\n",
    "schedule.every(1).minutes.do(copy_new_files)\n",
    "\n",
    "# Executa a primeira vez imediatamente\n",
    "copy_new_files()\n",
    "\n",
    "while True:\n",
    "    schedule.run_pending()\n",
    "    time.sleep(60)\n"
   ]
  },
  {
   "cell_type": "markdown",
   "id": "fb396519",
   "metadata": {},
   "source": [
    "## Explicando o Código\n",
    "\n",
    "O Exemplo anterior, não era necessariamente um processo automatizado. Ele de fato automatizava a copia e cola dos arquivos, assim como o processo de criação da pasta de Backup, mas depois disso o codigo perdia o sentido pois depois da criação da pasta, este não executava mais nenhuma tarefa.\n",
    "\n",
    "O código acima é bem mais completo nesse sentido. Primeiro que ele cria uma pasta nova assim que cria um dia novo. Segundo que ele detecta de 1 em 1 minuto se houve adicições novas na nossa pasta rpa_fotos e por fim, ele nunca irá repetir arquivos.\n",
    "\n",
    "Não faz sentido ele copiar e colar todos os arquivos da pasta rpa_fotos sem poder diferenciar aqueles que já sofreram backup. Logo, eu criei funções que permitem meu programa fazer essa diferenciação.\n",
    "```\n",
    "def atualizar_log(arquivo):\n",
    "    with open(log_file, \"a\", encoding=\"utf-8\") as f:\n",
    "        f.write(arquivo + \"\\n\")\n",
    "```\n",
    "\n",
    "Se o arquivo arquivos_copiados.txt não existir ainda, o Python cria ele automaticamente no modo \"a\" (append). Cada nome de arquivo copiado é gravado em uma nova linha.\n",
    "\n",
    "\n",
    "```\n",
    "def carregar_arquivos_copiados():\n",
    "    if not os.path.exists(log_file):\n",
    "        return set()\n",
    "    with open(log_file, \"r\", encoding=\"utf-8\") as f:\n",
    "        return set(line.strip() for line in f.readlines())\n",
    "```\n",
    "\n",
    "Essa função Constrói um set com todos os nomes que já foram copiados anteriormente. Assim, o script sabe quais não precisa copiar de novo, mesmo que ainda estejam na pasta rpa_fotos.\n"
   ]
  },
  {
   "cell_type": "markdown",
   "id": "afbc1f45-0bfc-4b9b-bea8-cb68cf7393d8",
   "metadata": {},
   "source": [
    "# Exemplo 1 \n",
    "\n",
    "## Coleta Automática de Preços de Ações com Python\n",
    "\n",
    "Este notebook coleta automaticamente os preços de ações da B3 utilizando o Yahoo Finance e armazena os dados em um arquivo CSV. O processo é contínuo e ocorre a cada 15 minutos, permitindo a construção de um histórico de preços ao longo do dia.\n",
    "\n",
    "---\n",
    "\n",
    "### Objetivo:\n",
    "\n",
    "- Buscar os preços das ações (ex: PETR4.SA, VALE3.SA)\n",
    "- Armazenar os dados com horário da coleta\n",
    "- Repetir esse processo a cada 15 minutos automaticamente"
   ]
  },
  {
   "cell_type": "markdown",
   "id": "da51c372-fc23-4d17-b968-4da3d82fca5b",
   "metadata": {},
   "source": [
    "### Etapa 1 – Bibliotecas utilizadas\n",
    "\n",
    "| Biblioteca      | Função                                                                 |\n",
    "|----------------|------------------------------------------------------------------------|\n",
    "| `yfinance`      | Buscar preços das ações diretamente do Yahoo Finance                   |\n",
    "| `pandas`        | Organizar os dados em tabelas e salvar em CSV                          |\n",
    "| `schedule`      | Agendar tarefas automáticas de coleta a cada X minutos                 |\n",
    "| `datetime`      | Gerar data e hora da coleta                                            |\n",
    "| `time`          | Controlar o tempo de espera entre coletas                              |\n",
    "| `os`            | Verificar se o arquivo já existe para atualizar sem sobrescrever       |"
   ]
  },
  {
   "cell_type": "code",
   "execution_count": null,
   "id": "48a72a18-267d-4426-b0cd-85d2147f800a",
   "metadata": {},
   "outputs": [],
   "source": [
    "!pip install schedule --quiet"
   ]
  },
  {
   "cell_type": "code",
   "execution_count": null,
   "id": "47c648a0-0d63-4f86-be32-d563c5779bcc",
   "metadata": {},
   "outputs": [],
   "source": [
    "# Instale o yfinance caso ainda não tenha\n",
    "!pip install yfinance --quiet\n",
    "\n",
    "import yfinance as yf\n",
    "import pandas as pd\n",
    "import time\n",
    "import schedule\n",
    "import os\n",
    "from datetime import datetime\n"
   ]
  },
  {
   "cell_type": "markdown",
   "id": "402ded95-5765-46c5-b0b5-1f0039ef9aad",
   "metadata": {},
   "source": [
    "### Etapa 2 – Configuração inicial\n",
    "\n",
    "Definimos:\n",
    "- Quais ações vamos monitorar\n",
    "- O nome do arquivo onde os dados serão armazenados\n"
   ]
  },
  {
   "cell_type": "code",
   "execution_count": null,
   "id": "b5d7a43f-9ba0-481d-b672-25f4b506415f",
   "metadata": {},
   "outputs": [],
   "source": [
    "acoes = ['PETR4.SA', 'VALE3.SA', 'ITUB4.SA']  # Ações que queremos monitorar\n",
    "arquivo_saida = 'dados_acoes.csv'            # Nome do arquivo que guardará os dados"
   ]
  },
  {
   "cell_type": "markdown",
   "id": "4667616b-94af-4982-9d39-ce485ac2f75b",
   "metadata": {},
   "source": [
    "### Etapa 3 – Função de coleta de dados\n",
    "\n",
    "Essa função:\n",
    "- Coleta o preço mais recente de cada ação\n",
    "- Registra o horário da coleta\n",
    "- Salva ou atualiza o arquivo `dados_acoes.csv`\n"
   ]
  },
  {
   "cell_type": "code",
   "execution_count": 15,
   "id": "60cd0493-3e0d-4291-95ce-ae3ac3024558",
   "metadata": {},
   "outputs": [],
   "source": [
    "def coletar_dados():\n",
    "    agora = datetime.now().strftime(\"%Y-%m-%d %H:%M:%S\")\n",
    "    dados = []\n",
    "\n",
    "    for acao in acoes:\n",
    "        info = yf.Ticker(acao).history(period='1d', interval='1m')\n",
    "        if not info.empty:\n",
    "            preco_atual = info['Close'].iloc[-1]\n",
    "            dados.append({'timestamp': agora, 'acao': acao, 'preco': preco_atual})\n",
    "\n",
    "    df_novo = pd.DataFrame(dados)\n",
    "\n",
    "    if os.path.exists(arquivo_saida):\n",
    "        df_existente = pd.read_csv(arquivo_saida)\n",
    "        df_total = pd.concat([df_existente, df_novo], ignore_index=True)\n",
    "    else:\n",
    "        df_total = df_novo\n",
    "\n",
    "    df_total.to_csv(arquivo_saida, index=False)\n",
    "    print(f\"[{agora}] Dados coletados e salvos.\")\n"
   ]
  },
  {
   "cell_type": "markdown",
   "id": "9fec3e0d-7f3a-497f-bba5-d747ffad1672",
   "metadata": {},
   "source": [
    "### Etapa 4 – Agendamento da coleta\n",
    "\n",
    "Vamos configurar para coletar dados a cada 15 minutos automaticamente."
   ]
  },
  {
   "cell_type": "code",
   "execution_count": 16,
   "id": "c256ebff-b176-4d16-8bb5-794bf5654735",
   "metadata": {},
   "outputs": [
    {
     "name": "stdout",
     "output_type": "stream",
     "text": [
      "⏳ Iniciando o monitoramento. Pressione STOP para encerrar a execução.\n",
      "[2025-06-08 15:19:06] Dados coletados e salvos.\n",
      "[2025-06-08 15:20:07] Dados coletados e salvos.\n",
      "[2025-06-08 15:21:08] Dados coletados e salvos.\n"
     ]
    },
    {
     "ename": "KeyboardInterrupt",
     "evalue": "",
     "output_type": "error",
     "traceback": [
      "\u001b[31m---------------------------------------------------------------------------\u001b[39m",
      "\u001b[31mKeyboardInterrupt\u001b[39m                         Traceback (most recent call last)",
      "\u001b[36mCell\u001b[39m\u001b[36m \u001b[39m\u001b[32mIn[16]\u001b[39m\u001b[32m, line 7\u001b[39m\n\u001b[32m      5\u001b[39m \u001b[38;5;28;01mwhile\u001b[39;00m \u001b[38;5;28;01mTrue\u001b[39;00m:\n\u001b[32m      6\u001b[39m     schedule.run_pending()\n\u001b[32m----> \u001b[39m\u001b[32m7\u001b[39m     \u001b[43mtime\u001b[49m\u001b[43m.\u001b[49m\u001b[43msleep\u001b[49m\u001b[43m(\u001b[49m\u001b[32;43m60\u001b[39;49m\u001b[43m)\u001b[49m\n",
      "\u001b[31mKeyboardInterrupt\u001b[39m: "
     ]
    }
   ],
   "source": [
    "schedule.every(15).minutes.do(coletar_dados)\n",
    "\n",
    "print(\"⏳ Iniciando o monitoramento. Pressione STOP para encerrar a execução.\")\n",
    "\n",
    "while True:\n",
    "    schedule.run_pending()\n",
    "    time.sleep(60)"
   ]
  },
  {
   "cell_type": "code",
   "execution_count": 17,
   "id": "a1beccca-2f3f-4643-bf7b-7b4015e75055",
   "metadata": {
    "scrolled": true
   },
   "outputs": [
    {
     "data": {
      "text/html": [
       "<div>\n",
       "<style scoped>\n",
       "    .dataframe tbody tr th:only-of-type {\n",
       "        vertical-align: middle;\n",
       "    }\n",
       "\n",
       "    .dataframe tbody tr th {\n",
       "        vertical-align: top;\n",
       "    }\n",
       "\n",
       "    .dataframe thead th {\n",
       "        text-align: right;\n",
       "    }\n",
       "</style>\n",
       "<table border=\"1\" class=\"dataframe\">\n",
       "  <thead>\n",
       "    <tr style=\"text-align: right;\">\n",
       "      <th></th>\n",
       "      <th>timestamp</th>\n",
       "      <th>acao</th>\n",
       "      <th>preco</th>\n",
       "    </tr>\n",
       "  </thead>\n",
       "  <tbody>\n",
       "    <tr>\n",
       "      <th>0</th>\n",
       "      <td>2025-06-08 15:11:16</td>\n",
       "      <td>PETR4.SA</td>\n",
       "      <td>29.690001</td>\n",
       "    </tr>\n",
       "    <tr>\n",
       "      <th>1</th>\n",
       "      <td>2025-06-08 15:11:16</td>\n",
       "      <td>VALE3.SA</td>\n",
       "      <td>52.930000</td>\n",
       "    </tr>\n",
       "    <tr>\n",
       "      <th>2</th>\n",
       "      <td>2025-06-08 15:11:16</td>\n",
       "      <td>ITUB4.SA</td>\n",
       "      <td>36.520000</td>\n",
       "    </tr>\n",
       "    <tr>\n",
       "      <th>3</th>\n",
       "      <td>2025-06-08 15:12:39</td>\n",
       "      <td>PETR4.SA</td>\n",
       "      <td>29.690001</td>\n",
       "    </tr>\n",
       "    <tr>\n",
       "      <th>4</th>\n",
       "      <td>2025-06-08 15:12:39</td>\n",
       "      <td>VALE3.SA</td>\n",
       "      <td>52.930000</td>\n",
       "    </tr>\n",
       "    <tr>\n",
       "      <th>5</th>\n",
       "      <td>2025-06-08 15:12:39</td>\n",
       "      <td>ITUB4.SA</td>\n",
       "      <td>36.520000</td>\n",
       "    </tr>\n",
       "    <tr>\n",
       "      <th>6</th>\n",
       "      <td>2025-06-08 15:19:06</td>\n",
       "      <td>PETR4.SA</td>\n",
       "      <td>29.690001</td>\n",
       "    </tr>\n",
       "    <tr>\n",
       "      <th>7</th>\n",
       "      <td>2025-06-08 15:19:06</td>\n",
       "      <td>VALE3.SA</td>\n",
       "      <td>52.930000</td>\n",
       "    </tr>\n",
       "    <tr>\n",
       "      <th>8</th>\n",
       "      <td>2025-06-08 15:19:06</td>\n",
       "      <td>ITUB4.SA</td>\n",
       "      <td>36.520000</td>\n",
       "    </tr>\n",
       "    <tr>\n",
       "      <th>9</th>\n",
       "      <td>2025-06-08 15:20:07</td>\n",
       "      <td>PETR4.SA</td>\n",
       "      <td>29.690001</td>\n",
       "    </tr>\n",
       "    <tr>\n",
       "      <th>10</th>\n",
       "      <td>2025-06-08 15:20:07</td>\n",
       "      <td>VALE3.SA</td>\n",
       "      <td>52.930000</td>\n",
       "    </tr>\n",
       "    <tr>\n",
       "      <th>11</th>\n",
       "      <td>2025-06-08 15:20:07</td>\n",
       "      <td>ITUB4.SA</td>\n",
       "      <td>36.520000</td>\n",
       "    </tr>\n",
       "    <tr>\n",
       "      <th>12</th>\n",
       "      <td>2025-06-08 15:21:08</td>\n",
       "      <td>PETR4.SA</td>\n",
       "      <td>29.690001</td>\n",
       "    </tr>\n",
       "    <tr>\n",
       "      <th>13</th>\n",
       "      <td>2025-06-08 15:21:08</td>\n",
       "      <td>VALE3.SA</td>\n",
       "      <td>52.930000</td>\n",
       "    </tr>\n",
       "    <tr>\n",
       "      <th>14</th>\n",
       "      <td>2025-06-08 15:21:08</td>\n",
       "      <td>ITUB4.SA</td>\n",
       "      <td>36.520000</td>\n",
       "    </tr>\n",
       "  </tbody>\n",
       "</table>\n",
       "</div>"
      ],
      "text/plain": [
       "              timestamp      acao      preco\n",
       "0   2025-06-08 15:11:16  PETR4.SA  29.690001\n",
       "1   2025-06-08 15:11:16  VALE3.SA  52.930000\n",
       "2   2025-06-08 15:11:16  ITUB4.SA  36.520000\n",
       "3   2025-06-08 15:12:39  PETR4.SA  29.690001\n",
       "4   2025-06-08 15:12:39  VALE3.SA  52.930000\n",
       "5   2025-06-08 15:12:39  ITUB4.SA  36.520000\n",
       "6   2025-06-08 15:19:06  PETR4.SA  29.690001\n",
       "7   2025-06-08 15:19:06  VALE3.SA  52.930000\n",
       "8   2025-06-08 15:19:06  ITUB4.SA  36.520000\n",
       "9   2025-06-08 15:20:07  PETR4.SA  29.690001\n",
       "10  2025-06-08 15:20:07  VALE3.SA  52.930000\n",
       "11  2025-06-08 15:20:07  ITUB4.SA  36.520000\n",
       "12  2025-06-08 15:21:08  PETR4.SA  29.690001\n",
       "13  2025-06-08 15:21:08  VALE3.SA  52.930000\n",
       "14  2025-06-08 15:21:08  ITUB4.SA  36.520000"
      ]
     },
     "execution_count": 17,
     "metadata": {},
     "output_type": "execute_result"
    }
   ],
   "source": [
    "pd.read_csv('dados_acoes.csv')"
   ]
  },
  {
   "cell_type": "markdown",
   "id": "179bc5f2",
   "metadata": {},
   "source": [
    "# Exemplo 2\n",
    "\n",
    "## Automatizando o Google\n",
    "\n",
    "Neste exemplo, eu tentei criar um programa que automatizava a produção de cookies do jogo Cookie Cliekers todavia, enfrentei problemas constantes de CAPTCHA (Completely Automated Public Turing test to tell Computers and Humans Apart)"
   ]
  },
  {
   "cell_type": "code",
   "execution_count": 12,
   "id": "3b0895c0",
   "metadata": {},
   "outputs": [],
   "source": [
    "from selenium import webdriver\n",
    "from selenium.webdriver.chrome.service import Service\n",
    "from selenium.webdriver.common.by import By\n",
    "from selenium.webdriver.common.keys import Keys\n",
    "from selenium.webdriver.support.ui import WebDriverWait\n",
    "from selenium.webdriver.support import expected_conditions as EC\n",
    "from selenium.webdriver.chrome.options import Options\n",
    "import time\n",
    "import random\n",
    "\n",
    "# Configurações para \"disfarçar\" o Selenium\n",
    "chrome_options = Options()\n",
    "chrome_options.add_argument(\"--disable-blink-features=AutomationControlled\")\n",
    "chrome_options.add_argument(\"--disable-infobars\")\n",
    "chrome_options.add_argument(\"--disable-extensions\")\n",
    "chrome_options.add_argument(\"--profile-directory=Default\")\n",
    "chrome_options.add_argument(\"--start-maximized\")\n",
    "chrome_options.add_argument(\"--incognito\")\n",
    "\n",
    "# Finge que é um navegador comum\n",
    "chrome_options.add_argument(\"user-agent=Mozilla/5.0 (Windows NT 10.0; Win64; x64) AppleWebKit/537.36 (KHTML, like Gecko) Chrome/114.0.0.0 Safari/537.36\")\n",
    "\n",
    "# Caminho do ChromeDriver\n",
    "service = Service(executable_path=\"chromedriver.exe\")\n",
    "driver = webdriver.Chrome(service=service, options=chrome_options)\n",
    "\n",
    "# Acessa o Google\n",
    "driver.get(\"https://www.google.com\")\n",
    "\n",
    "# Espera a barra de busca aparecer\n",
    "WebDriverWait(driver, 10).until(\n",
    "    EC.presence_of_element_located((By.NAME, \"q\"))\n",
    ")\n",
    "\n",
    "# Digita \"tech with tim\" e pressiona ENTER\n",
    "search_input = driver.find_element(By.NAME, \"q\")\n",
    "search_input.clear()\n",
    "search_input.send_keys(\"Pesquisa Automatizada\" + Keys.ENTER)\n",
    "\n",
    "# Espera o carregamento da página de resultados\n",
    "time.sleep(random.uniform(3, 5))\n",
    "\n",
    "# Fecha o navegador\n",
    "driver.quit()\n"
   ]
  },
  {
   "cell_type": "markdown",
   "id": "b21da685",
   "metadata": {},
   "source": [
    "### Sobre o Código:\n",
    "\n",
    "O `webdriver` é o componente do Selenium que permite controlar o navegador de forma programada. No nosso código, ele está sendo utilizado para abrir o Google Chrome, acessar o site google.com, digitar uma busca automaticamente e simular o comportamento de um usuário humano. Ele faz isso a partir da linha `driver = webdriver.Chrome(...)`, onde o navegador é iniciado com uma série de opções definidas anteriormente.\n",
    "\n",
    "Essas opções são a chave para burlar o CAPTCHA do Google. Usamos argumentos como `--disable-blink-features=AutomationControlled` e um `user-agent` realista para evitar que o navegador revele que está sendo controlado por um script. Também abrimos o navegador em modo anônimo para simular melhor o comportamento humano. Com esses ajustes, conseguimos enganar os mecanismos de detecção automática do Google, que normalmente ativariam um CAPTCHA ao perceberem que a navegação está sendo feita por um robô.\n",
    "\n",
    "Ao fim, o código simula o ato de pesquisar no Google por “Pesquisa Automatizada” e espera alguns segundos antes de encerrar o navegador. O segredo para evitar o CAPTCHA foi justamente \"camuflar\" a automação com configurações que fazem o navegador parecer legítimo e humano.\n",
    "\n",
    "![Pesquisa_Automatizada](pesquisa_auto.png)\n"
   ]
  },
  {
   "cell_type": "markdown",
   "id": "71b5a4bb",
   "metadata": {},
   "source": [
    "## Automatizando o Cookie Clickers \n",
    "\n",
    "Tentei aplicar um método similar do codigo anterior com o intuito de \"enganar\" o captcha contudo a tentativa deu errada."
   ]
  },
  {
   "cell_type": "code",
   "execution_count": 11,
   "id": "dea55295",
   "metadata": {},
   "outputs": [
    {
     "ename": "InvalidSessionIdException",
     "evalue": "Message: invalid session id: session deleted as the browser has closed the connection\nfrom disconnected: not connected to DevTools\n  (Session info: chrome=137.0.7151.69)\nStacktrace:\n\tGetHandleVerifier [0x0x7ff7d550fea5+79173]\n\tGetHandleVerifier [0x0x7ff7d550ff00+79264]\n\t(No symbol) [0x0x7ff7d52c9e5a]\n\t(No symbol) [0x0x7ff7d52b5c25]\n\t(No symbol) [0x0x7ff7d52dac44]\n\t(No symbol) [0x0x7ff7d53503c5]\n\t(No symbol) [0x0x7ff7d5370922]\n\t(No symbol) [0x0x7ff7d5348743]\n\t(No symbol) [0x0x7ff7d53114c1]\n\t(No symbol) [0x0x7ff7d5312253]\n\tGetHandleVerifier [0x0x7ff7d57da2dd+3004797]\n\tGetHandleVerifier [0x0x7ff7d57d472d+2981325]\n\tGetHandleVerifier [0x0x7ff7d57f3380+3107360]\n\tGetHandleVerifier [0x0x7ff7d552aa2e+188622]\n\tGetHandleVerifier [0x0x7ff7d55322bf+219487]\n\tGetHandleVerifier [0x0x7ff7d5518df4+115860]\n\tGetHandleVerifier [0x0x7ff7d5518fa9+116297]\n\tGetHandleVerifier [0x0x7ff7d54ff558+11256]\n\tBaseThreadInitThunk [0x0x7ffda1ffe8d7+23]\n\tRtlUserThreadStart [0x0x7ffda397c34c+44]\n",
     "output_type": "error",
     "traceback": [
      "\u001b[1;31m---------------------------------------------------------------------------\u001b[0m",
      "\u001b[1;31mInvalidSessionIdException\u001b[0m                 Traceback (most recent call last)",
      "Cell \u001b[1;32mIn[11], line 52\u001b[0m\n\u001b[0;32m     49\u001b[0m driver\u001b[38;5;241m.\u001b[39mfind_element(By\u001b[38;5;241m.\u001b[39mXPATH, \u001b[38;5;124m\"\u001b[39m\u001b[38;5;124m//*[contains(text(), \u001b[39m\u001b[38;5;124m'\u001b[39m\u001b[38;5;124mEnglish\u001b[39m\u001b[38;5;124m'\u001b[39m\u001b[38;5;124m)]\u001b[39m\u001b[38;5;124m\"\u001b[39m)\u001b[38;5;241m.\u001b[39mclick()\n\u001b[0;32m     51\u001b[0m \u001b[38;5;66;03m# === Aguarda o cookie aparecer e interage ===\u001b[39;00m\n\u001b[1;32m---> 52\u001b[0m \u001b[43mWebDriverWait\u001b[49m\u001b[43m(\u001b[49m\u001b[43mdriver\u001b[49m\u001b[43m,\u001b[49m\u001b[43m \u001b[49m\u001b[38;5;241;43m15\u001b[39;49m\u001b[43m)\u001b[49m\u001b[38;5;241;43m.\u001b[39;49m\u001b[43muntil\u001b[49m\u001b[43m(\u001b[49m\n\u001b[0;32m     53\u001b[0m \u001b[43m    \u001b[49m\u001b[43mEC\u001b[49m\u001b[38;5;241;43m.\u001b[39;49m\u001b[43mpresence_of_element_located\u001b[49m\u001b[43m(\u001b[49m\u001b[43m(\u001b[49m\u001b[43mBy\u001b[49m\u001b[38;5;241;43m.\u001b[39;49m\u001b[43mID\u001b[49m\u001b[43m,\u001b[49m\u001b[43m \u001b[49m\u001b[38;5;124;43m\"\u001b[39;49m\u001b[38;5;124;43mbigCookie\u001b[39;49m\u001b[38;5;124;43m\"\u001b[39;49m\u001b[43m)\u001b[49m\u001b[43m)\u001b[49m\n\u001b[0;32m     54\u001b[0m \u001b[43m)\u001b[49m\n\u001b[0;32m     55\u001b[0m cookie \u001b[38;5;241m=\u001b[39m driver\u001b[38;5;241m.\u001b[39mfind_element(By\u001b[38;5;241m.\u001b[39mID, \u001b[38;5;124m\"\u001b[39m\u001b[38;5;124mbigCookie\u001b[39m\u001b[38;5;124m\"\u001b[39m)\n\u001b[0;32m     57\u001b[0m \u001b[38;5;66;03m# === Loop de cliques com compra automática básica ===\u001b[39;00m\n",
      "File \u001b[1;32mc:\\Users\\edgar\\AppData\\Local\\Programs\\Python\\Python313\\Lib\\site-packages\\selenium\\webdriver\\support\\wait.py:96\u001b[0m, in \u001b[0;36mWebDriverWait.until\u001b[1;34m(self, method, message)\u001b[0m\n\u001b[0;32m     94\u001b[0m \u001b[38;5;28;01mwhile\u001b[39;00m \u001b[38;5;28;01mTrue\u001b[39;00m:\n\u001b[0;32m     95\u001b[0m     \u001b[38;5;28;01mtry\u001b[39;00m:\n\u001b[1;32m---> 96\u001b[0m         value \u001b[38;5;241m=\u001b[39m \u001b[43mmethod\u001b[49m\u001b[43m(\u001b[49m\u001b[38;5;28;43mself\u001b[39;49m\u001b[38;5;241;43m.\u001b[39;49m\u001b[43m_driver\u001b[49m\u001b[43m)\u001b[49m\n\u001b[0;32m     97\u001b[0m         \u001b[38;5;28;01mif\u001b[39;00m value:\n\u001b[0;32m     98\u001b[0m             \u001b[38;5;28;01mreturn\u001b[39;00m value\n",
      "File \u001b[1;32mc:\\Users\\edgar\\AppData\\Local\\Programs\\Python\\Python313\\Lib\\site-packages\\selenium\\webdriver\\support\\expected_conditions.py:84\u001b[0m, in \u001b[0;36mpresence_of_element_located.<locals>._predicate\u001b[1;34m(driver)\u001b[0m\n\u001b[0;32m     83\u001b[0m \u001b[38;5;28;01mdef\u001b[39;00m \u001b[38;5;21m_predicate\u001b[39m(driver: WebDriverOrWebElement):\n\u001b[1;32m---> 84\u001b[0m     \u001b[38;5;28;01mreturn\u001b[39;00m \u001b[43mdriver\u001b[49m\u001b[38;5;241;43m.\u001b[39;49m\u001b[43mfind_element\u001b[49m\u001b[43m(\u001b[49m\u001b[38;5;241;43m*\u001b[39;49m\u001b[43mlocator\u001b[49m\u001b[43m)\u001b[49m\n",
      "File \u001b[1;32mc:\\Users\\edgar\\AppData\\Local\\Programs\\Python\\Python313\\Lib\\site-packages\\selenium\\webdriver\\remote\\webdriver.py:748\u001b[0m, in \u001b[0;36mWebDriver.find_element\u001b[1;34m(self, by, value)\u001b[0m\n\u001b[0;32m    745\u001b[0m     by \u001b[38;5;241m=\u001b[39m By\u001b[38;5;241m.\u001b[39mCSS_SELECTOR\n\u001b[0;32m    746\u001b[0m     value \u001b[38;5;241m=\u001b[39m \u001b[38;5;124mf\u001b[39m\u001b[38;5;124m'\u001b[39m\u001b[38;5;124m[name=\u001b[39m\u001b[38;5;124m\"\u001b[39m\u001b[38;5;132;01m{\u001b[39;00mvalue\u001b[38;5;132;01m}\u001b[39;00m\u001b[38;5;124m\"\u001b[39m\u001b[38;5;124m]\u001b[39m\u001b[38;5;124m'\u001b[39m\n\u001b[1;32m--> 748\u001b[0m \u001b[38;5;28;01mreturn\u001b[39;00m \u001b[38;5;28;43mself\u001b[39;49m\u001b[38;5;241;43m.\u001b[39;49m\u001b[43mexecute\u001b[49m\u001b[43m(\u001b[49m\u001b[43mCommand\u001b[49m\u001b[38;5;241;43m.\u001b[39;49m\u001b[43mFIND_ELEMENT\u001b[49m\u001b[43m,\u001b[49m\u001b[43m \u001b[49m\u001b[43m{\u001b[49m\u001b[38;5;124;43m\"\u001b[39;49m\u001b[38;5;124;43musing\u001b[39;49m\u001b[38;5;124;43m\"\u001b[39;49m\u001b[43m:\u001b[49m\u001b[43m \u001b[49m\u001b[43mby\u001b[49m\u001b[43m,\u001b[49m\u001b[43m \u001b[49m\u001b[38;5;124;43m\"\u001b[39;49m\u001b[38;5;124;43mvalue\u001b[39;49m\u001b[38;5;124;43m\"\u001b[39;49m\u001b[43m:\u001b[49m\u001b[43m \u001b[49m\u001b[43mvalue\u001b[49m\u001b[43m}\u001b[49m\u001b[43m)\u001b[49m[\u001b[38;5;124m\"\u001b[39m\u001b[38;5;124mvalue\u001b[39m\u001b[38;5;124m\"\u001b[39m]\n",
      "File \u001b[1;32mc:\\Users\\edgar\\AppData\\Local\\Programs\\Python\\Python313\\Lib\\site-packages\\selenium\\webdriver\\remote\\webdriver.py:354\u001b[0m, in \u001b[0;36mWebDriver.execute\u001b[1;34m(self, driver_command, params)\u001b[0m\n\u001b[0;32m    352\u001b[0m response \u001b[38;5;241m=\u001b[39m \u001b[38;5;28mself\u001b[39m\u001b[38;5;241m.\u001b[39mcommand_executor\u001b[38;5;241m.\u001b[39mexecute(driver_command, params)\n\u001b[0;32m    353\u001b[0m \u001b[38;5;28;01mif\u001b[39;00m response:\n\u001b[1;32m--> 354\u001b[0m     \u001b[38;5;28;43mself\u001b[39;49m\u001b[38;5;241;43m.\u001b[39;49m\u001b[43merror_handler\u001b[49m\u001b[38;5;241;43m.\u001b[39;49m\u001b[43mcheck_response\u001b[49m\u001b[43m(\u001b[49m\u001b[43mresponse\u001b[49m\u001b[43m)\u001b[49m\n\u001b[0;32m    355\u001b[0m     response[\u001b[38;5;124m\"\u001b[39m\u001b[38;5;124mvalue\u001b[39m\u001b[38;5;124m\"\u001b[39m] \u001b[38;5;241m=\u001b[39m \u001b[38;5;28mself\u001b[39m\u001b[38;5;241m.\u001b[39m_unwrap_value(response\u001b[38;5;241m.\u001b[39mget(\u001b[38;5;124m\"\u001b[39m\u001b[38;5;124mvalue\u001b[39m\u001b[38;5;124m\"\u001b[39m, \u001b[38;5;28;01mNone\u001b[39;00m))\n\u001b[0;32m    356\u001b[0m     \u001b[38;5;28;01mreturn\u001b[39;00m response\n",
      "File \u001b[1;32mc:\\Users\\edgar\\AppData\\Local\\Programs\\Python\\Python313\\Lib\\site-packages\\selenium\\webdriver\\remote\\errorhandler.py:229\u001b[0m, in \u001b[0;36mErrorHandler.check_response\u001b[1;34m(self, response)\u001b[0m\n\u001b[0;32m    227\u001b[0m         alert_text \u001b[38;5;241m=\u001b[39m value[\u001b[38;5;124m\"\u001b[39m\u001b[38;5;124malert\u001b[39m\u001b[38;5;124m\"\u001b[39m]\u001b[38;5;241m.\u001b[39mget(\u001b[38;5;124m\"\u001b[39m\u001b[38;5;124mtext\u001b[39m\u001b[38;5;124m\"\u001b[39m)\n\u001b[0;32m    228\u001b[0m     \u001b[38;5;28;01mraise\u001b[39;00m exception_class(message, screen, stacktrace, alert_text)  \u001b[38;5;66;03m# type: ignore[call-arg]  # mypy is not smart enough here\u001b[39;00m\n\u001b[1;32m--> 229\u001b[0m \u001b[38;5;28;01mraise\u001b[39;00m exception_class(message, screen, stacktrace)\n",
      "\u001b[1;31mInvalidSessionIdException\u001b[0m: Message: invalid session id: session deleted as the browser has closed the connection\nfrom disconnected: not connected to DevTools\n  (Session info: chrome=137.0.7151.69)\nStacktrace:\n\tGetHandleVerifier [0x0x7ff7d550fea5+79173]\n\tGetHandleVerifier [0x0x7ff7d550ff00+79264]\n\t(No symbol) [0x0x7ff7d52c9e5a]\n\t(No symbol) [0x0x7ff7d52b5c25]\n\t(No symbol) [0x0x7ff7d52dac44]\n\t(No symbol) [0x0x7ff7d53503c5]\n\t(No symbol) [0x0x7ff7d5370922]\n\t(No symbol) [0x0x7ff7d5348743]\n\t(No symbol) [0x0x7ff7d53114c1]\n\t(No symbol) [0x0x7ff7d5312253]\n\tGetHandleVerifier [0x0x7ff7d57da2dd+3004797]\n\tGetHandleVerifier [0x0x7ff7d57d472d+2981325]\n\tGetHandleVerifier [0x0x7ff7d57f3380+3107360]\n\tGetHandleVerifier [0x0x7ff7d552aa2e+188622]\n\tGetHandleVerifier [0x0x7ff7d55322bf+219487]\n\tGetHandleVerifier [0x0x7ff7d5518df4+115860]\n\tGetHandleVerifier [0x0x7ff7d5518fa9+116297]\n\tGetHandleVerifier [0x0x7ff7d54ff558+11256]\n\tBaseThreadInitThunk [0x0x7ffda1ffe8d7+23]\n\tRtlUserThreadStart [0x0x7ffda397c34c+44]\n"
     ]
    }
   ],
   "source": [
    "from selenium import webdriver\n",
    "from selenium.webdriver.chrome.service import Service\n",
    "from selenium.webdriver.common.by import By\n",
    "from selenium.webdriver.chrome.options import Options\n",
    "from selenium.webdriver.support.ui import WebDriverWait\n",
    "from selenium.webdriver.support import expected_conditions as EC\n",
    "import time\n",
    "\n",
    "# === User-Agent que você copiou do seu navegador ===\n",
    "USER_AGENT = \"Mozilla/5.0 (Windows NT 10.0; Win64; x64) AppleWebKit/537.36 (KHTML, like Gecko) Chrome/114.0.0.0 Safari/537.36\"\n",
    "\n",
    "# === Cookie cf_clearance ===\n",
    "COOKIES = [\n",
    "    {\n",
    "        \"name\": \"cf_clearance\",\n",
    "        \"value\": \"cbiV8HjN2qWQbySx3w3itHOslkOS7ga4Feh_Y.YDF2c-1749405576-1.2.1.1-qL0k6H1C5xr9.la33PwXMsYbCseBFOxvDKeWOUM7Gen0SUL5c19GW5Y0hUwwMxUCHKB_UzfZvy4.DowfxcgsSQeh3jmv9jKuAmXhcXl2JMyqYFTJlt7WLFObPlwEdkULvG5C9qGXUdVLTDjvujJuDljjPuq_k6YpraJ4rFxgWzBs_T7FW4Ri70TqwPtIoVr0po0Sf.5z7h5BiIHfcpH0U3aHSjErBDNSPFN3INRM8R70ljwbucLj5tDK5GMqO5CfYdpjV3M9zVF3BiN0U1KBRr8fg4BrIMS1AP2vu562aUELP7DhrreJm8.p_DJiAOGXXb7.aK2OLSVkK7oGXZhtMAFV8fZX6oSZnrKN00trrCY\",\n",
    "        \"domain\": \".dashnet.org\",\n",
    "        \"path\": \"/\",\n",
    "        \"secure\": True,\n",
    "        \"httpOnly\": True\n",
    "    }\n",
    "]\n",
    "\n",
    "# === Configurações do navegador ===\n",
    "chrome_options = Options()\n",
    "chrome_options.add_argument(f\"user-agent={USER_AGENT}\")\n",
    "chrome_options.add_argument(\"--disable-blink-features=AutomationControlled\")\n",
    "chrome_options.add_argument(\"--incognito\")\n",
    "chrome_options.add_argument(\"--start-maximized\")\n",
    "\n",
    "# === Inicializa o Chrome ===\n",
    "service = Service(executable_path=\"chromedriver.exe\")\n",
    "driver = webdriver.Chrome(service=service, options=chrome_options)\n",
    "\n",
    "# === Primeiro acesso ao domínio (obrigatório para setar cookies) ===\n",
    "driver.get(\"https://orteil.dashnet.org\")\n",
    "\n",
    "# === Adiciona o cookie manualmente ===\n",
    "for cookie in COOKIES:\n",
    "    driver.add_cookie(cookie)\n",
    "\n",
    "# === Agora acessa o jogo com a sessão autenticada ===\n",
    "driver.get(\"https://orteil.dashnet.org/cookieclicker\")\n",
    "\n",
    "# === Aguarda o botão de idioma aparecer e clica ===\n",
    "WebDriverWait(driver, 15).until(\n",
    "    EC.presence_of_element_located((By.XPATH, \"//*[contains(text(), 'English')]\"))\n",
    ")\n",
    "driver.find_element(By.XPATH, \"//*[contains(text(), 'English')]\").click()\n",
    "\n",
    "# === Aguarda o cookie aparecer e interage ===\n",
    "WebDriverWait(driver, 15).until(\n",
    "    EC.presence_of_element_located((By.ID, \"bigCookie\"))\n",
    ")\n",
    "cookie = driver.find_element(By.ID, \"bigCookie\")\n",
    "\n",
    "# === Loop de cliques com compra automática básica ===\n",
    "product_price_prefix = \"productPrice\"\n",
    "product_prefix = \"product\"\n",
    "\n",
    "while True:\n",
    "    cookie.click()\n",
    "    time.sleep(0.01)\n",
    "\n",
    "    cookies_count = driver.find_element(By.ID, \"cookies\").text.split(\" \")[0]\n",
    "    cookies_count = int(cookies_count.replace(\",\", \"\"))\n",
    "\n",
    "    for i in range(4):\n",
    "        try:\n",
    "            price_el = driver.find_element(By.ID, product_price_prefix + str(i)).text.replace(\",\", \"\")\n",
    "            if not price_el.isdigit():\n",
    "                continue\n",
    "            price = int(price_el)\n",
    "\n",
    "            if cookies_count >= price:\n",
    "                driver.find_element(By.ID, product_prefix + str(i)).click()\n",
    "                break\n",
    "        except:\n",
    "            continue\n"
   ]
  },
  {
   "cell_type": "markdown",
   "id": "f0632e1b",
   "metadata": {},
   "source": [
    "### Explicando o Código\n",
    "\n",
    "Esse código tenta automatizar o jogo Cookie Clicker acessando diretamente o site e adicionando manualmente o cookie `cf_clearance`, que é gerado quando você resolve o CAPTCHA da Cloudflare manualmente. A lógica é parecida com a usada para burlar o CAPTCHA do Google: camuflar o navegador como humano com user-agent, abrir o site previamente e inserir o cookie de autorização. No entanto, neste caso, não funcionou como esperado porque a Cloudflare possui mecanismos de segurança mais avançados que não se limitam apenas à presença do cookie.\n",
    "\n",
    "O que acontece é que, mesmo com o cookie válido, a Cloudflare pode solicitar uma nova verificação se ela detectar que o navegador é automatizado, o que é comum com Selenium. Isso ocorre porque, além do cookie, ela analisa fatores como movimentação de mouse, tempo de resposta, headers detalhados e principalmente a presença da variável `navigator.webdriver`, que denuncia que o navegador está sendo controlado por um script. Como o código não simula comportamento humano com realismo suficiente, a Cloudflare entende que aquilo ainda pode ser um bot e reapresenta o CAPTCHA.\n",
    "\n",
    "Existem soluções profissionais para contornar isso, como o serviço Bright Data ([https://brightdata.com/](https://brightdata.com/)), que oferece acesso a proxies rotativos e ferramentas capazes de driblar detecções de bot como as da Cloudflare. No entanto, esse serviço é pago e pode ser caro para uso pessoal ou testes simples, o que fez com que essa alternativa fosse descartada aqui.\n",
    "\n",
    "![Cookie_erro](CAPTCHA.png)\n",
    "\n",
    "\n"
   ]
  },
  {
   "cell_type": "markdown",
   "id": "09245419",
   "metadata": {},
   "source": [
    "# Exemplo 3\n",
    "\n",
    "## Previsão do Tempo\n"
   ]
  },
  {
   "cell_type": "code",
   "execution_count": null,
   "id": "b302a43e",
   "metadata": {},
   "outputs": [
    {
     "name": "stdout",
     "output_type": "stream",
     "text": [
      "The weather in rio de janeiro is: Clouds\n",
      "The temperature in rio de janeiro is: 25ºC\n"
     ]
    }
   ],
   "source": [
    "import requests\n",
    "\n",
    "api_key = 'f059fb26f708b9fe76ffa9e2a6664e11'\n",
    "\n",
    "user_input = input(\"Enter city: \")\n",
    "\n",
    "weather_data = requests.get(\n",
    "    f\"https://api.openweathermap.org/data/2.5/weather?q={user_input}&units=metric&APPID={api_key}\")  # <- \"metric\"\n",
    "\n",
    "if weather_data.json()['cod'] == '404':\n",
    "    print(\"No City Found\")\n",
    "else:\n",
    "    weather = weather_data.json()['weather'][0]['main']\n",
    "    temp = round(weather_data.json()['main']['temp'])\n",
    "\n",
    "    print(f\"The weather in {user_input} is: {weather}\")\n",
    "    print(f\"The temperature in {user_input} is: {temp}ºC\")  \n"
   ]
  },
  {
   "cell_type": "markdown",
   "id": "49c36ae3",
   "metadata": {},
   "source": [
    "### Explicando o Código\n",
    "\n",
    "Esse código em Python realiza uma automação simples e poderosa que consulta a previsão do tempo de uma cidade específica usando a API pública do site OpenWeatherMap. A biblioteca `requests` é o principal recurso utilizado, pois permite enviar uma requisição HTTP para o endereço da API, que retorna dados atualizados em formato JSON. O OpenWeatherMap é um serviço online que disponibiliza dados meteorológicos em tempo real de milhares de cidades no mundo todo, e a API key é a chave de acesso individual que autentica o uso da plataforma para cada usuário. Essa automação é útil porque elimina a necessidade de procurar manualmente o clima no navegador, facilitando integrações com sistemas maiores, relatórios automáticos ou aplicações inteligentes. A verificação do código de resposta `'cod' == '404'` garante que o nome da cidade foi reconhecido corretamente, e, em caso positivo, o programa extrai a condição do clima e a temperatura atual, convertida diretamente em Celsius. Esse tipo de automação é um exemplo claro de como integrar APIs com scripts personalizados para coletar, tratar e exibir dados de maneira prática e rápida.\n"
   ]
  },
  {
   "cell_type": "markdown",
   "id": "a7ada454",
   "metadata": {},
   "source": [
    "## Previsão do Tempo com Coleta de Dados Automatizados"
   ]
  },
  {
   "cell_type": "code",
   "execution_count": null,
   "id": "1575e422",
   "metadata": {},
   "outputs": [],
   "source": [
    "import requests\n",
    "import csv\n",
    "import json\n",
    "\n",
    "api_key = 'f059fb26f708b9fe76ffa9e2a6664e11'\n",
    "country_code = input(\"Enter country code (e.g., BR, US, FR): \").strip().upper()\n",
    "\n",
    "# Carrega o arquivo de cidades\n",
    "with open(\"city.list.json\", encoding=\"utf-8\") as file:\n",
    "    all_cities = json.load(file)\n",
    "\n",
    "# Filtra cidades do país desejado\n",
    "cities_in_country = [city for city in all_cities if city[\"country\"] == country_code]\n",
    "\n",
    "# Prepara o CSV\n",
    "with open(f\"{country_code}_weather.csv\", \"w\", newline='', encoding='utf-8') as csvfile:\n",
    "    writer = csv.writer(csvfile)\n",
    "    writer.writerow([\"City\", \"Country\", \"Weather\", \"Temperature (C)\"])\n",
    "\n",
    "    for city in cities_in_country[:100]:  # Limite de 100 para evitar bloqueios de API\n",
    "        city_id = city[\"id\"]\n",
    "        name = city[\"name\"]\n",
    "\n",
    "        url = f\"https://api.openweathermap.org/data/2.5/weather?id={city_id}&appid={api_key}&units=metric\"\n",
    "        response = requests.get(url)\n",
    "        if response.status_code == 200:\n",
    "            data = response.json()\n",
    "            weather = data[\"weather\"][0][\"main\"]\n",
    "            temp = round(data[\"main\"][\"temp\"])\n",
    "            writer.writerow([name, country_code, weather, temp])\n",
    "        else:\n",
    "            print(f\"Could not fetch weather for {name}\")\n"
   ]
  },
  {
   "cell_type": "markdown",
   "id": "a15031e6",
   "metadata": {},
   "source": [
    "### Explicando o Codigo\n",
    "\n",
    "Esse código automatiza a coleta de dados climáticos de diversas cidades de um país usando a API do OpenWeatherMap e grava as informações em um arquivo CSV. Ele começa pedindo ao usuário o código do país (como BR para Brasil), e em seguida carrega um arquivo JSON chamado `city.list.json`, que contém uma lista com todas as cidades cadastradas na base de dados da OpenWeatherMap, incluindo seus nomes, identificadores e país. O arquivo JSON é essencial nesse processo porque funciona como uma base local estruturada que o código utiliza para filtrar apenas as cidades do país desejado, permitindo chamadas mais precisas e organizadas à API. A API, por sua vez, fornece as informações de temperatura e clima atual de cada cidade a partir de seu identificador único. O motivo pelo qual o código pode dar problema ao tentar consultar todas as cidades do Brasil é que a OpenWeather impõe um limite de requisições por minuto na versão gratuita (normalmente até 60 chamadas), o que significa que fazer centenas ou milhares de chamadas em sequência pode causar bloqueio temporário do IP ou falhas na execução. Além disso, sem intervalos entre as chamadas, o código corre o risco de parar de funcionar no meio da execução, perdendo parte dos dados ou gerando um CSV incompleto. Por isso, embora o script seja útil e eficiente para automatizar relatórios climáticos em escala, ele exige ajustes como pausas (`sleep`) e controle de requisições para funcionar com grandes volumes de cidades.\n",
    "\n",
    "![Planilha_clima_tempo](dados_clima.png)\n",
    "![Planilha_clima_tempo_python](planilha_clima_python.png)"
   ]
  },
  {
   "cell_type": "markdown",
   "id": "b6451b4b-cf1f-432f-ab6e-28b4127a9697",
   "metadata": {},
   "source": [
    "\n",
    "# Exemplo 4\n",
    "\n",
    "## Análise Automatizada de Currículos em PDF\n",
    "\n",
    "Este notebook automatiza a leitura de currículos em PDF, localizados na pasta `INF1515/curriculos`, e verifica quais candidatos mencionam instituições específicas como:\n",
    "\n",
    "- **PUC-Rio**\n",
    "- **Pontifícia Universidade Católica do Rio de Janeiro**\n",
    "\n",
    "O objetivo é filtrar automaticamente os arquivos relevantes para facilitar a triagem de candidatos.\n"
   ]
  },
  {
   "cell_type": "code",
   "execution_count": 16,
   "id": "f9a8acdb-129f-4156-98a9-8838079afa5c",
   "metadata": {},
   "outputs": [
    {
     "name": "stdout",
     "output_type": "stream",
     "text": [
      "Requirement already satisfied: pymupdf in c:\\users\\pedro\\appdata\\local\\programs\\python\\python313\\lib\\site-packages (1.26.0)\n"
     ]
    }
   ],
   "source": [
    "!pip install pymupdf"
   ]
  },
  {
   "cell_type": "code",
   "execution_count": 17,
   "id": "b3362f02-7eeb-4328-8d5b-0ee44bf04b9c",
   "metadata": {},
   "outputs": [],
   "source": [
    "import os\n",
    "import PyPDF2\n",
    "import fitz  # PyMuPDF"
   ]
  },
  {
   "cell_type": "markdown",
   "id": "65a08ec3-4191-41c3-babf-db9c6c0b8d25",
   "metadata": {},
   "source": [
    "### Leitura automática de currículos em PDF\n",
    "\n",
    "Esta automação percorre todos os arquivos PDF dentro da pasta `curriculos/` e verifica se o conteúdo menciona \"PUC-Rio\" ou \"Pontifícia Universidade Católica do Rio de Janeiro\".\n",
    "\n",
    "Se encontrar, imprime o nome do arquivo (ou salva numa lista para posterior triagem).\n"
   ]
  },
  {
   "cell_type": "code",
   "execution_count": 12,
   "id": "41073ed5-9498-47d6-a78a-442910f94448",
   "metadata": {},
   "outputs": [],
   "source": [
    "# Caminho da pasta\n",
    "pasta_curriculos = \"C:/Users/pedro/INF1515/curriculos\"\n",
    "\n",
    "# Palavras-chave para buscar nos currículos\n",
    "palavras_chave = [\"PUC-Rio\", \"Pontifícia Universidade Católica do Rio de Janeiro\"]\n"
   ]
  },
  {
   "cell_type": "code",
   "execution_count": 13,
   "id": "3c55dc55-1ab6-4d81-83ec-c42b0e66b962",
   "metadata": {},
   "outputs": [
    {
     "name": "stdout",
     "output_type": "stream",
     "text": [
      "Currículos que mencionam PUC-Rio ou equivalente:\n",
      "- candidato1.pdf\n",
      "- candidato3.pdf\n",
      "- candidato5.pdf\n"
     ]
    }
   ],
   "source": [
    "curriculos_filtrados = []\n",
    "\n",
    "for nome_arquivo in os.listdir(pasta_curriculos):\n",
    "    if nome_arquivo.endswith(\".pdf\"):\n",
    "        caminho_completo = os.path.join(pasta_curriculos, nome_arquivo)\n",
    "        doc = fitz.open(caminho_completo)\n",
    "        texto = \"\"\n",
    "        \n",
    "        for pagina in doc:\n",
    "            texto += pagina.get_text()\n",
    "        \n",
    "        if any(palavra in texto for palavra in palavras_chave):\n",
    "            curriculos_filtrados.append(nome_arquivo)\n",
    "\n",
    "# Resultado\n",
    "print(\"Currículos que mencionam PUC-Rio ou equivalente:\")\n",
    "for nome in curriculos_filtrados:\n",
    "    print(\"-\", nome)\n"
   ]
  },
  {
   "cell_type": "markdown",
   "id": "3e581e95-7780-42c5-9c79-156a5c42ebba",
   "metadata": {},
   "source": [
    "### Ultimo passo - salvar nomes candidatos num arquivo excel\n"
   ]
  },
  {
   "cell_type": "code",
   "execution_count": 18,
   "id": "9e3d564e-bf93-48c2-b3cd-1584f401a6cd",
   "metadata": {},
   "outputs": [
    {
     "name": "stdout",
     "output_type": "stream",
     "text": [
      "📄 Arquivo salvo como curriculos_filtrados.xlsx\n"
     ]
    }
   ],
   "source": [
    "import pandas as pd\n",
    "\n",
    "df = pd.DataFrame(curriculos_filtrados, columns=[\"Currículos aprovados\"])\n",
    "df.to_excel(\"curriculos_filtrados.xlsx\", index=False)\n",
    "print(\"📄 Arquivo salvo como curriculos_filtrados.xlsx\")\n"
   ]
  }
 ],
 "metadata": {
  "kernelspec": {
   "display_name": "Python 3",
   "language": "python",
   "name": "python3"
  },
  "language_info": {
   "codemirror_mode": {
    "name": "ipython",
    "version": 3
   },
   "file_extension": ".py",
   "mimetype": "text/x-python",
   "name": "python",
   "nbconvert_exporter": "python",
   "pygments_lexer": "ipython3",
   "version": "3.13.0"
  }
 },
 "nbformat": 4,
 "nbformat_minor": 5
}
