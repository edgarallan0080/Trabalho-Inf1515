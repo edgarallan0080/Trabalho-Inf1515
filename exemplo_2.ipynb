{
 "cells": [
  {
   "cell_type": "markdown",
   "id": "09245419",
   "metadata": {},
   "source": [
    "# Exemplo 2\n",
    "\n",
    "Explicando Exemplo 2"
   ]
  },
  {
   "cell_type": "code",
   "execution_count": 1,
   "id": "0f03c868",
   "metadata": {},
   "outputs": [
    {
     "name": "stdout",
     "output_type": "stream",
     "text": [
      "Codigo do Exemplo 2\n"
     ]
    }
   ],
   "source": [
    "print(\"Codigo do Exemplo 2\")"
   ]
  }
 ],
 "metadata": {
  "kernelspec": {
   "display_name": "Python 3",
   "language": "python",
   "name": "python3"
  },
  "language_info": {
   "codemirror_mode": {
    "name": "ipython",
    "version": 3
   },
   "file_extension": ".py",
   "mimetype": "text/x-python",
   "name": "python",
   "nbconvert_exporter": "python",
   "pygments_lexer": "ipython3",
   "version": "3.13.0"
  }
 },
 "nbformat": 4,
 "nbformat_minor": 5
}
