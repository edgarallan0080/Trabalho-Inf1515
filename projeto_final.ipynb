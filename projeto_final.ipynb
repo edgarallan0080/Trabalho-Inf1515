{
 "cells": [
  {
   "cell_type": "markdown",
   "id": "afbc1f45-0bfc-4b9b-bea8-cb68cf7393d8",
   "metadata": {},
   "source": [
    "#  Coleta Automática de Preços de Ações com Python\n",
    "\n",
    "Este notebook coleta automaticamente os preços de ações da B3 utilizando o Yahoo Finance e armazena os dados em um arquivo CSV. O processo é contínuo e ocorre a cada 15 minutos, permitindo a construção de um histórico de preços ao longo do dia.\n",
    "\n",
    "---\n",
    "\n",
    "## Objetivo:\n",
    "\n",
    "- Buscar os preços das ações (ex: PETR4.SA, VALE3.SA)\n",
    "- Armazenar os dados com horário da coleta\n",
    "- Repetir esse processo a cada 15 minutos automaticamente"
   ]
  },
  {
   "cell_type": "markdown",
   "id": "da51c372-fc23-4d17-b968-4da3d82fca5b",
   "metadata": {},
   "source": [
    "## Etapa 1 – Bibliotecas utilizadas\n",
    "\n",
    "| Biblioteca      | Função                                                                 |\n",
    "|----------------|------------------------------------------------------------------------|\n",
    "| `yfinance`      | Buscar preços das ações diretamente do Yahoo Finance                   |\n",
    "| `pandas`        | Organizar os dados em tabelas e salvar em CSV                          |\n",
    "| `schedule`      | Agendar tarefas automáticas de coleta a cada X minutos                 |\n",
    "| `datetime`      | Gerar data e hora da coleta                                            |\n",
    "| `time`          | Controlar o tempo de espera entre coletas                              |\n",
    "| `os`            | Verificar se o arquivo já existe para atualizar sem sobrescrever       |"
   ]
  },
  {
   "cell_type": "code",
   "execution_count": null,
   "id": "48a72a18-267d-4426-b0cd-85d2147f800a",
   "metadata": {},
   "outputs": [],
   "source": [
    "!pip install schedule --quiet"
   ]
  },
  {
   "cell_type": "code",
   "execution_count": null,
   "id": "47c648a0-0d63-4f86-be32-d563c5779bcc",
   "metadata": {},
   "outputs": [],
   "source": [
    "# Instale o yfinance caso ainda não tenha\n",
    "!pip install yfinance --quiet\n",
    "\n",
    "import yfinance as yf\n",
    "import pandas as pd\n",
    "import time\n",
    "import schedule\n",
    "import os\n",
    "from datetime import datetime\n"
   ]
  },
  {
   "cell_type": "markdown",
   "id": "402ded95-5765-46c5-b0b5-1f0039ef9aad",
   "metadata": {},
   "source": [
    "## Etapa 2 – Configuração inicial\n",
    "\n",
    "Definimos:\n",
    "- Quais ações vamos monitorar\n",
    "- O nome do arquivo onde os dados serão armazenados\n"
   ]
  },
  {
   "cell_type": "code",
   "execution_count": null,
   "id": "b5d7a43f-9ba0-481d-b672-25f4b506415f",
   "metadata": {},
   "outputs": [],
   "source": [
    "acoes = ['PETR4.SA', 'VALE3.SA', 'ITUB4.SA']  # Ações que queremos monitorar\n",
    "arquivo_saida = 'dados_acoes.csv'            # Nome do arquivo que guardará os dados"
   ]
  },
  {
   "cell_type": "markdown",
   "id": "4667616b-94af-4982-9d39-ce485ac2f75b",
   "metadata": {},
   "source": [
    "## Etapa 3 – Função de coleta de dados\n",
    "\n",
    "Essa função:\n",
    "- Coleta o preço mais recente de cada ação\n",
    "- Registra o horário da coleta\n",
    "- Salva ou atualiza o arquivo `dados_acoes.csv`\n"
   ]
  },
  {
   "cell_type": "code",
   "execution_count": 15,
   "id": "60cd0493-3e0d-4291-95ce-ae3ac3024558",
   "metadata": {},
   "outputs": [],
   "source": [
    "def coletar_dados():\n",
    "    agora = datetime.now().strftime(\"%Y-%m-%d %H:%M:%S\")\n",
    "    dados = []\n",
    "\n",
    "    for acao in acoes:\n",
    "        info = yf.Ticker(acao).history(period='1d', interval='1m')\n",
    "        if not info.empty:\n",
    "            preco_atual = info['Close'].iloc[-1]\n",
    "            dados.append({'timestamp': agora, 'acao': acao, 'preco': preco_atual})\n",
    "\n",
    "    df_novo = pd.DataFrame(dados)\n",
    "\n",
    "    if os.path.exists(arquivo_saida):\n",
    "        df_existente = pd.read_csv(arquivo_saida)\n",
    "        df_total = pd.concat([df_existente, df_novo], ignore_index=True)\n",
    "    else:\n",
    "        df_total = df_novo\n",
    "\n",
    "    df_total.to_csv(arquivo_saida, index=False)\n",
    "    print(f\"[{agora}] Dados coletados e salvos.\")\n"
   ]
  },
  {
   "cell_type": "markdown",
   "id": "9fec3e0d-7f3a-497f-bba5-d747ffad1672",
   "metadata": {},
   "source": [
    "## Etapa 4 – Agendamento da coleta\n",
    "\n",
    "Vamos configurar para coletar dados a cada 15 minutos automaticamente."
   ]
  },
  {
   "cell_type": "code",
   "execution_count": 16,
   "id": "c256ebff-b176-4d16-8bb5-794bf5654735",
   "metadata": {},
   "outputs": [
    {
     "name": "stdout",
     "output_type": "stream",
     "text": [
      "⏳ Iniciando o monitoramento. Pressione STOP para encerrar a execução.\n",
      "[2025-06-08 15:19:06] Dados coletados e salvos.\n",
      "[2025-06-08 15:20:07] Dados coletados e salvos.\n",
      "[2025-06-08 15:21:08] Dados coletados e salvos.\n"
     ]
    },
    {
     "ename": "KeyboardInterrupt",
     "evalue": "",
     "output_type": "error",
     "traceback": [
      "\u001b[31m---------------------------------------------------------------------------\u001b[39m",
      "\u001b[31mKeyboardInterrupt\u001b[39m                         Traceback (most recent call last)",
      "\u001b[36mCell\u001b[39m\u001b[36m \u001b[39m\u001b[32mIn[16]\u001b[39m\u001b[32m, line 7\u001b[39m\n\u001b[32m      5\u001b[39m \u001b[38;5;28;01mwhile\u001b[39;00m \u001b[38;5;28;01mTrue\u001b[39;00m:\n\u001b[32m      6\u001b[39m     schedule.run_pending()\n\u001b[32m----> \u001b[39m\u001b[32m7\u001b[39m     \u001b[43mtime\u001b[49m\u001b[43m.\u001b[49m\u001b[43msleep\u001b[49m\u001b[43m(\u001b[49m\u001b[32;43m60\u001b[39;49m\u001b[43m)\u001b[49m\n",
      "\u001b[31mKeyboardInterrupt\u001b[39m: "
     ]
    }
   ],
   "source": [
    "schedule.every(15).minutes.do(coletar_dados)\n",
    "\n",
    "print(\"⏳ Iniciando o monitoramento. Pressione STOP para encerrar a execução.\")\n",
    "\n",
    "while True:\n",
    "    schedule.run_pending()\n",
    "    time.sleep(60)"
   ]
  },
  {
   "cell_type": "code",
   "execution_count": 17,
   "id": "a1beccca-2f3f-4643-bf7b-7b4015e75055",
   "metadata": {
    "scrolled": true
   },
   "outputs": [
    {
     "data": {
      "text/html": [
       "<div>\n",
       "<style scoped>\n",
       "    .dataframe tbody tr th:only-of-type {\n",
       "        vertical-align: middle;\n",
       "    }\n",
       "\n",
       "    .dataframe tbody tr th {\n",
       "        vertical-align: top;\n",
       "    }\n",
       "\n",
       "    .dataframe thead th {\n",
       "        text-align: right;\n",
       "    }\n",
       "</style>\n",
       "<table border=\"1\" class=\"dataframe\">\n",
       "  <thead>\n",
       "    <tr style=\"text-align: right;\">\n",
       "      <th></th>\n",
       "      <th>timestamp</th>\n",
       "      <th>acao</th>\n",
       "      <th>preco</th>\n",
       "    </tr>\n",
       "  </thead>\n",
       "  <tbody>\n",
       "    <tr>\n",
       "      <th>0</th>\n",
       "      <td>2025-06-08 15:11:16</td>\n",
       "      <td>PETR4.SA</td>\n",
       "      <td>29.690001</td>\n",
       "    </tr>\n",
       "    <tr>\n",
       "      <th>1</th>\n",
       "      <td>2025-06-08 15:11:16</td>\n",
       "      <td>VALE3.SA</td>\n",
       "      <td>52.930000</td>\n",
       "    </tr>\n",
       "    <tr>\n",
       "      <th>2</th>\n",
       "      <td>2025-06-08 15:11:16</td>\n",
       "      <td>ITUB4.SA</td>\n",
       "      <td>36.520000</td>\n",
       "    </tr>\n",
       "    <tr>\n",
       "      <th>3</th>\n",
       "      <td>2025-06-08 15:12:39</td>\n",
       "      <td>PETR4.SA</td>\n",
       "      <td>29.690001</td>\n",
       "    </tr>\n",
       "    <tr>\n",
       "      <th>4</th>\n",
       "      <td>2025-06-08 15:12:39</td>\n",
       "      <td>VALE3.SA</td>\n",
       "      <td>52.930000</td>\n",
       "    </tr>\n",
       "    <tr>\n",
       "      <th>5</th>\n",
       "      <td>2025-06-08 15:12:39</td>\n",
       "      <td>ITUB4.SA</td>\n",
       "      <td>36.520000</td>\n",
       "    </tr>\n",
       "    <tr>\n",
       "      <th>6</th>\n",
       "      <td>2025-06-08 15:19:06</td>\n",
       "      <td>PETR4.SA</td>\n",
       "      <td>29.690001</td>\n",
       "    </tr>\n",
       "    <tr>\n",
       "      <th>7</th>\n",
       "      <td>2025-06-08 15:19:06</td>\n",
       "      <td>VALE3.SA</td>\n",
       "      <td>52.930000</td>\n",
       "    </tr>\n",
       "    <tr>\n",
       "      <th>8</th>\n",
       "      <td>2025-06-08 15:19:06</td>\n",
       "      <td>ITUB4.SA</td>\n",
       "      <td>36.520000</td>\n",
       "    </tr>\n",
       "    <tr>\n",
       "      <th>9</th>\n",
       "      <td>2025-06-08 15:20:07</td>\n",
       "      <td>PETR4.SA</td>\n",
       "      <td>29.690001</td>\n",
       "    </tr>\n",
       "    <tr>\n",
       "      <th>10</th>\n",
       "      <td>2025-06-08 15:20:07</td>\n",
       "      <td>VALE3.SA</td>\n",
       "      <td>52.930000</td>\n",
       "    </tr>\n",
       "    <tr>\n",
       "      <th>11</th>\n",
       "      <td>2025-06-08 15:20:07</td>\n",
       "      <td>ITUB4.SA</td>\n",
       "      <td>36.520000</td>\n",
       "    </tr>\n",
       "    <tr>\n",
       "      <th>12</th>\n",
       "      <td>2025-06-08 15:21:08</td>\n",
       "      <td>PETR4.SA</td>\n",
       "      <td>29.690001</td>\n",
       "    </tr>\n",
       "    <tr>\n",
       "      <th>13</th>\n",
       "      <td>2025-06-08 15:21:08</td>\n",
       "      <td>VALE3.SA</td>\n",
       "      <td>52.930000</td>\n",
       "    </tr>\n",
       "    <tr>\n",
       "      <th>14</th>\n",
       "      <td>2025-06-08 15:21:08</td>\n",
       "      <td>ITUB4.SA</td>\n",
       "      <td>36.520000</td>\n",
       "    </tr>\n",
       "  </tbody>\n",
       "</table>\n",
       "</div>"
      ],
      "text/plain": [
       "              timestamp      acao      preco\n",
       "0   2025-06-08 15:11:16  PETR4.SA  29.690001\n",
       "1   2025-06-08 15:11:16  VALE3.SA  52.930000\n",
       "2   2025-06-08 15:11:16  ITUB4.SA  36.520000\n",
       "3   2025-06-08 15:12:39  PETR4.SA  29.690001\n",
       "4   2025-06-08 15:12:39  VALE3.SA  52.930000\n",
       "5   2025-06-08 15:12:39  ITUB4.SA  36.520000\n",
       "6   2025-06-08 15:19:06  PETR4.SA  29.690001\n",
       "7   2025-06-08 15:19:06  VALE3.SA  52.930000\n",
       "8   2025-06-08 15:19:06  ITUB4.SA  36.520000\n",
       "9   2025-06-08 15:20:07  PETR4.SA  29.690001\n",
       "10  2025-06-08 15:20:07  VALE3.SA  52.930000\n",
       "11  2025-06-08 15:20:07  ITUB4.SA  36.520000\n",
       "12  2025-06-08 15:21:08  PETR4.SA  29.690001\n",
       "13  2025-06-08 15:21:08  VALE3.SA  52.930000\n",
       "14  2025-06-08 15:21:08  ITUB4.SA  36.520000"
      ]
     },
     "execution_count": 17,
     "metadata": {},
     "output_type": "execute_result"
    }
   ],
   "source": [
    "pd.read_csv('dados_acoes.csv')"
   ]
  },
  {
   "cell_type": "markdown",
   "id": "179bc5f2",
   "metadata": {},
   "source": [
    "## Cookie Clicker Exemplo\n",
    "\n",
    "Neste exemplo, eu tentei criar um programa que automatizava a produção de cookies do jogo Cookie Cliekers todavia, enfrentei problemas constantes de CAPTCHA (Completely Automated Public Turing test to tell Computers and Humans Apart)"
   ]
  },
  {
   "cell_type": "code",
   "execution_count": 12,
   "id": "3b0895c0",
   "metadata": {},
   "outputs": [],
   "source": [
    "from selenium import webdriver\n",
    "from selenium.webdriver.chrome.service import Service\n",
    "from selenium.webdriver.common.by import By\n",
    "from selenium.webdriver.common.keys import Keys\n",
    "from selenium.webdriver.support.ui import WebDriverWait\n",
    "from selenium.webdriver.support import expected_conditions as EC\n",
    "from selenium.webdriver.chrome.options import Options\n",
    "import time\n",
    "import random\n",
    "\n",
    "# Configurações para \"disfarçar\" o Selenium\n",
    "chrome_options = Options()\n",
    "chrome_options.add_argument(\"--disable-blink-features=AutomationControlled\")\n",
    "chrome_options.add_argument(\"--disable-infobars\")\n",
    "chrome_options.add_argument(\"--disable-extensions\")\n",
    "chrome_options.add_argument(\"--profile-directory=Default\")\n",
    "chrome_options.add_argument(\"--start-maximized\")\n",
    "chrome_options.add_argument(\"--incognito\")\n",
    "\n",
    "# Finge que é um navegador comum\n",
    "chrome_options.add_argument(\"user-agent=Mozilla/5.0 (Windows NT 10.0; Win64; x64) AppleWebKit/537.36 (KHTML, like Gecko) Chrome/114.0.0.0 Safari/537.36\")\n",
    "\n",
    "# Caminho do ChromeDriver\n",
    "service = Service(executable_path=\"chromedriver.exe\")\n",
    "driver = webdriver.Chrome(service=service, options=chrome_options)\n",
    "\n",
    "# Acessa o Google\n",
    "driver.get(\"https://www.google.com\")\n",
    "\n",
    "# Espera a barra de busca aparecer\n",
    "WebDriverWait(driver, 10).until(\n",
    "    EC.presence_of_element_located((By.NAME, \"q\"))\n",
    ")\n",
    "\n",
    "# Digita \"tech with tim\" e pressiona ENTER\n",
    "search_input = driver.find_element(By.NAME, \"q\")\n",
    "search_input.clear()\n",
    "search_input.send_keys(\"Pesquisa Automatizada\" + Keys.ENTER)\n",
    "\n",
    "# Espera o carregamento da página de resultados\n",
    "time.sleep(random.uniform(3, 5))\n",
    "\n",
    "# Fecha o navegador\n",
    "driver.quit()\n"
   ]
  },
  {
   "cell_type": "markdown",
   "id": "b21da685",
   "metadata": {},
   "source": [
    "## Sobre o Código:\n",
    "\n",
    "O `webdriver` é o componente do Selenium que permite controlar o navegador de forma programada. No nosso código, ele está sendo utilizado para abrir o Google Chrome, acessar o site google.com, digitar uma busca automaticamente e simular o comportamento de um usuário humano. Ele faz isso a partir da linha `driver = webdriver.Chrome(...)`, onde o navegador é iniciado com uma série de opções definidas anteriormente.\n",
    "\n",
    "Essas opções são a chave para burlar o CAPTCHA do Google. Usamos argumentos como `--disable-blink-features=AutomationControlled` e um `user-agent` realista para evitar que o navegador revele que está sendo controlado por um script. Também abrimos o navegador em modo anônimo para simular melhor o comportamento humano. Com esses ajustes, conseguimos enganar os mecanismos de detecção automática do Google, que normalmente ativariam um CAPTCHA ao perceberem que a navegação está sendo feita por um robô.\n",
    "\n",
    "Ao fim, o código simula o ato de pesquisar no Google por “Pesquisa Automatizada” e espera alguns segundos antes de encerrar o navegador. O segredo para evitar o CAPTCHA foi justamente \"camuflar\" a automação com configurações que fazem o navegador parecer legítimo e humano.\n",
    "\n",
    "![Pesquisa_Automatizada](pesquisa_auto.png)\n"
   ]
  },
  {
   "cell_type": "code",
   "execution_count": 11,
   "id": "dea55295",
   "metadata": {},
   "outputs": [
    {
     "ename": "InvalidSessionIdException",
     "evalue": "Message: invalid session id: session deleted as the browser has closed the connection\nfrom disconnected: not connected to DevTools\n  (Session info: chrome=137.0.7151.69)\nStacktrace:\n\tGetHandleVerifier [0x0x7ff7d550fea5+79173]\n\tGetHandleVerifier [0x0x7ff7d550ff00+79264]\n\t(No symbol) [0x0x7ff7d52c9e5a]\n\t(No symbol) [0x0x7ff7d52b5c25]\n\t(No symbol) [0x0x7ff7d52dac44]\n\t(No symbol) [0x0x7ff7d53503c5]\n\t(No symbol) [0x0x7ff7d5370922]\n\t(No symbol) [0x0x7ff7d5348743]\n\t(No symbol) [0x0x7ff7d53114c1]\n\t(No symbol) [0x0x7ff7d5312253]\n\tGetHandleVerifier [0x0x7ff7d57da2dd+3004797]\n\tGetHandleVerifier [0x0x7ff7d57d472d+2981325]\n\tGetHandleVerifier [0x0x7ff7d57f3380+3107360]\n\tGetHandleVerifier [0x0x7ff7d552aa2e+188622]\n\tGetHandleVerifier [0x0x7ff7d55322bf+219487]\n\tGetHandleVerifier [0x0x7ff7d5518df4+115860]\n\tGetHandleVerifier [0x0x7ff7d5518fa9+116297]\n\tGetHandleVerifier [0x0x7ff7d54ff558+11256]\n\tBaseThreadInitThunk [0x0x7ffda1ffe8d7+23]\n\tRtlUserThreadStart [0x0x7ffda397c34c+44]\n",
     "output_type": "error",
     "traceback": [
      "\u001b[1;31m---------------------------------------------------------------------------\u001b[0m",
      "\u001b[1;31mInvalidSessionIdException\u001b[0m                 Traceback (most recent call last)",
      "Cell \u001b[1;32mIn[11], line 52\u001b[0m\n\u001b[0;32m     49\u001b[0m driver\u001b[38;5;241m.\u001b[39mfind_element(By\u001b[38;5;241m.\u001b[39mXPATH, \u001b[38;5;124m\"\u001b[39m\u001b[38;5;124m//*[contains(text(), \u001b[39m\u001b[38;5;124m'\u001b[39m\u001b[38;5;124mEnglish\u001b[39m\u001b[38;5;124m'\u001b[39m\u001b[38;5;124m)]\u001b[39m\u001b[38;5;124m\"\u001b[39m)\u001b[38;5;241m.\u001b[39mclick()\n\u001b[0;32m     51\u001b[0m \u001b[38;5;66;03m# === Aguarda o cookie aparecer e interage ===\u001b[39;00m\n\u001b[1;32m---> 52\u001b[0m \u001b[43mWebDriverWait\u001b[49m\u001b[43m(\u001b[49m\u001b[43mdriver\u001b[49m\u001b[43m,\u001b[49m\u001b[43m \u001b[49m\u001b[38;5;241;43m15\u001b[39;49m\u001b[43m)\u001b[49m\u001b[38;5;241;43m.\u001b[39;49m\u001b[43muntil\u001b[49m\u001b[43m(\u001b[49m\n\u001b[0;32m     53\u001b[0m \u001b[43m    \u001b[49m\u001b[43mEC\u001b[49m\u001b[38;5;241;43m.\u001b[39;49m\u001b[43mpresence_of_element_located\u001b[49m\u001b[43m(\u001b[49m\u001b[43m(\u001b[49m\u001b[43mBy\u001b[49m\u001b[38;5;241;43m.\u001b[39;49m\u001b[43mID\u001b[49m\u001b[43m,\u001b[49m\u001b[43m \u001b[49m\u001b[38;5;124;43m\"\u001b[39;49m\u001b[38;5;124;43mbigCookie\u001b[39;49m\u001b[38;5;124;43m\"\u001b[39;49m\u001b[43m)\u001b[49m\u001b[43m)\u001b[49m\n\u001b[0;32m     54\u001b[0m \u001b[43m)\u001b[49m\n\u001b[0;32m     55\u001b[0m cookie \u001b[38;5;241m=\u001b[39m driver\u001b[38;5;241m.\u001b[39mfind_element(By\u001b[38;5;241m.\u001b[39mID, \u001b[38;5;124m\"\u001b[39m\u001b[38;5;124mbigCookie\u001b[39m\u001b[38;5;124m\"\u001b[39m)\n\u001b[0;32m     57\u001b[0m \u001b[38;5;66;03m# === Loop de cliques com compra automática básica ===\u001b[39;00m\n",
      "File \u001b[1;32mc:\\Users\\edgar\\AppData\\Local\\Programs\\Python\\Python313\\Lib\\site-packages\\selenium\\webdriver\\support\\wait.py:96\u001b[0m, in \u001b[0;36mWebDriverWait.until\u001b[1;34m(self, method, message)\u001b[0m\n\u001b[0;32m     94\u001b[0m \u001b[38;5;28;01mwhile\u001b[39;00m \u001b[38;5;28;01mTrue\u001b[39;00m:\n\u001b[0;32m     95\u001b[0m     \u001b[38;5;28;01mtry\u001b[39;00m:\n\u001b[1;32m---> 96\u001b[0m         value \u001b[38;5;241m=\u001b[39m \u001b[43mmethod\u001b[49m\u001b[43m(\u001b[49m\u001b[38;5;28;43mself\u001b[39;49m\u001b[38;5;241;43m.\u001b[39;49m\u001b[43m_driver\u001b[49m\u001b[43m)\u001b[49m\n\u001b[0;32m     97\u001b[0m         \u001b[38;5;28;01mif\u001b[39;00m value:\n\u001b[0;32m     98\u001b[0m             \u001b[38;5;28;01mreturn\u001b[39;00m value\n",
      "File \u001b[1;32mc:\\Users\\edgar\\AppData\\Local\\Programs\\Python\\Python313\\Lib\\site-packages\\selenium\\webdriver\\support\\expected_conditions.py:84\u001b[0m, in \u001b[0;36mpresence_of_element_located.<locals>._predicate\u001b[1;34m(driver)\u001b[0m\n\u001b[0;32m     83\u001b[0m \u001b[38;5;28;01mdef\u001b[39;00m \u001b[38;5;21m_predicate\u001b[39m(driver: WebDriverOrWebElement):\n\u001b[1;32m---> 84\u001b[0m     \u001b[38;5;28;01mreturn\u001b[39;00m \u001b[43mdriver\u001b[49m\u001b[38;5;241;43m.\u001b[39;49m\u001b[43mfind_element\u001b[49m\u001b[43m(\u001b[49m\u001b[38;5;241;43m*\u001b[39;49m\u001b[43mlocator\u001b[49m\u001b[43m)\u001b[49m\n",
      "File \u001b[1;32mc:\\Users\\edgar\\AppData\\Local\\Programs\\Python\\Python313\\Lib\\site-packages\\selenium\\webdriver\\remote\\webdriver.py:748\u001b[0m, in \u001b[0;36mWebDriver.find_element\u001b[1;34m(self, by, value)\u001b[0m\n\u001b[0;32m    745\u001b[0m     by \u001b[38;5;241m=\u001b[39m By\u001b[38;5;241m.\u001b[39mCSS_SELECTOR\n\u001b[0;32m    746\u001b[0m     value \u001b[38;5;241m=\u001b[39m \u001b[38;5;124mf\u001b[39m\u001b[38;5;124m'\u001b[39m\u001b[38;5;124m[name=\u001b[39m\u001b[38;5;124m\"\u001b[39m\u001b[38;5;132;01m{\u001b[39;00mvalue\u001b[38;5;132;01m}\u001b[39;00m\u001b[38;5;124m\"\u001b[39m\u001b[38;5;124m]\u001b[39m\u001b[38;5;124m'\u001b[39m\n\u001b[1;32m--> 748\u001b[0m \u001b[38;5;28;01mreturn\u001b[39;00m \u001b[38;5;28;43mself\u001b[39;49m\u001b[38;5;241;43m.\u001b[39;49m\u001b[43mexecute\u001b[49m\u001b[43m(\u001b[49m\u001b[43mCommand\u001b[49m\u001b[38;5;241;43m.\u001b[39;49m\u001b[43mFIND_ELEMENT\u001b[49m\u001b[43m,\u001b[49m\u001b[43m \u001b[49m\u001b[43m{\u001b[49m\u001b[38;5;124;43m\"\u001b[39;49m\u001b[38;5;124;43musing\u001b[39;49m\u001b[38;5;124;43m\"\u001b[39;49m\u001b[43m:\u001b[49m\u001b[43m \u001b[49m\u001b[43mby\u001b[49m\u001b[43m,\u001b[49m\u001b[43m \u001b[49m\u001b[38;5;124;43m\"\u001b[39;49m\u001b[38;5;124;43mvalue\u001b[39;49m\u001b[38;5;124;43m\"\u001b[39;49m\u001b[43m:\u001b[49m\u001b[43m \u001b[49m\u001b[43mvalue\u001b[49m\u001b[43m}\u001b[49m\u001b[43m)\u001b[49m[\u001b[38;5;124m\"\u001b[39m\u001b[38;5;124mvalue\u001b[39m\u001b[38;5;124m\"\u001b[39m]\n",
      "File \u001b[1;32mc:\\Users\\edgar\\AppData\\Local\\Programs\\Python\\Python313\\Lib\\site-packages\\selenium\\webdriver\\remote\\webdriver.py:354\u001b[0m, in \u001b[0;36mWebDriver.execute\u001b[1;34m(self, driver_command, params)\u001b[0m\n\u001b[0;32m    352\u001b[0m response \u001b[38;5;241m=\u001b[39m \u001b[38;5;28mself\u001b[39m\u001b[38;5;241m.\u001b[39mcommand_executor\u001b[38;5;241m.\u001b[39mexecute(driver_command, params)\n\u001b[0;32m    353\u001b[0m \u001b[38;5;28;01mif\u001b[39;00m response:\n\u001b[1;32m--> 354\u001b[0m     \u001b[38;5;28;43mself\u001b[39;49m\u001b[38;5;241;43m.\u001b[39;49m\u001b[43merror_handler\u001b[49m\u001b[38;5;241;43m.\u001b[39;49m\u001b[43mcheck_response\u001b[49m\u001b[43m(\u001b[49m\u001b[43mresponse\u001b[49m\u001b[43m)\u001b[49m\n\u001b[0;32m    355\u001b[0m     response[\u001b[38;5;124m\"\u001b[39m\u001b[38;5;124mvalue\u001b[39m\u001b[38;5;124m\"\u001b[39m] \u001b[38;5;241m=\u001b[39m \u001b[38;5;28mself\u001b[39m\u001b[38;5;241m.\u001b[39m_unwrap_value(response\u001b[38;5;241m.\u001b[39mget(\u001b[38;5;124m\"\u001b[39m\u001b[38;5;124mvalue\u001b[39m\u001b[38;5;124m\"\u001b[39m, \u001b[38;5;28;01mNone\u001b[39;00m))\n\u001b[0;32m    356\u001b[0m     \u001b[38;5;28;01mreturn\u001b[39;00m response\n",
      "File \u001b[1;32mc:\\Users\\edgar\\AppData\\Local\\Programs\\Python\\Python313\\Lib\\site-packages\\selenium\\webdriver\\remote\\errorhandler.py:229\u001b[0m, in \u001b[0;36mErrorHandler.check_response\u001b[1;34m(self, response)\u001b[0m\n\u001b[0;32m    227\u001b[0m         alert_text \u001b[38;5;241m=\u001b[39m value[\u001b[38;5;124m\"\u001b[39m\u001b[38;5;124malert\u001b[39m\u001b[38;5;124m\"\u001b[39m]\u001b[38;5;241m.\u001b[39mget(\u001b[38;5;124m\"\u001b[39m\u001b[38;5;124mtext\u001b[39m\u001b[38;5;124m\"\u001b[39m)\n\u001b[0;32m    228\u001b[0m     \u001b[38;5;28;01mraise\u001b[39;00m exception_class(message, screen, stacktrace, alert_text)  \u001b[38;5;66;03m# type: ignore[call-arg]  # mypy is not smart enough here\u001b[39;00m\n\u001b[1;32m--> 229\u001b[0m \u001b[38;5;28;01mraise\u001b[39;00m exception_class(message, screen, stacktrace)\n",
      "\u001b[1;31mInvalidSessionIdException\u001b[0m: Message: invalid session id: session deleted as the browser has closed the connection\nfrom disconnected: not connected to DevTools\n  (Session info: chrome=137.0.7151.69)\nStacktrace:\n\tGetHandleVerifier [0x0x7ff7d550fea5+79173]\n\tGetHandleVerifier [0x0x7ff7d550ff00+79264]\n\t(No symbol) [0x0x7ff7d52c9e5a]\n\t(No symbol) [0x0x7ff7d52b5c25]\n\t(No symbol) [0x0x7ff7d52dac44]\n\t(No symbol) [0x0x7ff7d53503c5]\n\t(No symbol) [0x0x7ff7d5370922]\n\t(No symbol) [0x0x7ff7d5348743]\n\t(No symbol) [0x0x7ff7d53114c1]\n\t(No symbol) [0x0x7ff7d5312253]\n\tGetHandleVerifier [0x0x7ff7d57da2dd+3004797]\n\tGetHandleVerifier [0x0x7ff7d57d472d+2981325]\n\tGetHandleVerifier [0x0x7ff7d57f3380+3107360]\n\tGetHandleVerifier [0x0x7ff7d552aa2e+188622]\n\tGetHandleVerifier [0x0x7ff7d55322bf+219487]\n\tGetHandleVerifier [0x0x7ff7d5518df4+115860]\n\tGetHandleVerifier [0x0x7ff7d5518fa9+116297]\n\tGetHandleVerifier [0x0x7ff7d54ff558+11256]\n\tBaseThreadInitThunk [0x0x7ffda1ffe8d7+23]\n\tRtlUserThreadStart [0x0x7ffda397c34c+44]\n"
     ]
    }
   ],
   "source": [
    "from selenium import webdriver\n",
    "from selenium.webdriver.chrome.service import Service\n",
    "from selenium.webdriver.common.by import By\n",
    "from selenium.webdriver.chrome.options import Options\n",
    "from selenium.webdriver.support.ui import WebDriverWait\n",
    "from selenium.webdriver.support import expected_conditions as EC\n",
    "import time\n",
    "\n",
    "# === User-Agent que você copiou do seu navegador ===\n",
    "USER_AGENT = \"Mozilla/5.0 (Windows NT 10.0; Win64; x64) AppleWebKit/537.36 (KHTML, like Gecko) Chrome/114.0.0.0 Safari/537.36\"\n",
    "\n",
    "# === Cookie cf_clearance ===\n",
    "COOKIES = [\n",
    "    {\n",
    "        \"name\": \"cf_clearance\",\n",
    "        \"value\": \"cbiV8HjN2qWQbySx3w3itHOslkOS7ga4Feh_Y.YDF2c-1749405576-1.2.1.1-qL0k6H1C5xr9.la33PwXMsYbCseBFOxvDKeWOUM7Gen0SUL5c19GW5Y0hUwwMxUCHKB_UzfZvy4.DowfxcgsSQeh3jmv9jKuAmXhcXl2JMyqYFTJlt7WLFObPlwEdkULvG5C9qGXUdVLTDjvujJuDljjPuq_k6YpraJ4rFxgWzBs_T7FW4Ri70TqwPtIoVr0po0Sf.5z7h5BiIHfcpH0U3aHSjErBDNSPFN3INRM8R70ljwbucLj5tDK5GMqO5CfYdpjV3M9zVF3BiN0U1KBRr8fg4BrIMS1AP2vu562aUELP7DhrreJm8.p_DJiAOGXXb7.aK2OLSVkK7oGXZhtMAFV8fZX6oSZnrKN00trrCY\",\n",
    "        \"domain\": \".dashnet.org\",\n",
    "        \"path\": \"/\",\n",
    "        \"secure\": True,\n",
    "        \"httpOnly\": True\n",
    "    }\n",
    "]\n",
    "\n",
    "# === Configurações do navegador ===\n",
    "chrome_options = Options()\n",
    "chrome_options.add_argument(f\"user-agent={USER_AGENT}\")\n",
    "chrome_options.add_argument(\"--disable-blink-features=AutomationControlled\")\n",
    "chrome_options.add_argument(\"--incognito\")\n",
    "chrome_options.add_argument(\"--start-maximized\")\n",
    "\n",
    "# === Inicializa o Chrome ===\n",
    "service = Service(executable_path=\"chromedriver.exe\")\n",
    "driver = webdriver.Chrome(service=service, options=chrome_options)\n",
    "\n",
    "# === Primeiro acesso ao domínio (obrigatório para setar cookies) ===\n",
    "driver.get(\"https://orteil.dashnet.org\")\n",
    "\n",
    "# === Adiciona o cookie manualmente ===\n",
    "for cookie in COOKIES:\n",
    "    driver.add_cookie(cookie)\n",
    "\n",
    "# === Agora acessa o jogo com a sessão autenticada ===\n",
    "driver.get(\"https://orteil.dashnet.org/cookieclicker\")\n",
    "\n",
    "# === Aguarda o botão de idioma aparecer e clica ===\n",
    "WebDriverWait(driver, 15).until(\n",
    "    EC.presence_of_element_located((By.XPATH, \"//*[contains(text(), 'English')]\"))\n",
    ")\n",
    "driver.find_element(By.XPATH, \"//*[contains(text(), 'English')]\").click()\n",
    "\n",
    "# === Aguarda o cookie aparecer e interage ===\n",
    "WebDriverWait(driver, 15).until(\n",
    "    EC.presence_of_element_located((By.ID, \"bigCookie\"))\n",
    ")\n",
    "cookie = driver.find_element(By.ID, \"bigCookie\")\n",
    "\n",
    "# === Loop de cliques com compra automática básica ===\n",
    "product_price_prefix = \"productPrice\"\n",
    "product_prefix = \"product\"\n",
    "\n",
    "while True:\n",
    "    cookie.click()\n",
    "    time.sleep(0.01)\n",
    "\n",
    "    cookies_count = driver.find_element(By.ID, \"cookies\").text.split(\" \")[0]\n",
    "    cookies_count = int(cookies_count.replace(\",\", \"\"))\n",
    "\n",
    "    for i in range(4):\n",
    "        try:\n",
    "            price_el = driver.find_element(By.ID, product_price_prefix + str(i)).text.replace(\",\", \"\")\n",
    "            if not price_el.isdigit():\n",
    "                continue\n",
    "            price = int(price_el)\n",
    "\n",
    "            if cookies_count >= price:\n",
    "                driver.find_element(By.ID, product_prefix + str(i)).click()\n",
    "                break\n",
    "        except:\n",
    "            continue\n"
   ]
  },
  {
   "cell_type": "markdown",
   "id": "f0632e1b",
   "metadata": {},
   "source": [
    "## Explicando o Código\n",
    "\n",
    "Esse código tenta automatizar o jogo Cookie Clicker acessando diretamente o site e adicionando manualmente o cookie `cf_clearance`, que é gerado quando você resolve o CAPTCHA da Cloudflare manualmente. A lógica é parecida com a usada para burlar o CAPTCHA do Google: camuflar o navegador como humano com user-agent, abrir o site previamente e inserir o cookie de autorização. No entanto, neste caso, não funcionou como esperado porque a Cloudflare possui mecanismos de segurança mais avançados que não se limitam apenas à presença do cookie.\n",
    "\n",
    "O que acontece é que, mesmo com o cookie válido, a Cloudflare pode solicitar uma nova verificação se ela detectar que o navegador é automatizado, o que é comum com Selenium. Isso ocorre porque, além do cookie, ela analisa fatores como movimentação de mouse, tempo de resposta, headers detalhados e principalmente a presença da variável `navigator.webdriver`, que denuncia que o navegador está sendo controlado por um script. Como o código não simula comportamento humano com realismo suficiente, a Cloudflare entende que aquilo ainda pode ser um bot e reapresenta o CAPTCHA.\n",
    "\n",
    "Existem soluções profissionais para contornar isso, como o serviço Bright Data ([https://brightdata.com/](https://brightdata.com/)), que oferece acesso a proxies rotativos e ferramentas capazes de driblar detecções de bot como as da Cloudflare. No entanto, esse serviço é pago e pode ser caro para uso pessoal ou testes simples, o que fez com que essa alternativa fosse descartada aqui.\n",
    "\n",
    "![Cookie_erro](CAPTCHA.png)\n",
    "\n",
    "\n"
   ]
  },
  {
   "cell_type": "markdown",
   "id": "09245419",
   "metadata": {},
   "source": [
    "## Previsão do Tempo - Exemplo\n"
   ]
  },
  {
   "cell_type": "code",
   "execution_count": null,
   "id": "b302a43e",
   "metadata": {},
   "outputs": [
    {
     "name": "stdout",
     "output_type": "stream",
     "text": [
      "The weather in rio de janeiro is: Clouds\n",
      "The temperature in rio de janeiro is: 25ºC\n"
     ]
    }
   ],
   "source": [
    "import requests\n",
    "\n",
    "api_key = 'f059fb26f708b9fe76ffa9e2a6664e11'\n",
    "\n",
    "user_input = input(\"Enter city: \")\n",
    "\n",
    "weather_data = requests.get(\n",
    "    f\"https://api.openweathermap.org/data/2.5/weather?q={user_input}&units=metric&APPID={api_key}\")  # <- \"metric\"\n",
    "\n",
    "if weather_data.json()['cod'] == '404':\n",
    "    print(\"No City Found\")\n",
    "else:\n",
    "    weather = weather_data.json()['weather'][0]['main']\n",
    "    temp = round(weather_data.json()['main']['temp'])\n",
    "\n",
    "    print(f\"The weather in {user_input} is: {weather}\")\n",
    "    print(f\"The temperature in {user_input} is: {temp}ºC\")  \n"
   ]
  },
  {
   "cell_type": "markdown",
   "id": "49c36ae3",
   "metadata": {},
   "source": [
    "## Explicando o Código\n",
    "\n",
    "Esse código em Python realiza uma automação simples e poderosa que consulta a previsão do tempo de uma cidade específica usando a API pública do site OpenWeatherMap. A biblioteca `requests` é o principal recurso utilizado, pois permite enviar uma requisição HTTP para o endereço da API, que retorna dados atualizados em formato JSON. O OpenWeatherMap é um serviço online que disponibiliza dados meteorológicos em tempo real de milhares de cidades no mundo todo, e a API key é a chave de acesso individual que autentica o uso da plataforma para cada usuário. Essa automação é útil porque elimina a necessidade de procurar manualmente o clima no navegador, facilitando integrações com sistemas maiores, relatórios automáticos ou aplicações inteligentes. A verificação do código de resposta `'cod' == '404'` garante que o nome da cidade foi reconhecido corretamente, e, em caso positivo, o programa extrai a condição do clima e a temperatura atual, convertida diretamente em Celsius. Esse tipo de automação é um exemplo claro de como integrar APIs com scripts personalizados para coletar, tratar e exibir dados de maneira prática e rápida.\n"
   ]
  },
  {
   "cell_type": "code",
   "execution_count": null,
   "id": "1575e422",
   "metadata": {},
   "outputs": [],
   "source": [
    "import requests\n",
    "import csv\n",
    "import json\n",
    "\n",
    "api_key = 'f059fb26f708b9fe76ffa9e2a6664e11'\n",
    "country_code = input(\"Enter country code (e.g., BR, US, FR): \").strip().upper()\n",
    "\n",
    "# Carrega o arquivo de cidades\n",
    "with open(\"city.list.json\", encoding=\"utf-8\") as file:\n",
    "    all_cities = json.load(file)\n",
    "\n",
    "# Filtra cidades do país desejado\n",
    "cities_in_country = [city for city in all_cities if city[\"country\"] == country_code]\n",
    "\n",
    "# Prepara o CSV\n",
    "with open(f\"{country_code}_weather.csv\", \"w\", newline='', encoding='utf-8') as csvfile:\n",
    "    writer = csv.writer(csvfile)\n",
    "    writer.writerow([\"City\", \"Country\", \"Weather\", \"Temperature (C)\"])\n",
    "\n",
    "    for city in cities_in_country[:100]:  # Limite de 100 para evitar bloqueios de API\n",
    "        city_id = city[\"id\"]\n",
    "        name = city[\"name\"]\n",
    "\n",
    "        url = f\"https://api.openweathermap.org/data/2.5/weather?id={city_id}&appid={api_key}&units=metric\"\n",
    "        response = requests.get(url)\n",
    "        if response.status_code == 200:\n",
    "            data = response.json()\n",
    "            weather = data[\"weather\"][0][\"main\"]\n",
    "            temp = round(data[\"main\"][\"temp\"])\n",
    "            writer.writerow([name, country_code, weather, temp])\n",
    "        else:\n",
    "            print(f\"Could not fetch weather for {name}\")\n"
   ]
  },
  {
   "cell_type": "markdown",
   "id": "a15031e6",
   "metadata": {},
   "source": [
    "## Explicando o Codigo\n",
    "\n",
    "Esse código automatiza a coleta de dados climáticos de diversas cidades de um país usando a API do OpenWeatherMap e grava as informações em um arquivo CSV. Ele começa pedindo ao usuário o código do país (como BR para Brasil), e em seguida carrega um arquivo JSON chamado `city.list.json`, que contém uma lista com todas as cidades cadastradas na base de dados da OpenWeatherMap, incluindo seus nomes, identificadores e país. O arquivo JSON é essencial nesse processo porque funciona como uma base local estruturada que o código utiliza para filtrar apenas as cidades do país desejado, permitindo chamadas mais precisas e organizadas à API. A API, por sua vez, fornece as informações de temperatura e clima atual de cada cidade a partir de seu identificador único. O motivo pelo qual o código pode dar problema ao tentar consultar todas as cidades do Brasil é que a OpenWeather impõe um limite de requisições por minuto na versão gratuita (normalmente até 60 chamadas), o que significa que fazer centenas ou milhares de chamadas em sequência pode causar bloqueio temporário do IP ou falhas na execução. Além disso, sem intervalos entre as chamadas, o código corre o risco de parar de funcionar no meio da execução, perdendo parte dos dados ou gerando um CSV incompleto. Por isso, embora o script seja útil e eficiente para automatizar relatórios climáticos em escala, ele exige ajustes como pausas (`sleep`) e controle de requisições para funcionar com grandes volumes de cidades.\n",
    "\n",
    "![Planilha_clima_tempo](dados_clima.png)\n",
    "![Planilha_clima_tempo_python](planilha_clima_python.png)"
   ]
  },
  {
   "cell_type": "markdown",
   "id": "b6451b4b-cf1f-432f-ab6e-28b4127a9697",
   "metadata": {},
   "source": [
    "# Análise Automatizada de Currículos em PDF\n",
    "\n",
    "Este notebook automatiza a leitura de currículos em PDF, localizados na pasta `INF1515/curriculos`, e verifica quais candidatos mencionam instituições específicas como:\n",
    "\n",
    "- **PUC-Rio**\n",
    "- **Pontifícia Universidade Católica do Rio de Janeiro**\n",
    "\n",
    "O objetivo é filtrar automaticamente os arquivos relevantes para facilitar a triagem de candidatos.\n"
   ]
  },
  {
   "cell_type": "code",
   "execution_count": 16,
   "id": "f9a8acdb-129f-4156-98a9-8838079afa5c",
   "metadata": {},
   "outputs": [
    {
     "name": "stdout",
     "output_type": "stream",
     "text": [
      "Requirement already satisfied: pymupdf in c:\\users\\pedro\\appdata\\local\\programs\\python\\python313\\lib\\site-packages (1.26.0)\n"
     ]
    }
   ],
   "source": [
    "!pip install pymupdf"
   ]
  },
  {
   "cell_type": "code",
   "execution_count": 17,
   "id": "b3362f02-7eeb-4328-8d5b-0ee44bf04b9c",
   "metadata": {},
   "outputs": [],
   "source": [
    "import os\n",
    "import PyPDF2\n",
    "import fitz  # PyMuPDF"
   ]
  },
  {
   "cell_type": "markdown",
   "id": "65a08ec3-4191-41c3-babf-db9c6c0b8d25",
   "metadata": {},
   "source": [
    "### Leitura automática de currículos em PDF\n",
    "\n",
    "Esta automação percorre todos os arquivos PDF dentro da pasta `curriculos/` e verifica se o conteúdo menciona \"PUC-Rio\" ou \"Pontifícia Universidade Católica do Rio de Janeiro\".\n",
    "\n",
    "Se encontrar, imprime o nome do arquivo (ou salva numa lista para posterior triagem).\n"
   ]
  },
  {
   "cell_type": "code",
   "execution_count": 12,
   "id": "41073ed5-9498-47d6-a78a-442910f94448",
   "metadata": {},
   "outputs": [],
   "source": [
    "# Caminho da pasta\n",
    "pasta_curriculos = \"C:/Users/pedro/INF1515/curriculos\"\n",
    "\n",
    "# Palavras-chave para buscar nos currículos\n",
    "palavras_chave = [\"PUC-Rio\", \"Pontifícia Universidade Católica do Rio de Janeiro\"]\n"
   ]
  },
  {
   "cell_type": "code",
   "execution_count": 13,
   "id": "3c55dc55-1ab6-4d81-83ec-c42b0e66b962",
   "metadata": {},
   "outputs": [
    {
     "name": "stdout",
     "output_type": "stream",
     "text": [
      "Currículos que mencionam PUC-Rio ou equivalente:\n",
      "- candidato1.pdf\n",
      "- candidato3.pdf\n",
      "- candidato5.pdf\n"
     ]
    }
   ],
   "source": [
    "curriculos_filtrados = []\n",
    "\n",
    "for nome_arquivo in os.listdir(pasta_curriculos):\n",
    "    if nome_arquivo.endswith(\".pdf\"):\n",
    "        caminho_completo = os.path.join(pasta_curriculos, nome_arquivo)\n",
    "        doc = fitz.open(caminho_completo)\n",
    "        texto = \"\"\n",
    "        \n",
    "        for pagina in doc:\n",
    "            texto += pagina.get_text()\n",
    "        \n",
    "        if any(palavra in texto for palavra in palavras_chave):\n",
    "            curriculos_filtrados.append(nome_arquivo)\n",
    "\n",
    "# Resultado\n",
    "print(\"Currículos que mencionam PUC-Rio ou equivalente:\")\n",
    "for nome in curriculos_filtrados:\n",
    "    print(\"-\", nome)\n"
   ]
  },
  {
   "cell_type": "markdown",
   "id": "3e581e95-7780-42c5-9c79-156a5c42ebba",
   "metadata": {},
   "source": [
    "## Ultimo passo - salvar nomes candidatos num arquivo excel\n"
   ]
  },
  {
   "cell_type": "code",
   "execution_count": 18,
   "id": "9e3d564e-bf93-48c2-b3cd-1584f401a6cd",
   "metadata": {},
   "outputs": [
    {
     "name": "stdout",
     "output_type": "stream",
     "text": [
      "📄 Arquivo salvo como curriculos_filtrados.xlsx\n"
     ]
    }
   ],
   "source": [
    "import pandas as pd\n",
    "\n",
    "df = pd.DataFrame(curriculos_filtrados, columns=[\"Currículos aprovados\"])\n",
    "df.to_excel(\"curriculos_filtrados.xlsx\", index=False)\n",
    "print(\"📄 Arquivo salvo como curriculos_filtrados.xlsx\")\n"
   ]
  }
 ],
 "metadata": {
  "language_info": {
   "name": "python"
  }
 },
 "nbformat": 4,
 "nbformat_minor": 5
}
