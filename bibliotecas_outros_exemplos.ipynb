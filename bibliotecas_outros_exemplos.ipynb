{
 "cells": [
  {
   "cell_type": "markdown",
   "id": "b99ddc4f-355b-4772-9cdd-1581b64cbdc3",
   "metadata": {},
   "source": [
    "# Bibliotecas Usadas em Automatização de Processos com Python\n",
    "\n",
    "## Bibliotecas para Manipulação de Dados\n",
    "```python\n",
    "import pandas as pd  # Manipulação de tabelas e planilhas estruturadas (DataFrames)\n",
    "import numpy as np    # Cálculos matemáticos e manipulação de arrays numéricos\n",
    "```\n",
    "\n",
    "## Bibliotecas para Agendamento de Tarefas\n",
    "```python\n",
    "import schedule  # Permite agendar funções para rodar em intervalos regulares\n",
    "time.sleep(60)   # Aguarda um tempo antes de executar a próxima tarefa\n",
    "import time      # Controla o tempo de espera e repeticoes\n",
    "```\n",
    "\n",
    "## Bibliotecas para Data e Hora\n",
    "```python\n",
    "import datetime  # Trabalha com datas e horas (hoje, amanhã, prazos, etc.)\n",
    "```\n",
    "\n",
    "## Bibliotecas para Automatisar Arquivos e Pastas\n",
    "```python\n",
    "import os         # Acessa arquivos e diretórios do sistema\n",
    "import shutil     # Permite copiar e mover arquivos e pastas\n",
    "```\n",
    "\n",
    "## Bibliotecas para Coleta de Dados de Ações\n",
    "```python\n",
    "import yfinance as yf  # Biblioteca que coleta dados de mercado (Yahoo Finance)\n",
    "```\n",
    "\n",
    "## Bibliotecas para Email Automatizado\n",
    "```python\n",
    "import smtplib              # Envia emails usando protocolo SMTP\n",
    "from email.mime.text import MIMEText       # Permite montar o corpo do email\n",
    "from email.mime.multipart import MIMEMultipart  # Permite montar emails com anexo\n",
    "```\n",
    "\n",
    "## Biblioteca para Leitura de Arquivos Excel\n",
    "```python\n",
    "import openpyxl  # Leitura e escrita de arquivos .xlsx no pandas\n",
    "```\n",
    "\n",
    "## Biblioteca para Leitura de PDF\n",
    "```python\n",
    "import fitz  # PyMuPDF - para ler e extrair texto de arquivos PDF\n",
    "```\n",
    "\n",
    "## Outras Bibliotecas Adicionais\n",
    "```python\n",
    "import matplotlib.pyplot as plt  # (Caso use visualizações no futuro)\n",
    "```\n",
    "\n",
    "# Observação:\n",
    "# Algumas bibliotecas precisam ser instaladas com pip:\n",
    "# !pip install yfinance openpyxl pymupdf schedule\n",
    "\n"
   ]
  },
  {
   "cell_type": "code",
   "execution_count": null,
   "id": "8b6c79ff-dddf-49e7-ab13-cbc77c346ef2",
   "metadata": {},
   "outputs": [],
   "source": []
  }
 ],
 "metadata": {
  "kernelspec": {
   "display_name": "Python 3 (ipykernel)",
   "language": "python",
   "name": "python3"
  },
  "language_info": {
   "codemirror_mode": {
    "name": "ipython",
    "version": 3
   },
   "file_extension": ".py",
   "mimetype": "text/x-python",
   "name": "python",
   "nbconvert_exporter": "python",
   "pygments_lexer": "ipython3",
   "version": "3.13.4"
  }
 },
 "nbformat": 4,
 "nbformat_minor": 5
}
