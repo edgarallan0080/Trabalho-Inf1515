{
 "cells": [
  {
   "cell_type": "markdown",
   "id": "3108092a",
   "metadata": {},
   "source": [
    "# Biblioteca\n",
    "\n",
    "## Beautiful Soap\n",
    "\n",
    "Essa é uma biblioteca importante"
   ]
  },
  {
   "cell_type": "code",
   "execution_count": 5,
   "id": "37278286",
   "metadata": {},
   "outputs": [
    {
     "name": "stdout",
     "output_type": "stream",
     "text": [
      "Exemplo\n"
     ]
    }
   ],
   "source": [
    "print(\"Exemplo\")"
   ]
  },
  {
   "cell_type": "code",
   "execution_count": 6,
   "id": "139d8415",
   "metadata": {},
   "outputs": [
    {
     "name": "stdout",
     "output_type": "stream",
     "text": [
      "Mais um exemplo\n"
     ]
    }
   ],
   "source": [
    "print(\"Mais um exemplo\")"
   ]
  }
 ],
 "metadata": {
  "kernelspec": {
   "display_name": "Python 3",
   "language": "python",
   "name": "python3"
  },
  "language_info": {
   "codemirror_mode": {
    "name": "ipython",
    "version": 3
   },
   "file_extension": ".py",
   "mimetype": "text/x-python",
   "name": "python",
   "nbconvert_exporter": "python",
   "pygments_lexer": "ipython3",
   "version": "3.13.0"
  }
 },
 "nbformat": 4,
 "nbformat_minor": 5
}
