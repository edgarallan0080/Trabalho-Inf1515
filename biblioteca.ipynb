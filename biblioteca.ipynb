{
 "cells": [
  {
   "cell_type": "markdown",
   "id": "3108092a",
   "metadata": {},
   "source": [
    "# Biblioteca\n",
    "\n",
    "## Beautiful Soap\n",
    "\n",
    "Essa é uma biblioteca importante"
   ]
  },
  {
   "cell_type": "markdown",
   "id": "928c0040",
   "metadata": {},
   "source": [
    "### Exemplo 1"
   ]
  },
  {
   "cell_type": "code",
   "execution_count": 1,
   "id": "37278286",
   "metadata": {},
   "outputs": [
    {
     "name": "stdout",
     "output_type": "stream",
     "text": [
      "Exemplo\n"
     ]
    }
   ],
   "source": [
    "print(\"Exemplo\")"
   ]
  },
  {
   "cell_type": "markdown",
   "id": "f4299114",
   "metadata": {},
   "source": [
    "### Exemplo 2"
   ]
  },
  {
   "cell_type": "code",
   "execution_count": 2,
   "id": "139d8415",
   "metadata": {},
   "outputs": [
    {
     "name": "stdout",
     "output_type": "stream",
     "text": [
      "Mais um exemplo\n"
     ]
    }
   ],
   "source": [
    "print(\"Mais um exemplo\")"
   ]
  },
  {
   "cell_type": "markdown",
   "id": "3f67ae04",
   "metadata": {},
   "source": [
    "### Exemplo 3"
   ]
  },
  {
   "cell_type": "code",
   "execution_count": 3,
   "id": "923095f7",
   "metadata": {},
   "outputs": [
    {
     "name": "stdout",
     "output_type": "stream",
     "text": [
      "Outro exemplo\n"
     ]
    }
   ],
   "source": [
    "print(\"Outro exemplo\")\n"
   ]
  },
  {
   "cell_type": "markdown",
   "id": "886d27b1",
   "metadata": {},
   "source": [
    "Explicando o Exemplo"
   ]
  }
 ],
 "metadata": {
  "kernelspec": {
   "display_name": "Python 3",
   "language": "python",
   "name": "python3"
  },
  "language_info": {
   "codemirror_mode": {
    "name": "ipython",
    "version": 3
   },
   "file_extension": ".py",
   "mimetype": "text/x-python",
   "name": "python",
   "nbconvert_exporter": "python",
   "pygments_lexer": "ipython3",
   "version": "3.13.0"
  }
 },
 "nbformat": 4,
 "nbformat_minor": 5
}
