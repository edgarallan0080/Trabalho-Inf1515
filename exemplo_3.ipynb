{
 "cells": [
  {
   "cell_type": "markdown",
   "id": "6944a06a",
   "metadata": {},
   "source": [
    "# Exemplo 3\n",
    "\n",
    "Explicando exemplo 3"
   ]
  },
  {
   "cell_type": "code",
   "execution_count": 1,
   "id": "d79ecd01",
   "metadata": {},
   "outputs": [
    {
     "name": "stdout",
     "output_type": "stream",
     "text": [
      "Codigo do Exemplo 3\n"
     ]
    }
   ],
   "source": [
    "print(\"Codigo do Exemplo 3\")"
   ]
  }
 ],
 "metadata": {
  "kernelspec": {
   "display_name": "Python 3",
   "language": "python",
   "name": "python3"
  },
  "language_info": {
   "codemirror_mode": {
    "name": "ipython",
    "version": 3
   },
   "file_extension": ".py",
   "mimetype": "text/x-python",
   "name": "python",
   "nbconvert_exporter": "python",
   "pygments_lexer": "ipython3",
   "version": "3.13.0"
  }
 },
 "nbformat": 4,
 "nbformat_minor": 5
}
