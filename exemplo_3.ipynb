{
 "cells": [
  {
   "cell_type": "markdown",
   "id": "6944a06a",
   "metadata": {},
   "source": [
    "# Extraindo Informações de Currículos - Exemplos\n",
    "\n",
    "https://www.youtube.com/watch?v=s8XjEuplx_U&t=6405s&ab_channel=freeCodeCamp.org\n"
   ]
  },
  {
   "cell_type": "code",
   "execution_count": 1,
   "id": "d79ecd01",
   "metadata": {},
   "outputs": [
    {
     "name": "stdout",
     "output_type": "stream",
     "text": [
      "Codigo\n"
     ]
    }
   ],
   "source": [
    "print(\"Codigo\")"
   ]
  }
 ],
 "metadata": {
  "kernelspec": {
   "display_name": "Python 3",
   "language": "python",
   "name": "python3"
  },
  "language_info": {
   "codemirror_mode": {
    "name": "ipython",
    "version": 3
   },
   "file_extension": ".py",
   "mimetype": "text/x-python",
   "name": "python",
   "nbconvert_exporter": "python",
   "pygments_lexer": "ipython3",
   "version": "3.13.0"
  }
 },
 "nbformat": 4,
 "nbformat_minor": 5
}
