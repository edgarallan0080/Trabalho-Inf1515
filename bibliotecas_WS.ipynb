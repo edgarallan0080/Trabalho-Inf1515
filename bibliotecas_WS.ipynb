{
 "cells": [
  {
   "cell_type": "markdown",
   "id": "3108092a",
   "metadata": {},
   "source": [
    "# Biblioteca\n",
    "\n",
    "## Beautiful Soap\n",
    "\n",
    "Beautifulsoup4 é uma biblioteca do Python usada para extrair e manipular dados de arquivos HTML e XML, facilitando a navegação pela estrutura do documento, a busca por tags específicas e a coleta de informações de forma eficiente, especialmente em tarefas de web scraping. Ela funciona em conjunto com bibliotecas como requests, que fazem o download do conteúdo da página.\n",
    "\n",
    "\n",
    "## Requests\n",
    "\n",
    "A biblioteca requests é uma ferramenta poderosa e fácil de usar no Python para enviar requisições HTTP, permitindo que seu programa interaja com sites e APIs de forma automatizada. Com ela, é possível acessar o conteúdo de páginas da web, enviar dados por formulários, fazer login automático, baixar arquivos e consumir dados em formato JSON, tudo isso com poucas linhas de código. Sua importância na automatização de processos está em permitir que scripts interajam diretamente com a internet, seja para coletar informações, enviar atualizações ou integrar sistemas, substituindo tarefas manuais de navegação e preenchimento de dados.\n"
   ]
  },
  {
   "cell_type": "markdown",
   "id": "0b578ebe",
   "metadata": {},
   "source": [
    "## Selenium\n",
    "\n",
    "A biblioteca Selenium é uma ferramenta do Python que permite controlar um navegador da web de forma automatizada, como se fosse um usuário real, sendo especialmente útil para interagir com páginas que carregam conteúdo dinamicamente por JavaScript. Com ela, é possível abrir sites, clicar em botões, preencher formulários, rolar páginas e capturar dados que só aparecem após a renderização completa do navegador. Sua importância para a automatização de processos está no fato de que muitos sites modernos não disponibilizam seu conteúdo diretamente no HTML bruto, exigindo que o navegador seja manipulado para que as informações fiquem visíveis e acessíveis ao scraper ou robô.\n",
    "\n",
    "\n",
    "\n",
    "\n",
    "\n",
    "\n",
    "\n"
   ]
  },
  {
   "cell_type": "markdown",
   "id": "990a19e5",
   "metadata": {},
   "source": [
    "## Exemplo\n",
    "\n",
    "Abaixo está um exemplo simples de como usar a biblioteca beautifulsoup4 (importada como bs4) junto com requests para automatizar o processo de coleta de manchetes de uma página de notícias (exemplo: G1, BBC, etc). "
   ]
  },
  {
   "cell_type": "code",
   "execution_count": null,
   "id": "4623e022",
   "metadata": {},
   "outputs": [
    {
     "name": "stdout",
     "output_type": "stream",
     "text": [
      "1. Zambelli chegou hoje à Itália, antes de ser incluída na lista da Interpol\n",
      "2. Quem são as brasileiras procuradas pela Interpol, além de Zambelli\n",
      "3. Musk está irritado porque 'mandato do carro elétrico' acabou, diz Trump\n",
      "4. Nem Lula, nem Bolsonaro: Quaest mostra alta rejeição a candidaturas\n",
      "5. OCTAVIO GUEDES: antipetismo já é maior que o bolsonarismo\n",
      "6. Com forte escolta, Marcola é levado para fazer exames em hospital no DF\n",
      "7. Ladrões invadem casa com controle de portão clonado e matam empresário\n",
      "8. Prova de matemática tira do sério alunos de escola pública; tente resolver\n"
     ]
    }
   ],
   "source": [
    "from selenium import webdriver\n",
    "from selenium.webdriver.chrome.service import Service\n",
    "from selenium.webdriver.chrome.options import Options\n",
    "from bs4 import BeautifulSoup\n",
    "import time\n",
    "\n",
    "# Configurações do navegador (modo invisível)\n",
    "options = Options()\n",
    "options.add_argument(\"--headless\")\n",
    "\n",
    "# Caminho para o seu ChromeDriver\n",
    "driver = webdriver.Chrome(options=options)\n",
    "\n",
    "# Abre o site\n",
    "driver.get(\"https://g1.globo.com/\")\n",
    "\n",
    "# Espera o conteúdo carregar\n",
    "time.sleep(5)\n",
    "\n",
    "# Coleta o HTML da página renderizada\n",
    "html = driver.page_source\n",
    "driver.quit()\n",
    "\n",
    "# Faz o parse com BeautifulSoup\n",
    "soup = BeautifulSoup(html, \"html.parser\")\n",
    "\n",
    "# Aqui testamos uma das classes comuns das manchetes do G1\n",
    "manchetes = soup.find_all(\"a\", class_=\"feed-post-link\")\n",
    "\n",
    "# Exibe as manchetes\n",
    "for i, m in enumerate(manchetes[:10], 1):\n",
    "    print(f\"{i}. {m.text.strip()}\")\n",
    "\n"
   ]
  },
  {
   "cell_type": "markdown",
   "id": "a896813e",
   "metadata": {},
   "source": [
    "## O que está acontecendo nesse código ?\n",
    "\n",
    "O Selenium está nos permitindo controlar um navegador automaticamente e o codigo Webdriver permite que o Selenium abra o navegador, neste caso o Chrome. O Options() nos estamos usando para definir componentes especiais como: \"Definir um idioma\", \"Bloquear Notificações\" e \"Mudar o tamanho da Janela\". \n",
    "\n",
    "Vemos isso em -> options.add_argument(\"--headless\"), quero que rode em segundo plano sem abrir a janela. \n",
    "\n",
    "Usamos o Service para configurar caminhos, logs, tempo de espera, etc., mas no meu código atual ele não está sendo usado diretamente (ou seja, a importação está sobrando por enquanto).\n",
    "\n",
    "O ponto principal é este aqui -> soup = BeautifulSoup(html, \"html.parser\"). O \"html.parser\" é o argumento que indica qual interpretador (parser) será usado para entender o HTML.\n"
   ]
  },
  {
   "cell_type": "markdown",
   "id": "3f6e2c8b",
   "metadata": {},
   "source": [
    "## Importante Lembrete\n",
    "\n",
    "O caso exemplificado acima foi feito apenas para explicar umas das bibliotecas mais importantes para se fazer Automatização de Processos todavia, o exemplo é um caso clássico de Web Scraping, que é apenas um SUBTIPO de uma categoria mais ampla. "
   ]
  }
 ],
 "metadata": {
  "kernelspec": {
   "display_name": "Python 3",
   "language": "python",
   "name": "python3"
  },
  "language_info": {
   "codemirror_mode": {
    "name": "ipython",
    "version": 3
   },
   "file_extension": ".py",
   "mimetype": "text/x-python",
   "name": "python",
   "nbconvert_exporter": "python",
   "pygments_lexer": "ipython3",
   "version": "3.13.0"
  }
 },
 "nbformat": 4,
 "nbformat_minor": 5
}
