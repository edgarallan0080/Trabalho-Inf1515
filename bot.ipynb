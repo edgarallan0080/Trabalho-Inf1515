{
 "cells": [
  {
   "cell_type": "markdown",
   "id": "cf6e80c0",
   "metadata": {},
   "source": [
    "## Introdução\n",
    "\n",
    "Um robo ou RPA (Robotic process automation), usa tecnologias de automação para fazer tarefas repetitivas como por exemplo, extração de dados, preenchimento de formularios, filtragem de arquivos e etc. \n",
    "\n",
    "RPA combina APIs e interações com a interface do usuário para integrar e executar tarefas repetitivas entre sistemas corporativos e aplicativos de produtividade. Utilizando scripts que imitam processos humanos, as ferramentas de RPA conseguem executar de forma autônoma diversas atividades e transações em sistemas de software diferentes. Essa automação, baseada em regras, realiza tarefas de negócios em grande escala, liberando os funcionários para se concentrarem em tarefas mais complexas. Com isso, os gestores de TI conseguem acelerar a transformação digital da empresa e obter um retorno maior sobre o investimento em sua equipe.\n",
    "\n",
    "\n"
   ]
  },
  {
   "cell_type": "markdown",
   "id": "151d97fe",
   "metadata": {},
   "source": [
    "## Diferença entre RPA e IA\n",
    "\n",
    "Automação robótica de processos (RPA) é frequentemente confundida com inteligência artificial (IA), mas as duas são diferentes. A IA envolve automação cognitiva, aprendizado de máquina, processamento de linguagem natural, raciocínio e análise de hipóteses, enquanto o RPA é orientado por processos definidos por humanos. A principal diferença é que o RPA segue regras e rotinas pré-estabelecidas, enquanto a IA aprende a partir de dados, especialmente não estruturados, e simula a inteligência humana. Ainda assim, RPA e IA se complementam bem: a IA torna o RPA mais completo e capaz de lidar com situações mais complexas, enquanto o RPA permite aplicar os insights da IA de forma mais ágil, sem depender de ações manuais."
   ]
  },
  {
   "cell_type": "markdown",
   "id": "d8365f88",
   "metadata": {},
   "source": [
    "## Como funciona ? \n",
    "\n",
    "Ferramentas de RPA precisam ter capacidades essenciais como recursos de baixo código para criação de scripts, integração com aplicativos corporativos e ferramentas de orquestração e administração, incluindo configuração, monitoramento e segurança. A tecnologia de automação, como o RPA, também pode acessar informações em sistemas legados, integrando-se com outros aplicativos por meio de interfaces front-end, o que permite que a automação atue como um trabalhador humano, realizando tarefas rotineiras como login e copiar-colar entre sistemas. Embora conexões de back-end também contribuam, o verdadeiro valor do RPA está na rapidez e simplicidade das integrações de front-end.\n",
    "\n",
    "##### Anotação\n",
    "\n",
    "Front-end se refere ao Layer no qual o usuário irá interagir com o programa e Backend será o gerenciamento de dados e processos que ocorrem no programa."
   ]
  },
  {
   "cell_type": "markdown",
   "id": "b0497e07",
   "metadata": {},
   "source": [
    "## Vantagens de se utilizar um RPA ou Bot\n",
    "\n",
    "\n",
    "* Menos necessidade de programação: o RPA pode ser configurado sem exigir um desenvolvedor, já que as interfaces possuem funções de arrastar e soltar, facilitando o uso por pessoas não técnicas.\n",
    "* Economia rápida de custos: ao reduzir a carga de trabalho das equipes, o RPA permite realocar funcionários para tarefas prioritárias que exigem intervenção humana, aumentando a produtividade e o retorno sobre o investimento.\n",
    "* Maior satisfação do cliente: bots e chatbots funcionam 24 horas por dia, o que diminui o tempo de espera e melhora a experiência do cliente.\n",
    "* Melhora no moral dos funcionários: ao remover tarefas repetitivas e de alto volume, o RPA permite que os colaboradores se concentrem em decisões mais estratégicas, o que contribui para o bem-estar no trabalho.\n",
    "* Maior precisão e conformidade: como os robôs seguem fluxos de trabalho e regras pré-definidas, os erros humanos são reduzidos, especialmente em tarefas que exigem precisão e aderência a normas regulatórias. O RPA também gera trilhas de auditoria, facilitando o acompanhamento e a resolução de problemas.\n",
    "* Sistemas existentes continuam funcionando: como os bots operam na camada de apresentação dos aplicativos, não há interrupção nos sistemas existentes, o que permite o uso do RPA mesmo sem APIs ou integrações complexas.\n"
   ]
  },
  {
   "cell_type": "code",
   "execution_count": 13,
   "id": "300bd06e",
   "metadata": {},
   "outputs": [
    {
     "name": "stdout",
     "output_type": "stream",
     "text": [
      "✅ Bot executado com sucesso!\n"
     ]
    }
   ],
   "source": [
    "import pyautogui\n",
    "import time\n",
    "import webbrowser\n",
    "import pygetwindow as gw\n",
    "\n",
    "# Etapa 1: Abre o navegador com o Google\n",
    "webbrowser.open(\"https://www.google.com\")\n",
    "time.sleep(5)  # Aguarda o navegador abrir\n",
    "\n",
    "# Etapa 2: Garante que a janela do navegador esteja em foco\n",
    "janela_google = None\n",
    "for janela in gw.getAllWindows():\n",
    "    if \"Google\" in janela.title:\n",
    "        janela_google = janela\n",
    "        break\n",
    "\n",
    "if janela_google:\n",
    "    janela_google.activate()\n",
    "    time.sleep(1)\n",
    "\n",
    "# Etapa 3: Digita uma pesquisa no Google\n",
    "pyautogui.write(\"Como criar um bot em Python\", interval=0.1)\n",
    "pyautogui.press(\"enter\")\n",
    "\n",
    "print(\"✅ Bot executado com sucesso!\")\n"
   ]
  },
  {
   "cell_type": "markdown",
   "id": "1130bb7f",
   "metadata": {},
   "source": [
    "## O que o codigo está fazendo ?\n",
    "\n",
    "Esse Bot esta simulando o comportamento humano, que é um típico exemplo de RPA. \n",
    "\n",
    "A automatização é relacionado com parte de que não precisamos clicar no aplicativo e nem fazer a pesquisa para que ela seja feita. O nosso codigo ja faz isso para gente.\n",
    "\n",
    "![Pesquisa Inteligente](pesquisa.png)\n"
   ]
  },
  {
   "cell_type": "markdown",
   "id": "6a9b31ba",
   "metadata": {},
   "source": [
    "## Bot - Preenchimento de Formulários em PDF\n",
    "\n",
    "Como eu havia mencionado, automatização de processos cobre muita coisa e é entender que um Bot está simulando o comportamento humano. É como se Bots fossem um subconjunto de processos automatizados. \n",
    "\n",
    "Com isso em mente, um importante exemplo seria como poderiamos automatizar o preenchimento de requerimentos padronizados. \n",
    "\n",
    "\n",
    "Vamos supor que voce esta trabalhando em uma empresa e precisa preencher a documentação de milhares de clientes. Tal tarefa é impossível a não ser que esta seja automatizada.  \n",
    "\n",
    "O RPA pode ajudar a preencher documentos em PDF de milhares de clientes ao automatizar o processo repetitivo de inserir informações específicas em campos de formulários, eliminando a necessidade de preenchimento manual. O pacote fillpdf facilita essa tarefa ao permitir ler campos editáveis de um PDF e preenchê-los automaticamente com dados extraídos de planilhas, bancos de dados ou formulários online. A automatização é importante nesse caso porque reduz drasticamente o tempo necessário para lidar com grandes volumes de documentos, evita erros humanos e garante consistência nas respostas. \n"
   ]
  },
  {
   "cell_type": "code",
   "execution_count": 12,
   "id": "b1f04271",
   "metadata": {},
   "outputs": [
    {
     "name": "stdout",
     "output_type": "stream",
     "text": [
      "✅ PDF salvo em: contratos\\509650.pdf\n",
      "✅ PDF salvo em: contratos\\815840.pdf\n",
      "✅ PDF salvo em: contratos\\688187.pdf\n",
      "✅ PDF salvo em: contratos\\960687.pdf\n",
      "✅ PDF salvo em: contratos\\336477.pdf\n",
      "✅ PDF salvo em: contratos\\248530.pdf\n",
      "✅ PDF salvo em: contratos\\660415.pdf\n",
      "✅ PDF salvo em: contratos\\345504.pdf\n",
      "✅ PDF salvo em: contratos\\990097.pdf\n",
      "✅ PDF salvo em: contratos\\370010.pdf\n",
      "✅ PDF salvo em: contratos\\154683.pdf\n",
      "✅ PDF salvo em: contratos\\422853.pdf\n",
      "✅ PDF salvo em: contratos\\735868.pdf\n",
      "✅ PDF salvo em: contratos\\535256.pdf\n",
      "✅ PDF salvo em: contratos\\884348.pdf\n",
      "✅ PDF salvo em: contratos\\406246.pdf\n",
      "✅ PDF salvo em: contratos\\614906.pdf\n",
      "✅ PDF salvo em: contratos\\902719.pdf\n",
      "✅ PDF salvo em: contratos\\418041.pdf\n",
      "✅ PDF salvo em: contratos\\585451.pdf\n",
      "✅ PDF salvo em: contratos\\469734.pdf\n",
      "✅ PDF salvo em: contratos\\264694.pdf\n",
      "✅ PDF salvo em: contratos\\412329.pdf\n",
      "✅ PDF salvo em: contratos\\266343.pdf\n",
      "✅ PDF salvo em: contratos\\845602.pdf\n",
      "✅ PDF salvo em: contratos\\136652.pdf\n",
      "✅ PDF salvo em: contratos\\730848.pdf\n",
      "✅ PDF salvo em: contratos\\187963.pdf\n",
      "✅ PDF salvo em: contratos\\224270.pdf\n",
      "✅ PDF salvo em: contratos\\430324.pdf\n",
      "✅ PDF salvo em: contratos\\184968.pdf\n",
      "✅ PDF salvo em: contratos\\440380.pdf\n",
      "✅ PDF salvo em: contratos\\683792.pdf\n",
      "✅ PDF salvo em: contratos\\566028.pdf\n",
      "✅ PDF salvo em: contratos\\462564.pdf\n",
      "✅ PDF salvo em: contratos\\500176.pdf\n",
      "✅ PDF salvo em: contratos\\104202.pdf\n",
      "✅ PDF salvo em: contratos\\995769.pdf\n",
      "✅ PDF salvo em: contratos\\964585.pdf\n",
      "✅ PDF salvo em: contratos\\647125.pdf\n",
      "✅ PDF salvo em: contratos\\408410.pdf\n",
      "✅ PDF salvo em: contratos\\254564.pdf\n",
      "✅ PDF salvo em: contratos\\731912.pdf\n",
      "✅ PDF salvo em: contratos\\389318.pdf\n",
      "✅ PDF salvo em: contratos\\316943.pdf\n",
      "✅ PDF salvo em: contratos\\867286.pdf\n",
      "✅ PDF salvo em: contratos\\541554.pdf\n",
      "✅ PDF salvo em: contratos\\843593.pdf\n",
      "✅ PDF salvo em: contratos\\870973.pdf\n",
      "✅ PDF salvo em: contratos\\822902.pdf\n",
      "\n",
      "🎉 Todos os contratos foram gerados dentro da pasta 'contratos'.\n"
     ]
    }
   ],
   "source": [
    "import pandas as pd\n",
    "from fillpdf import fillpdfs\n",
    "import os\n",
    "\n",
    "# Caminhos principais\n",
    "csv_path = 'consumidores_2025.csv'\n",
    "pdf_template = 'template.pdf'\n",
    "pasta_destino = 'contratos'\n",
    "\n",
    "# Cria a pasta 'contratos' se ela não existir\n",
    "os.makedirs(pasta_destino, exist_ok=True)\n",
    "\n",
    "# Lê a base de dados\n",
    "df = pd.read_csv(csv_path)\n",
    "\n",
    "# Loop em todos os consumidores\n",
    "for _, linha in df.iterrows():\n",
    "    consumidor_id = str(linha['Consumidor ID'])\n",
    "    checkbox_valor = 'Yes_powo' if linha['Resposta'].strip().lower() == 'sim' else ''\n",
    "\n",
    "    # Campos mapeados corretamente\n",
    "    dados = {\n",
    "        'text_1tmad': consumidor_id,\n",
    "        'text_2died': linha['Endereco'],\n",
    "        'text_3csay': str(linha['Preco']),\n",
    "        'text_4bnax': linha['Data'],\n",
    "        'checkbox_5dhjs': checkbox_valor\n",
    "    }\n",
    "\n",
    "    # Define caminho completo para salvar dentro da pasta\n",
    "    nome_arquivo = os.path.join(pasta_destino, f\"{consumidor_id}.pdf\")\n",
    "\n",
    "    # Preenche e salva\n",
    "    fillpdfs.write_fillable_pdf(pdf_template, nome_arquivo, dados)\n",
    "\n",
    "    print(f\"✅ PDF salvo em: {nome_arquivo}\")\n",
    "\n",
    "print(\"\\n🎉 Todos os contratos foram gerados dentro da pasta 'contratos'.\")\n"
   ]
  },
  {
   "cell_type": "markdown",
   "id": "197330ff",
   "metadata": {},
   "source": [
    "### Sobre o codigo acima: \n",
    "\n",
    "Esse código automatiza o preenchimento de formulários PDF a partir de dados contidos em uma planilha, simulando o trabalho de um robô que lê, interpreta e preenche documentos para dezenas de clientes sem intervenção humana. Ele percorre cada linha da base de dados, extrai informações relevantes, preenche os campos corretos em um template de contrato e salva cada arquivo em uma pasta organizada, como se um funcionário estivesse fazendo manualmente, mas de forma totalmente automática e rápida. Métodos como esse são importantes porque reduzem drasticamente o tempo gasto em tarefas repetitivas, evitam erros de digitação, padronizam documentos e aumentam a eficiência operacional da empresa, liberando os profissionais para focarem em decisões mais estratégicas.\n",
    "\n",
    "![Contrato preenchido](contrato_exemplo.png)\n",
    "\n"
   ]
  }
 ],
 "metadata": {
  "kernelspec": {
   "display_name": "Python 3",
   "language": "python",
   "name": "python3"
  },
  "language_info": {
   "codemirror_mode": {
    "name": "ipython",
    "version": 3
   },
   "file_extension": ".py",
   "mimetype": "text/x-python",
   "name": "python",
   "nbconvert_exporter": "python",
   "pygments_lexer": "ipython3",
   "version": "3.13.0"
  }
 },
 "nbformat": 4,
 "nbformat_minor": 5
}
