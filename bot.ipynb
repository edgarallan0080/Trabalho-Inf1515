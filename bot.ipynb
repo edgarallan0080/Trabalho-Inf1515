{
 "cells": [
  {
   "cell_type": "markdown",
   "id": "cf6e80c0",
   "metadata": {},
   "source": [
    "# Introdução\n",
    "\n",
    "O que é um robo ? Como isso pode nos ajudar com o processo de automatização em python ? O que podemos fazer com um robo ? Quais são os principais tipos de robos usados, sua classificações e parametros ? Mostrar exemplos simples de robos em Python."
   ]
  }
 ],
 "metadata": {
  "language_info": {
   "name": "python"
  }
 },
 "nbformat": 4,
 "nbformat_minor": 5
}
