{
 "cells": [
  {
   "cell_type": "markdown",
   "id": "cf6e80c0",
   "metadata": {},
   "source": [
    "## Introdução\n",
    "\n",
    "Um robo ou RPA (Robotic process automation), usa tecnologias de automação para fazer tarefas repetitivas como por exemplo, extração de dados, preenchimento de formularios, filtragem de arquivos e etc. \n",
    "\n",
    "RPA combina APIs e interações com a interface do usuário para integrar e executar tarefas repetitivas entre sistemas corporativos e aplicativos de produtividade. Utilizando scripts que imitam processos humanos, as ferramentas de RPA conseguem executar de forma autônoma diversas atividades e transações em sistemas de software diferentes. Essa automação, baseada em regras, realiza tarefas de negócios em grande escala, liberando os funcionários para se concentrarem em tarefas mais complexas. Com isso, os gestores de TI conseguem acelerar a transformação digital da empresa e obter um retorno maior sobre o investimento em sua equipe.\n",
    "\n",
    "\n"
   ]
  },
  {
   "cell_type": "markdown",
   "id": "151d97fe",
   "metadata": {},
   "source": [
    "## Diferença entre RPA e IA\n",
    "\n",
    "Automação robótica de processos (RPA) é frequentemente confundida com inteligência artificial (IA), mas as duas são diferentes. A IA envolve automação cognitiva, aprendizado de máquina, processamento de linguagem natural, raciocínio e análise de hipóteses, enquanto o RPA é orientado por processos definidos por humanos. A principal diferença é que o RPA segue regras e rotinas pré-estabelecidas, enquanto a IA aprende a partir de dados, especialmente não estruturados, e simula a inteligência humana. Ainda assim, RPA e IA se complementam bem: a IA torna o RPA mais completo e capaz de lidar com situações mais complexas, enquanto o RPA permite aplicar os insights da IA de forma mais ágil, sem depender de ações manuais."
   ]
  },
  {
   "cell_type": "markdown",
   "id": "d8365f88",
   "metadata": {},
   "source": [
    "## Como funciona ? \n",
    "\n",
    "Ferramentas de RPA precisam ter capacidades essenciais como recursos de baixo código para criação de scripts, integração com aplicativos corporativos e ferramentas de orquestração e administração, incluindo configuração, monitoramento e segurança. A tecnologia de automação, como o RPA, também pode acessar informações em sistemas legados, integrando-se com outros aplicativos por meio de interfaces front-end, o que permite que a automação atue como um trabalhador humano, realizando tarefas rotineiras como login e copiar-colar entre sistemas. Embora conexões de back-end também contribuam, o verdadeiro valor do RPA está na rapidez e simplicidade das integrações de front-end.\n",
    "\n",
    "##### Anotação\n",
    "\n",
    "Front-end se refere ao Layer no qual o usuário irá interagir com o programa e Backend será o gerenciamento de dados e processos que ocorrem no programa."
   ]
  },
  {
   "cell_type": "markdown",
   "id": "b0497e07",
   "metadata": {},
   "source": [
    "## Vantagens de se utilizar um RPA ou Bot\n",
    "\n",
    "\n",
    "* Menos necessidade de programação: o RPA pode ser configurado sem exigir um desenvolvedor, já que as interfaces possuem funções de arrastar e soltar, facilitando o uso por pessoas não técnicas.\n",
    "* Economia rápida de custos: ao reduzir a carga de trabalho das equipes, o RPA permite realocar funcionários para tarefas prioritárias que exigem intervenção humana, aumentando a produtividade e o retorno sobre o investimento.\n",
    "* Maior satisfação do cliente: bots e chatbots funcionam 24 horas por dia, o que diminui o tempo de espera e melhora a experiência do cliente.\n",
    "* Melhora no moral dos funcionários: ao remover tarefas repetitivas e de alto volume, o RPA permite que os colaboradores se concentrem em decisões mais estratégicas, o que contribui para o bem-estar no trabalho.\n",
    "* Maior precisão e conformidade: como os robôs seguem fluxos de trabalho e regras pré-definidas, os erros humanos são reduzidos, especialmente em tarefas que exigem precisão e aderência a normas regulatórias. O RPA também gera trilhas de auditoria, facilitando o acompanhamento e a resolução de problemas.\n",
    "* Sistemas existentes continuam funcionando: como os bots operam na camada de apresentação dos aplicativos, não há interrupção nos sistemas existentes, o que permite o uso do RPA mesmo sem APIs ou integrações complexas.\n"
   ]
  },
  {
   "cell_type": "code",
   "execution_count": 1,
   "id": "300bd06e",
   "metadata": {},
   "outputs": [
    {
     "name": "stdout",
     "output_type": "stream",
     "text": [
      "✅ Bot executado com sucesso!\n"
     ]
    }
   ],
   "source": [
    "import pyautogui\n",
    "import time\n",
    "import webbrowser\n",
    "import pygetwindow as gw\n",
    "\n",
    "# Etapa 1: Abre o navegador com o Google\n",
    "webbrowser.open(\"https://www.google.com\")\n",
    "time.sleep(5)  # Aguarda o navegador abrir\n",
    "\n",
    "# Etapa 2: Garante que a janela do navegador esteja em foco\n",
    "janela_google = None\n",
    "for janela in gw.getAllWindows():\n",
    "    if \"Google\" in janela.title:\n",
    "        janela_google = janela\n",
    "        break\n",
    "\n",
    "if janela_google:\n",
    "    janela_google.activate()\n",
    "    time.sleep(1)\n",
    "\n",
    "# Etapa 3: Digita uma pesquisa no Google\n",
    "pyautogui.write(\"Como criar um bot em Python\", interval=0.1)\n",
    "pyautogui.press(\"enter\")\n",
    "\n",
    "print(\"✅ Bot executado com sucesso!\")\n"
   ]
  },
  {
   "cell_type": "markdown",
   "id": "1130bb7f",
   "metadata": {},
   "source": [
    "## O que o codigo está fazendo ?\n",
    "\n",
    "Esse Bot esta simulando o comportamento humano, que é um típico exemplo de RPA. \n",
    "\n",
    "A automatização é relacionado com parte de que não precisamos clicar no aplicativo e nem fazer a pesquisa para que ela seja feita. O nosso codigo ja faz isso para gente."
   ]
  }
 ],
 "metadata": {
  "kernelspec": {
   "display_name": "Python 3",
   "language": "python",
   "name": "python3"
  },
  "language_info": {
   "codemirror_mode": {
    "name": "ipython",
    "version": 3
   },
   "file_extension": ".py",
   "mimetype": "text/x-python",
   "name": "python",
   "nbconvert_exporter": "python",
   "pygments_lexer": "ipython3",
   "version": "3.13.0"
  }
 },
 "nbformat": 4,
 "nbformat_minor": 5
}
