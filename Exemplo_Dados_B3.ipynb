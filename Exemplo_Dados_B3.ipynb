{
 "cells": [
  {
   "cell_type": "markdown",
   "id": "68ca8131",
   "metadata": {},
   "source": [
    "# Extraindo Dados da B3 - Exemplo\n",
    "\n",
    "Vamos ter que improvisar nesse. Seria interessante extrair os dados e armazenar em uma base de dados sem a necessidade de uma intervenção humana. "
   ]
  },
  {
   "cell_type": "code",
   "execution_count": 3,
   "id": "23221fca",
   "metadata": {},
   "outputs": [
    {
     "name": "stdout",
     "output_type": "stream",
     "text": [
      "Codigo\n"
     ]
    }
   ],
   "source": [
    "print(\"Codigo\")"
   ]
  }
 ],
 "metadata": {
  "kernelspec": {
   "display_name": "Python 3",
   "language": "python",
   "name": "python3"
  },
  "language_info": {
   "codemirror_mode": {
    "name": "ipython",
    "version": 3
   },
   "file_extension": ".py",
   "mimetype": "text/x-python",
   "name": "python",
   "nbconvert_exporter": "python",
   "pygments_lexer": "ipython3",
   "version": "3.13.0"
  }
 },
 "nbformat": 4,
 "nbformat_minor": 5
}
